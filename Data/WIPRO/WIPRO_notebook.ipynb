{
 "cells": [
  {
   "cell_type": "code",
   "execution_count": 1,
   "id": "a986cbe3",
   "metadata": {
    "_cell_guid": "b1076dfc-b9ad-4769-8c92-a6c4dae69d19",
    "_uuid": "8f2839f25d086af736a60e9eeb907d3b93b6e0e5",
    "execution": {
     "iopub.execute_input": "2022-03-23T21:45:28.441676Z",
     "iopub.status.busy": "2022-03-23T21:45:28.440139Z",
     "iopub.status.idle": "2022-03-23T21:45:29.985188Z",
     "shell.execute_reply": "2022-03-23T21:45:29.985843Z",
     "shell.execute_reply.started": "2022-03-23T21:43:39.406192Z"
    },
    "papermill": {
     "duration": 1.561952,
     "end_time": "2022-03-23T21:45:29.986184",
     "exception": false,
     "start_time": "2022-03-23T21:45:28.424232",
     "status": "completed"
    },
    "tags": []
   },
   "outputs": [],
   "source": [
    "import pandas as pd\n",
    "import numpy as np\n",
    "import matplotlib.pyplot as plt\n",
    "import statsmodels.api as sm\n",
    "import joblib"
   ]
  },
  {
   "cell_type": "code",
   "execution_count": 2,
   "id": "7bcf8609",
   "metadata": {
    "execution": {
     "iopub.execute_input": "2022-03-23T21:45:30.034051Z",
     "iopub.status.busy": "2022-03-23T21:45:30.033045Z",
     "iopub.status.idle": "2022-03-23T21:45:30.334271Z",
     "shell.execute_reply": "2022-03-23T21:45:30.334690Z",
     "shell.execute_reply.started": "2022-03-23T21:43:40.878024Z"
    },
    "papermill": {
     "duration": 0.328279,
     "end_time": "2022-03-23T21:45:30.334841",
     "exception": false,
     "start_time": "2022-03-23T21:45:30.006562",
     "status": "completed"
    },
    "tags": []
   },
   "outputs": [
    {
     "name": "stderr",
     "output_type": "stream",
     "text": [
      "/opt/conda/lib/python3.7/site-packages/statsmodels/graphics/tsaplots.py:353: FutureWarning: The default method 'yw' can produce PACF values outside of the [-1,1] interval. After 0.13, the default will change tounadjusted Yule-Walker ('ywm'). You can use this method now by setting method='ywm'.\n",
      "  FutureWarning,\n"
     ]
    },
    {
     "data": {
      "image/png": "[encoded data removed]",
      "text/plain": [
       "<Figure size 432x288 with 1 Axes>"
      ]
     },
     "metadata": {
      "needs_background": "light"
     },
     "output_type": "display_data"
    }
   ],
   "source": [
    "df = pd.read_csv(\"../input/stockpricepredictons/WIPRO.NS.csv\", usecols=[\"Date\", \"Open\", \"Adj Close\", \"High\", \"Low\"], index_col='Date',parse_dates=True)\n",
    "df = df.iloc[-800::]\n",
    "sm.graphics.tsa.plot_pacf(df[\"Open\"], lags=10)\n",
    "plt.show()"
   ]
  },
  {
   "cell_type": "code",
   "execution_count": 3,
   "id": "d82c79e3",
   "metadata": {
    "execution": {
     "iopub.execute_input": "2022-03-23T21:45:30.366271Z",
     "iopub.status.busy": "2022-03-23T21:45:30.365324Z",
     "iopub.status.idle": "2022-03-23T21:45:30.367168Z",
     "shell.execute_reply": "2022-03-23T21:45:30.367727Z",
     "shell.execute_reply.started": "2022-03-23T21:43:41.140651Z"
    },
    "papermill": {
     "duration": 0.019239,
     "end_time": "2022-03-23T21:45:30.367862",
     "exception": false,
     "start_time": "2022-03-23T21:45:30.348623",
     "status": "completed"
    },
    "tags": []
   },
   "outputs": [],
   "source": [
    "train = df"
   ]
  },
  {
   "cell_type": "code",
   "execution_count": 4,
   "id": "56875805",
   "metadata": {
    "execution": {
     "iopub.execute_input": "2022-03-23T21:45:30.398473Z",
     "iopub.status.busy": "2022-03-23T21:45:30.396054Z",
     "iopub.status.idle": "2022-03-23T21:45:30.467557Z",
     "shell.execute_reply": "2022-03-23T21:45:30.467927Z",
     "shell.execute_reply.started": "2022-03-23T21:43:41.148400Z"
    },
    "papermill": {
     "duration": 0.087307,
     "end_time": "2022-03-23T21:45:30.468076",
     "exception": false,
     "start_time": "2022-03-23T21:45:30.380769",
     "status": "completed"
    },
    "tags": []
   },
   "outputs": [
    {
     "data": {
      "text/plain": [
       "['WIPRO_scaler.pkl']"
      ]
     },
     "execution_count": 4,
     "metadata": {},
     "output_type": "execute_result"
    }
   ],
   "source": [
    "from sklearn.preprocessing import MinMaxScaler\n",
    "scaler = MinMaxScaler()\n",
    "\n",
    "scaler.fit(train)\n",
    "scaled_train = scaler.transform(train)\n",
    "joblib.dump(scaler, 'WIPRO_scaler.pkl') "
   ]
  },
  {
   "cell_type": "code",
   "execution_count": 5,
   "id": "8b3629a0",
   "metadata": {
    "execution": {
     "iopub.execute_input": "2022-03-23T21:45:30.496190Z",
     "iopub.status.busy": "2022-03-23T21:45:30.495695Z",
     "iopub.status.idle": "2022-03-23T21:45:35.166501Z",
     "shell.execute_reply": "2022-03-23T21:45:35.166915Z",
     "shell.execute_reply.started": "2022-03-23T21:43:41.231261Z"
    },
    "papermill": {
     "duration": 4.686735,
     "end_time": "2022-03-23T21:45:35.167075",
     "exception": false,
     "start_time": "2022-03-23T21:45:30.480340",
     "status": "completed"
    },
    "tags": []
   },
   "outputs": [],
   "source": [
    "from keras.preprocessing.sequence import TimeseriesGenerator"
   ]
  },
  {
   "cell_type": "code",
   "execution_count": 6,
   "id": "26524fcd",
   "metadata": {
    "execution": {
     "iopub.execute_input": "2022-03-23T21:45:35.196681Z",
     "iopub.status.busy": "2022-03-23T21:45:35.195935Z",
     "iopub.status.idle": "2022-03-23T21:45:35.198492Z",
     "shell.execute_reply": "2022-03-23T21:45:35.198033Z",
     "shell.execute_reply.started": "2022-03-23T21:43:46.095726Z"
    },
    "papermill": {
     "duration": 0.018709,
     "end_time": "2022-03-23T21:45:35.198604",
     "exception": false,
     "start_time": "2022-03-23T21:45:35.179895",
     "status": "completed"
    },
    "tags": []
   },
   "outputs": [],
   "source": [
    "# define generator\n",
    "n_input = 1\n",
    "n_features = 4\n",
    "generator = TimeseriesGenerator(scaled_train, scaled_train, length=n_input, batch_size=1)"
   ]
  },
  {
   "cell_type": "code",
   "execution_count": 7,
   "id": "528b2c06",
   "metadata": {
    "execution": {
     "iopub.execute_input": "2022-03-23T21:45:35.227764Z",
     "iopub.status.busy": "2022-03-23T21:45:35.227133Z",
     "iopub.status.idle": "2022-03-23T21:45:35.229911Z",
     "shell.execute_reply": "2022-03-23T21:45:35.230315Z",
     "shell.execute_reply.started": "2022-03-23T21:43:46.102670Z"
    },
    "papermill": {
     "duration": 0.019734,
     "end_time": "2022-03-23T21:45:35.230438",
     "exception": false,
     "start_time": "2022-03-23T21:45:35.210704",
     "status": "completed"
    },
    "tags": []
   },
   "outputs": [
    {
     "name": "stdout",
     "output_type": "stream",
     "text": [
      "Given the Array: \n",
      "[0.14786038 0.13573009 0.15019775 0.14544473]\n",
      "Predict this y: \n",
      " [[0.14571616 0.13777496 0.1526232  0.14889833]]\n"
     ]
    }
   ],
   "source": [
    "X,y = generator[0]\n",
    "print(f'Given the Array: \\n{X.flatten()}')\n",
    "print(f'Predict this y: \\n {y}')"
   ]
  },
  {
   "cell_type": "code",
   "execution_count": 8,
   "id": "324a77a8",
   "metadata": {
    "execution": {
     "iopub.execute_input": "2022-03-23T21:45:35.259443Z",
     "iopub.status.busy": "2022-03-23T21:45:35.258786Z",
     "iopub.status.idle": "2022-03-23T21:45:35.261371Z",
     "shell.execute_reply": "2022-03-23T21:45:35.260919Z",
     "shell.execute_reply.started": "2022-03-23T21:43:46.117169Z"
    },
    "papermill": {
     "duration": 0.018497,
     "end_time": "2022-03-23T21:45:35.261477",
     "exception": false,
     "start_time": "2022-03-23T21:45:35.242980",
     "status": "completed"
    },
    "tags": []
   },
   "outputs": [],
   "source": [
    "from keras.models import Sequential\n",
    "from keras.layers import Dense\n",
    "from keras.layers import LSTM"
   ]
  },
  {
   "cell_type": "code",
   "execution_count": 9,
   "id": "b2fe3007",
   "metadata": {
    "execution": {
     "iopub.execute_input": "2022-03-23T21:45:35.291024Z",
     "iopub.status.busy": "2022-03-23T21:45:35.288035Z",
     "iopub.status.idle": "2022-03-23T21:45:37.733085Z",
     "shell.execute_reply": "2022-03-23T21:45:37.733524Z",
     "shell.execute_reply.started": "2022-03-23T21:43:46.127236Z"
    },
    "papermill": {
     "duration": 2.459827,
     "end_time": "2022-03-23T21:45:37.733676",
     "exception": false,
     "start_time": "2022-03-23T21:45:35.273849",
     "status": "completed"
    },
    "tags": []
   },
   "outputs": [
    {
     "name": "stderr",
     "output_type": "stream",
     "text": [
      "2022-03-23 21:45:35.364497: I tensorflow/stream_executor/cuda/cuda_gpu_executor.cc:937] successful NUMA node read from SysFS had negative value (-1), but there must be at least one NUMA node, so returning NUMA node zero\n",
      "2022-03-23 21:45:35.451094: I tensorflow/stream_executor/cuda/cuda_gpu_executor.cc:937] successful NUMA node read from SysFS had negative value (-1), but there must be at least one NUMA node, so returning NUMA node zero\n",
      "2022-03-23 21:45:35.451843: I tensorflow/stream_executor/cuda/cuda_gpu_executor.cc:937] successful NUMA node read from SysFS had negative value (-1), but there must be at least one NUMA node, so returning NUMA node zero\n",
      "2022-03-23 21:45:35.453607: I tensorflow/core/platform/cpu_feature_guard.cc:142] This TensorFlow binary is optimized with oneAPI Deep Neural Network Library (oneDNN) to use the following CPU instructions in performance-critical operations:  AVX2 AVX512F FMA\n",
      "To enable them in other operations, rebuild TensorFlow with the appropriate compiler flags.\n",
      "2022-03-23 21:45:35.454444: I tensorflow/stream_executor/cuda/cuda_gpu_executor.cc:937] successful NUMA node read from SysFS had negative value (-1), but there must be at least one NUMA node, so returning NUMA node zero\n",
      "2022-03-23 21:45:35.455236: I tensorflow/stream_executor/cuda/cuda_gpu_executor.cc:937] successful NUMA node read from SysFS had negative value (-1), but there must be at least one NUMA node, so returning NUMA node zero\n",
      "2022-03-23 21:45:35.455945: I tensorflow/stream_executor/cuda/cuda_gpu_executor.cc:937] successful NUMA node read from SysFS had negative value (-1), but there must be at least one NUMA node, so returning NUMA node zero\n",
      "2022-03-23 21:45:37.249262: I tensorflow/stream_executor/cuda/cuda_gpu_executor.cc:937] successful NUMA node read from SysFS had negative value (-1), but there must be at least one NUMA node, so returning NUMA node zero\n",
      "2022-03-23 21:45:37.250062: I tensorflow/stream_executor/cuda/cuda_gpu_executor.cc:937] successful NUMA node read from SysFS had negative value (-1), but there must be at least one NUMA node, so returning NUMA node zero\n",
      "2022-03-23 21:45:37.250765: I tensorflow/stream_executor/cuda/cuda_gpu_executor.cc:937] successful NUMA node read from SysFS had negative value (-1), but there must be at least one NUMA node, so returning NUMA node zero\n",
      "2022-03-23 21:45:37.251384: I tensorflow/core/common_runtime/gpu/gpu_device.cc:1510] Created device /job:localhost/replica:0/task:0/device:GPU:0 with 15403 MB memory:  -> device: 0, name: Tesla P100-PCIE-16GB, pci bus id: 0000:00:04.0, compute capability: 6.0\n"
     ]
    }
   ],
   "source": [
    "# define model\n",
    "model = Sequential()\n",
    "model.add(LSTM(250, activation='relu', input_shape=(n_input, n_features),return_sequences=True))\n",
    "# model.add(LSTM(50, activation='relu', input_shape=(n_input, n_features),return_sequences=True))\n",
    "model.add(Dense(4))\n",
    "model.compile(optimizer='adam', loss='mse')"
   ]
  },
  {
   "cell_type": "code",
   "execution_count": 10,
   "id": "adb5727b",
   "metadata": {
    "execution": {
     "iopub.execute_input": "2022-03-23T21:45:37.764619Z",
     "iopub.status.busy": "2022-03-23T21:45:37.763865Z",
     "iopub.status.idle": "2022-03-23T21:46:21.067055Z",
     "shell.execute_reply": "2022-03-23T21:46:21.066598Z",
     "shell.execute_reply.started": "2022-03-23T21:43:48.792075Z"
    },
    "papermill": {
     "duration": 43.320238,
     "end_time": "2022-03-23T21:46:21.067187",
     "exception": false,
     "start_time": "2022-03-23T21:45:37.746949",
     "status": "completed"
    },
    "tags": []
   },
   "outputs": [
    {
     "name": "stderr",
     "output_type": "stream",
     "text": [
      "2022-03-23 21:45:37.815508: I tensorflow/compiler/mlir/mlir_graph_optimization_pass.cc:185] None of the MLIR Optimization Passes are enabled (registered 2)\n"
     ]
    },
    {
     "name": "stdout",
     "output_type": "stream",
     "text": [
      "Epoch 1/10\n",
      "799/799 [==============================] - 6s 5ms/step - loss: 0.0118\n",
      "Epoch 2/10\n",
      "799/799 [==============================] - 5s 6ms/step - loss: 1.9771e-04\n",
      "Epoch 3/10\n",
      "799/799 [==============================] - 4s 5ms/step - loss: 2.4833e-04\n",
      "Epoch 4/10\n",
      "799/799 [==============================] - 4s 5ms/step - loss: 2.1081e-04\n",
      "Epoch 5/10\n",
      "799/799 [==============================] - 4s 5ms/step - loss: 2.3379e-04\n",
      "Epoch 6/10\n",
      "799/799 [==============================] - 4s 5ms/step - loss: 2.7257e-04\n",
      "Epoch 7/10\n",
      "799/799 [==============================] - 4s 5ms/step - loss: 2.9023e-04\n",
      "Epoch 8/10\n",
      "799/799 [==============================] - 4s 5ms/step - loss: 2.4438e-04\n",
      "Epoch 9/10\n",
      "799/799 [==============================] - 4s 5ms/step - loss: 2.4942e-04\n",
      "Epoch 10/10\n",
      "799/799 [==============================] - 5s 6ms/step - loss: 2.2258e-04\n"
     ]
    },
    {
     "data": {
      "text/plain": [
       "<keras.callbacks.History at 0x7f24adbbe710>"
      ]
     },
     "execution_count": 10,
     "metadata": {},
     "output_type": "execute_result"
    }
   ],
   "source": [
    "# fit model\n",
    "model.fit(generator,epochs=10)"
   ]
  },
  {
   "cell_type": "code",
   "execution_count": 11,
   "id": "a9ce46cd",
   "metadata": {
    "execution": {
     "iopub.execute_input": "2022-03-23T21:46:21.590295Z",
     "iopub.status.busy": "2022-03-23T21:46:21.587109Z",
     "iopub.status.idle": "2022-03-23T21:46:21.965225Z",
     "shell.execute_reply": "2022-03-23T21:46:21.965732Z",
     "shell.execute_reply.started": "2022-03-23T21:44:32.123561Z"
    },
    "papermill": {
     "duration": 0.642607,
     "end_time": "2022-03-23T21:46:21.965916",
     "exception": false,
     "start_time": "2022-03-23T21:46:21.323309",
     "status": "completed"
    },
    "tags": []
   },
   "outputs": [
    {
     "name": "stdout",
     "output_type": "stream",
     "text": [
      "[[0.80869734 0.7864923  0.7966476  0.79654443]]\n",
      "[[615.68744 618.4709  602.814   606.67596]]\n",
      "{'clip': False, 'copy': True, 'feature_range': (0, 1)}\n"
     ]
    }
   ],
   "source": [
    "first_eval_batch = scaled_train[-n_input:]\n",
    "current_batch = first_eval_batch.reshape((1, n_input, n_features))\n",
    "current_pred = model.predict(current_batch)[0]\n",
    "print(current_pred)\n",
    "fin_pred = scaler.inverse_transform(current_pred)\n",
    "print(fin_pred)\n",
    "print(scaler.get_params(deep=True))"
   ]
  },
  {
   "cell_type": "code",
   "execution_count": 12,
   "id": "c70c2984",
   "metadata": {
    "execution": {
     "iopub.execute_input": "2022-03-23T21:46:22.486885Z",
     "iopub.status.busy": "2022-03-23T21:46:22.486363Z",
     "iopub.status.idle": "2022-03-23T21:46:22.517484Z",
     "shell.execute_reply": "2022-03-23T21:46:22.517914Z",
     "shell.execute_reply.started": "2022-03-23T21:44:32.496126Z"
    },
    "papermill": {
     "duration": 0.294932,
     "end_time": "2022-03-23T21:46:22.518070",
     "exception": false,
     "start_time": "2022-03-23T21:46:22.223138",
     "status": "completed"
    },
    "tags": []
   },
   "outputs": [],
   "source": [
    "model.save(\"WIPRO_model.h5\")"
   ]
  }
 ],
 "metadata": {
  "kernelspec": {
   "display_name": "Python 3",
   "language": "python",
   "name": "python3"
  },
  "language_info": {
   "codemirror_mode": {
    "name": "ipython",
    "version": 3
   },
   "file_extension": ".py",
   "mimetype": "text/x-python",
   "name": "python",
   "nbconvert_exporter": "python",
   "pygments_lexer": "ipython3",
   "version": "3.7.12"
  },
  "papermill": {
   "default_parameters": {},
   "duration": 65.39606,
   "end_time": "2022-03-23T21:46:25.568997",
   "environment_variables": {},
   "exception": null,
   "input_path": "__notebook__.ipynb",
   "output_path": "__notebook__.ipynb",
   "parameters": {},
   "start_time": "2022-03-23T21:45:20.172937",
   "version": "2.3.3"
  }
 },
 "nbformat": 4,
 "nbformat_minor": 5
}
