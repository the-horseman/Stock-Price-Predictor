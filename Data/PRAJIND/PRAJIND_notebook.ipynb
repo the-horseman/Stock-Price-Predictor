{
 "cells": [
  {
   "cell_type": "code",
   "execution_count": 1,
   "id": "ce05fd68",
   "metadata": {
    "_cell_guid": "b1076dfc-b9ad-4769-8c92-a6c4dae69d19",
    "_uuid": "8f2839f25d086af736a60e9eeb907d3b93b6e0e5",
    "execution": {
     "iopub.execute_input": "2022-03-23T21:21:31.111462Z",
     "iopub.status.busy": "2022-03-23T21:21:31.109982Z",
     "iopub.status.idle": "2022-03-23T21:21:32.567408Z",
     "shell.execute_reply": "2022-03-23T21:21:32.566688Z",
     "shell.execute_reply.started": "2022-03-23T21:19:15.075976Z"
    },
    "papermill": {
     "duration": 1.473497,
     "end_time": "2022-03-23T21:21:32.567567",
     "exception": false,
     "start_time": "2022-03-23T21:21:31.094070",
     "status": "completed"
    },
    "tags": []
   },
   "outputs": [],
   "source": [
    "import pandas as pd\n",
    "import numpy as np\n",
    "import matplotlib.pyplot as plt\n",
    "import statsmodels.api as sm\n",
    "import joblib"
   ]
  },
  {
   "cell_type": "code",
   "execution_count": 2,
   "id": "0acae336",
   "metadata": {
    "execution": {
     "iopub.execute_input": "2022-03-23T21:21:32.596849Z",
     "iopub.status.busy": "2022-03-23T21:21:32.596215Z",
     "iopub.status.idle": "2022-03-23T21:21:32.964963Z",
     "shell.execute_reply": "2022-03-23T21:21:32.965430Z",
     "shell.execute_reply.started": "2022-03-23T21:19:16.715138Z"
    },
    "papermill": {
     "duration": 0.386376,
     "end_time": "2022-03-23T21:21:32.965583",
     "exception": false,
     "start_time": "2022-03-23T21:21:32.579207",
     "status": "completed"
    },
    "tags": []
   },
   "outputs": [
    {
     "name": "stderr",
     "output_type": "stream",
     "text": [
      "/opt/conda/lib/python3.7/site-packages/statsmodels/graphics/tsaplots.py:353: FutureWarning: The default method 'yw' can produce PACF values outside of the [-1,1] interval. After 0.13, the default will change tounadjusted Yule-Walker ('ywm'). You can use this method now by setting method='ywm'.\n",
      "  FutureWarning,\n"
     ]
    },
    {
     "data": {
      "image/png": "[encoded data removed]",
      "text/plain": [
       "<Figure size 432x288 with 1 Axes>"
      ]
     },
     "metadata": {
      "needs_background": "light"
     },
     "output_type": "display_data"
    }
   ],
   "source": [
    "df = pd.read_csv(\"../input/stockpricepredictons/PRAJIND.NS.csv\", usecols=[\"Date\", \"Open\", \"Adj Close\", \"High\", \"Low\"], index_col='Date',parse_dates=True)\n",
    "df = df.iloc[-800::]\n",
    "sm.graphics.tsa.plot_pacf(df[\"Open\"], lags=10)\n",
    "plt.show()"
   ]
  },
  {
   "cell_type": "code",
   "execution_count": 3,
   "id": "616dfb1b",
   "metadata": {
    "execution": {
     "iopub.execute_input": "2022-03-23T21:21:33.011900Z",
     "iopub.status.busy": "2022-03-23T21:21:33.011036Z",
     "iopub.status.idle": "2022-03-23T21:21:33.013291Z",
     "shell.execute_reply": "2022-03-23T21:21:33.012609Z",
     "shell.execute_reply.started": "2022-03-23T21:19:17.008742Z"
    },
    "papermill": {
     "duration": 0.027594,
     "end_time": "2022-03-23T21:21:33.013447",
     "exception": false,
     "start_time": "2022-03-23T21:21:32.985853",
     "status": "completed"
    },
    "tags": []
   },
   "outputs": [],
   "source": [
    "train = df"
   ]
  },
  {
   "cell_type": "code",
   "execution_count": 4,
   "id": "ad41ce1e",
   "metadata": {
    "execution": {
     "iopub.execute_input": "2022-03-23T21:21:33.057903Z",
     "iopub.status.busy": "2022-03-23T21:21:33.056772Z",
     "iopub.status.idle": "2022-03-23T21:21:33.136882Z",
     "shell.execute_reply": "2022-03-23T21:21:33.138186Z",
     "shell.execute_reply.started": "2022-03-23T21:19:17.017844Z"
    },
    "papermill": {
     "duration": 0.105794,
     "end_time": "2022-03-23T21:21:33.138453",
     "exception": false,
     "start_time": "2022-03-23T21:21:33.032659",
     "status": "completed"
    },
    "tags": []
   },
   "outputs": [
    {
     "data": {
      "text/plain": [
       "['PRAJIND_scaler.pkl']"
      ]
     },
     "execution_count": 4,
     "metadata": {},
     "output_type": "execute_result"
    }
   ],
   "source": [
    "from sklearn.preprocessing import MinMaxScaler\n",
    "scaler = MinMaxScaler()\n",
    "\n",
    "scaler.fit(train)\n",
    "scaled_train = scaler.transform(train)\n",
    "joblib.dump(scaler, 'PRAJIND_scaler.pkl') "
   ]
  },
  {
   "cell_type": "code",
   "execution_count": 5,
   "id": "5921f0d6",
   "metadata": {
    "execution": {
     "iopub.execute_input": "2022-03-23T21:21:33.193319Z",
     "iopub.status.busy": "2022-03-23T21:21:33.192560Z",
     "iopub.status.idle": "2022-03-23T21:21:37.652271Z",
     "shell.execute_reply": "2022-03-23T21:21:37.651629Z",
     "shell.execute_reply.started": "2022-03-23T21:19:17.109547Z"
    },
    "papermill": {
     "duration": 4.489405,
     "end_time": "2022-03-23T21:21:37.652416",
     "exception": false,
     "start_time": "2022-03-23T21:21:33.163011",
     "status": "completed"
    },
    "tags": []
   },
   "outputs": [],
   "source": [
    "from keras.preprocessing.sequence import TimeseriesGenerator"
   ]
  },
  {
   "cell_type": "code",
   "execution_count": 6,
   "id": "910ef614",
   "metadata": {
    "execution": {
     "iopub.execute_input": "2022-03-23T21:21:37.681363Z",
     "iopub.status.busy": "2022-03-23T21:21:37.679229Z",
     "iopub.status.idle": "2022-03-23T21:21:37.683229Z",
     "shell.execute_reply": "2022-03-23T21:21:37.683602Z",
     "shell.execute_reply.started": "2022-03-23T21:19:22.708480Z"
    },
    "papermill": {
     "duration": 0.018829,
     "end_time": "2022-03-23T21:21:37.683726",
     "exception": false,
     "start_time": "2022-03-23T21:21:37.664897",
     "status": "completed"
    },
    "tags": []
   },
   "outputs": [],
   "source": [
    "# define generator\n",
    "n_input = 1\n",
    "n_features = 4\n",
    "generator = TimeseriesGenerator(scaled_train, scaled_train, length=n_input, batch_size=1)"
   ]
  },
  {
   "cell_type": "code",
   "execution_count": 7,
   "id": "fc8357cf",
   "metadata": {
    "execution": {
     "iopub.execute_input": "2022-03-23T21:21:37.712968Z",
     "iopub.status.busy": "2022-03-23T21:21:37.712333Z",
     "iopub.status.idle": "2022-03-23T21:21:37.715250Z",
     "shell.execute_reply": "2022-03-23T21:21:37.715667Z",
     "shell.execute_reply.started": "2022-03-23T21:19:22.718977Z"
    },
    "papermill": {
     "duration": 0.020044,
     "end_time": "2022-03-23T21:21:37.715784",
     "exception": false,
     "start_time": "2022-03-23T21:21:37.695740",
     "status": "completed"
    },
    "tags": []
   },
   "outputs": [
    {
     "name": "stdout",
     "output_type": "stream",
     "text": [
      "Given the Array: \n",
      "[0.16310094 0.1485707  0.16155843 0.13932045]\n",
      "Predict this y: \n",
      " [[0.15882205 0.1485707  0.15909091 0.14039535]]\n"
     ]
    }
   ],
   "source": [
    "X,y = generator[0]\n",
    "print(f'Given the Array: \\n{X.flatten()}')\n",
    "print(f'Predict this y: \\n {y}')"
   ]
  },
  {
   "cell_type": "code",
   "execution_count": 8,
   "id": "9d2016c0",
   "metadata": {
    "execution": {
     "iopub.execute_input": "2022-03-23T21:21:37.745153Z",
     "iopub.status.busy": "2022-03-23T21:21:37.744370Z",
     "iopub.status.idle": "2022-03-23T21:21:37.746329Z",
     "shell.execute_reply": "2022-03-23T21:21:37.746770Z",
     "shell.execute_reply.started": "2022-03-23T21:19:22.730442Z"
    },
    "papermill": {
     "duration": 0.018521,
     "end_time": "2022-03-23T21:21:37.746886",
     "exception": false,
     "start_time": "2022-03-23T21:21:37.728365",
     "status": "completed"
    },
    "tags": []
   },
   "outputs": [],
   "source": [
    "from keras.models import Sequential\n",
    "from keras.layers import Dense\n",
    "from keras.layers import LSTM"
   ]
  },
  {
   "cell_type": "code",
   "execution_count": 9,
   "id": "2f49f3a2",
   "metadata": {
    "execution": {
     "iopub.execute_input": "2022-03-23T21:21:37.776020Z",
     "iopub.status.busy": "2022-03-23T21:21:37.775514Z",
     "iopub.status.idle": "2022-03-23T21:21:40.013756Z",
     "shell.execute_reply": "2022-03-23T21:21:40.014247Z",
     "shell.execute_reply.started": "2022-03-23T21:19:22.744530Z"
    },
    "papermill": {
     "duration": 2.255257,
     "end_time": "2022-03-23T21:21:40.014406",
     "exception": false,
     "start_time": "2022-03-23T21:21:37.759149",
     "status": "completed"
    },
    "tags": []
   },
   "outputs": [
    {
     "name": "stderr",
     "output_type": "stream",
     "text": [
      "2022-03-23 21:21:37.844112: I tensorflow/stream_executor/cuda/cuda_gpu_executor.cc:937] successful NUMA node read from SysFS had negative value (-1), but there must be at least one NUMA node, so returning NUMA node zero\n",
      "2022-03-23 21:21:37.929263: I tensorflow/stream_executor/cuda/cuda_gpu_executor.cc:937] successful NUMA node read from SysFS had negative value (-1), but there must be at least one NUMA node, so returning NUMA node zero\n",
      "2022-03-23 21:21:37.929943: I tensorflow/stream_executor/cuda/cuda_gpu_executor.cc:937] successful NUMA node read from SysFS had negative value (-1), but there must be at least one NUMA node, so returning NUMA node zero\n",
      "2022-03-23 21:21:37.931766: I tensorflow/core/platform/cpu_feature_guard.cc:142] This TensorFlow binary is optimized with oneAPI Deep Neural Network Library (oneDNN) to use the following CPU instructions in performance-critical operations:  AVX2 AVX512F FMA\n",
      "To enable them in other operations, rebuild TensorFlow with the appropriate compiler flags.\n",
      "2022-03-23 21:21:37.932537: I tensorflow/stream_executor/cuda/cuda_gpu_executor.cc:937] successful NUMA node read from SysFS had negative value (-1), but there must be at least one NUMA node, so returning NUMA node zero\n",
      "2022-03-23 21:21:37.933234: I tensorflow/stream_executor/cuda/cuda_gpu_executor.cc:937] successful NUMA node read from SysFS had negative value (-1), but there must be at least one NUMA node, so returning NUMA node zero\n",
      "2022-03-23 21:21:37.933843: I tensorflow/stream_executor/cuda/cuda_gpu_executor.cc:937] successful NUMA node read from SysFS had negative value (-1), but there must be at least one NUMA node, so returning NUMA node zero\n",
      "2022-03-23 21:21:39.544407: I tensorflow/stream_executor/cuda/cuda_gpu_executor.cc:937] successful NUMA node read from SysFS had negative value (-1), but there must be at least one NUMA node, so returning NUMA node zero\n",
      "2022-03-23 21:21:39.545228: I tensorflow/stream_executor/cuda/cuda_gpu_executor.cc:937] successful NUMA node read from SysFS had negative value (-1), but there must be at least one NUMA node, so returning NUMA node zero\n",
      "2022-03-23 21:21:39.545891: I tensorflow/stream_executor/cuda/cuda_gpu_executor.cc:937] successful NUMA node read from SysFS had negative value (-1), but there must be at least one NUMA node, so returning NUMA node zero\n",
      "2022-03-23 21:21:39.546511: I tensorflow/core/common_runtime/gpu/gpu_device.cc:1510] Created device /job:localhost/replica:0/task:0/device:GPU:0 with 15403 MB memory:  -> device: 0, name: Tesla P100-PCIE-16GB, pci bus id: 0000:00:04.0, compute capability: 6.0\n"
     ]
    }
   ],
   "source": [
    "# define model\n",
    "model = Sequential()\n",
    "model.add(LSTM(80, activation='relu', input_shape=(n_input, n_features),return_sequences=True))\n",
    "model.add(Dense(4))\n",
    "model.compile(optimizer='adam', loss='mse')"
   ]
  },
  {
   "cell_type": "code",
   "execution_count": 10,
   "id": "d266a336",
   "metadata": {
    "execution": {
     "iopub.execute_input": "2022-03-23T21:21:40.045212Z",
     "iopub.status.busy": "2022-03-23T21:21:40.044483Z",
     "iopub.status.idle": "2022-03-23T21:22:21.945144Z",
     "shell.execute_reply": "2022-03-23T21:22:21.944666Z",
     "shell.execute_reply.started": "2022-03-23T21:19:26.418478Z"
    },
    "papermill": {
     "duration": 41.917445,
     "end_time": "2022-03-23T21:22:21.945271",
     "exception": false,
     "start_time": "2022-03-23T21:21:40.027826",
     "status": "completed"
    },
    "tags": []
   },
   "outputs": [
    {
     "name": "stderr",
     "output_type": "stream",
     "text": [
      "2022-03-23 21:21:40.093795: I tensorflow/compiler/mlir/mlir_graph_optimization_pass.cc:185] None of the MLIR Optimization Passes are enabled (registered 2)\n"
     ]
    },
    {
     "name": "stdout",
     "output_type": "stream",
     "text": [
      "Epoch 1/10\n",
      "799/799 [==============================] - 6s 5ms/step - loss: 0.0164\n",
      "Epoch 2/10\n",
      "799/799 [==============================] - 4s 5ms/step - loss: 3.6923e-04\n",
      "Epoch 3/10\n",
      "799/799 [==============================] - 4s 5ms/step - loss: 3.7444e-04\n",
      "Epoch 4/10\n",
      "799/799 [==============================] - 4s 5ms/step - loss: 3.5605e-04\n",
      "Epoch 5/10\n",
      "799/799 [==============================] - 4s 5ms/step - loss: 3.5176e-04\n",
      "Epoch 6/10\n",
      "799/799 [==============================] - 4s 6ms/step - loss: 3.6669e-04\n",
      "Epoch 7/10\n",
      "799/799 [==============================] - 4s 5ms/step - loss: 3.4929e-04\n",
      "Epoch 8/10\n",
      "799/799 [==============================] - 4s 5ms/step - loss: 3.4673e-04\n",
      "Epoch 9/10\n",
      "799/799 [==============================] - 4s 5ms/step - loss: 3.4871e-04\n",
      "Epoch 10/10\n",
      "799/799 [==============================] - 4s 5ms/step - loss: 3.5043e-04\n"
     ]
    },
    {
     "data": {
      "text/plain": [
       "<keras.callbacks.History at 0x7f07d0801610>"
      ]
     },
     "execution_count": 10,
     "metadata": {},
     "output_type": "execute_result"
    }
   ],
   "source": [
    "# fit model\n",
    "model.fit(generator,epochs=10)"
   ]
  },
  {
   "cell_type": "code",
   "execution_count": 11,
   "id": "539a6dfb",
   "metadata": {
    "execution": {
     "iopub.execute_input": "2022-03-23T21:22:22.455209Z",
     "iopub.status.busy": "2022-03-23T21:22:22.454405Z",
     "iopub.status.idle": "2022-03-23T21:22:22.851410Z",
     "shell.execute_reply": "2022-03-23T21:22:22.851963Z",
     "shell.execute_reply.started": "2022-03-23T21:20:33.722537Z"
    },
    "papermill": {
     "duration": 0.655014,
     "end_time": "2022-03-23T21:22:22.852177",
     "exception": false,
     "start_time": "2022-03-23T21:22:22.197163",
     "status": "completed"
    },
    "tags": []
   },
   "outputs": [
    {
     "name": "stdout",
     "output_type": "stream",
     "text": [
      "[[0.8412714 0.8419093 0.8484751 0.848353 ]]\n",
      "[[377.2371  384.95343 369.6629  378.3682 ]]\n",
      "{'clip': False, 'copy': True, 'feature_range': (0, 1)}\n"
     ]
    }
   ],
   "source": [
    "first_eval_batch = scaled_train[-n_input:]\n",
    "current_batch = first_eval_batch.reshape((1, n_input, n_features))\n",
    "current_pred = model.predict(current_batch)[0]\n",
    "print(current_pred)\n",
    "fin_pred = scaler.inverse_transform(current_pred)\n",
    "print(fin_pred)\n",
    "print(scaler.get_params(deep=True))"
   ]
  },
  {
   "cell_type": "code",
   "execution_count": 12,
   "id": "e43e4834",
   "metadata": {
    "execution": {
     "iopub.execute_input": "2022-03-23T21:22:23.366354Z",
     "iopub.status.busy": "2022-03-23T21:22:23.365696Z",
     "iopub.status.idle": "2022-03-23T21:22:23.386091Z",
     "shell.execute_reply": "2022-03-23T21:22:23.385638Z",
     "shell.execute_reply.started": "2022-03-23T21:20:34.180090Z"
    },
    "papermill": {
     "duration": 0.280118,
     "end_time": "2022-03-23T21:22:23.386217",
     "exception": false,
     "start_time": "2022-03-23T21:22:23.106099",
     "status": "completed"
    },
    "tags": []
   },
   "outputs": [],
   "source": [
    "model.save(\"PRAJIND_model.h5\")"
   ]
  }
 ],
 "metadata": {
  "kernelspec": {
   "display_name": "Python 3",
   "language": "python",
   "name": "python3"
  },
  "language_info": {
   "codemirror_mode": {
    "name": "ipython",
    "version": 3
   },
   "file_extension": ".py",
   "mimetype": "text/x-python",
   "name": "python",
   "nbconvert_exporter": "python",
   "pygments_lexer": "ipython3",
   "version": "3.7.12"
  },
  "papermill": {
   "default_parameters": {},
   "duration": 64.445989,
   "end_time": "2022-03-23T21:22:27.214208",
   "environment_variables": {},
   "exception": null,
   "input_path": "__notebook__.ipynb",
   "output_path": "__notebook__.ipynb",
   "parameters": {},
   "start_time": "2022-03-23T21:21:22.768219",
   "version": "2.3.3"
  }
 },
 "nbformat": 4,
 "nbformat_minor": 5
}
