{
 "cells": [
  {
   "cell_type": "code",
   "execution_count": 1,
   "id": "1109abb9",
   "metadata": {
    "_cell_guid": "b1076dfc-b9ad-4769-8c92-a6c4dae69d19",
    "_uuid": "8f2839f25d086af736a60e9eeb907d3b93b6e0e5",
    "execution": {
     "iopub.execute_input": "2022-03-23T20:36:47.564507Z",
     "iopub.status.busy": "2022-03-23T20:36:47.557585Z",
     "iopub.status.idle": "2022-03-23T20:36:49.180969Z",
     "shell.execute_reply": "2022-03-23T20:36:49.181493Z",
     "shell.execute_reply.started": "2022-03-23T20:35:18.829176Z"
    },
    "papermill": {
     "duration": 1.642205,
     "end_time": "2022-03-23T20:36:49.181770",
     "exception": false,
     "start_time": "2022-03-23T20:36:47.539565",
     "status": "completed"
    },
    "tags": []
   },
   "outputs": [],
   "source": [
    "import pandas as pd\n",
    "import numpy as np\n",
    "import matplotlib.pyplot as plt\n",
    "import statsmodels.api as sm\n",
    "import joblib"
   ]
  },
  {
   "cell_type": "code",
   "execution_count": 2,
   "id": "98defca5",
   "metadata": {
    "execution": {
     "iopub.execute_input": "2022-03-23T20:36:49.215002Z",
     "iopub.status.busy": "2022-03-23T20:36:49.210902Z",
     "iopub.status.idle": "2022-03-23T20:36:49.514035Z",
     "shell.execute_reply": "2022-03-23T20:36:49.514631Z",
     "shell.execute_reply.started": "2022-03-23T20:35:20.424076Z"
    },
    "papermill": {
     "duration": 0.319431,
     "end_time": "2022-03-23T20:36:49.514799",
     "exception": false,
     "start_time": "2022-03-23T20:36:49.195368",
     "status": "completed"
    },
    "tags": []
   },
   "outputs": [
    {
     "name": "stderr",
     "output_type": "stream",
     "text": [
      "/opt/conda/lib/python3.7/site-packages/statsmodels/graphics/tsaplots.py:353: FutureWarning: The default method 'yw' can produce PACF values outside of the [-1,1] interval. After 0.13, the default will change tounadjusted Yule-Walker ('ywm'). You can use this method now by setting method='ywm'.\n",
      "  FutureWarning,\n"
     ]
    },
    {
     "data": {
      "image/png": "[encoded data removed]",
      "text/plain": [
       "<Figure size 432x288 with 1 Axes>"
      ]
     },
     "metadata": {
      "needs_background": "light"
     },
     "output_type": "display_data"
    }
   ],
   "source": [
    "df = pd.read_csv(\"../input/stockpricepredictons/HDFCBANK.NS.csv\", usecols=[\"Date\", \"Open\", \"Adj Close\", \"High\", \"Low\"], index_col='Date',parse_dates=True)\n",
    "df = df.iloc[-800::]\n",
    "sm.graphics.tsa.plot_pacf(df[\"Open\"], lags=10)\n",
    "plt.show()"
   ]
  },
  {
   "cell_type": "code",
   "execution_count": 3,
   "id": "a38969f9",
   "metadata": {
    "execution": {
     "iopub.execute_input": "2022-03-23T20:36:49.552466Z",
     "iopub.status.busy": "2022-03-23T20:36:49.550638Z",
     "iopub.status.idle": "2022-03-23T20:36:49.553189Z",
     "shell.execute_reply": "2022-03-23T20:36:49.553797Z",
     "shell.execute_reply.started": "2022-03-23T20:35:20.678701Z"
    },
    "papermill": {
     "duration": 0.023681,
     "end_time": "2022-03-23T20:36:49.553956",
     "exception": false,
     "start_time": "2022-03-23T20:36:49.530275",
     "status": "completed"
    },
    "tags": []
   },
   "outputs": [],
   "source": [
    "train = df"
   ]
  },
  {
   "cell_type": "code",
   "execution_count": 4,
   "id": "925b4371",
   "metadata": {
    "execution": {
     "iopub.execute_input": "2022-03-23T20:36:49.591683Z",
     "iopub.status.busy": "2022-03-23T20:36:49.590779Z",
     "iopub.status.idle": "2022-03-23T20:36:49.667044Z",
     "shell.execute_reply": "2022-03-23T20:36:49.667787Z",
     "shell.execute_reply.started": "2022-03-23T20:35:20.685489Z"
    },
    "papermill": {
     "duration": 0.098751,
     "end_time": "2022-03-23T20:36:49.667961",
     "exception": false,
     "start_time": "2022-03-23T20:36:49.569210",
     "status": "completed"
    },
    "tags": []
   },
   "outputs": [
    {
     "data": {
      "text/plain": [
       "['HDFCBANK_scaler.pkl']"
      ]
     },
     "execution_count": 4,
     "metadata": {},
     "output_type": "execute_result"
    }
   ],
   "source": [
    "from sklearn.preprocessing import MinMaxScaler\n",
    "scaler = MinMaxScaler()\n",
    "\n",
    "scaler.fit(train)\n",
    "scaled_train = scaler.transform(train)\n",
    "joblib.dump(scaler, 'HDFCBANK_scaler.pkl') "
   ]
  },
  {
   "cell_type": "code",
   "execution_count": 5,
   "id": "b61b1567",
   "metadata": {
    "execution": {
     "iopub.execute_input": "2022-03-23T20:36:49.701011Z",
     "iopub.status.busy": "2022-03-23T20:36:49.700128Z",
     "iopub.status.idle": "2022-03-23T20:36:54.195901Z",
     "shell.execute_reply": "2022-03-23T20:36:54.194881Z",
     "shell.execute_reply.started": "2022-03-23T20:35:20.768552Z"
    },
    "papermill": {
     "duration": 4.513481,
     "end_time": "2022-03-23T20:36:54.196058",
     "exception": false,
     "start_time": "2022-03-23T20:36:49.682577",
     "status": "completed"
    },
    "tags": []
   },
   "outputs": [],
   "source": [
    "from keras.preprocessing.sequence import TimeseriesGenerator"
   ]
  },
  {
   "cell_type": "code",
   "execution_count": 6,
   "id": "67cc982f",
   "metadata": {
    "execution": {
     "iopub.execute_input": "2022-03-23T20:36:54.227964Z",
     "iopub.status.busy": "2022-03-23T20:36:54.227145Z",
     "iopub.status.idle": "2022-03-23T20:36:54.229726Z",
     "shell.execute_reply": "2022-03-23T20:36:54.229276Z",
     "shell.execute_reply.started": "2022-03-23T20:35:25.587596Z"
    },
    "papermill": {
     "duration": 0.020103,
     "end_time": "2022-03-23T20:36:54.229845",
     "exception": false,
     "start_time": "2022-03-23T20:36:54.209742",
     "status": "completed"
    },
    "tags": []
   },
   "outputs": [],
   "source": [
    "# define generator\n",
    "n_input = 1\n",
    "n_features = 4\n",
    "generator = TimeseriesGenerator(scaled_train, scaled_train, length=n_input, batch_size=1)"
   ]
  },
  {
   "cell_type": "code",
   "execution_count": 7,
   "id": "9ac9d9d1",
   "metadata": {
    "execution": {
     "iopub.execute_input": "2022-03-23T20:36:54.261121Z",
     "iopub.status.busy": "2022-03-23T20:36:54.260558Z",
     "iopub.status.idle": "2022-03-23T20:36:54.265555Z",
     "shell.execute_reply": "2022-03-23T20:36:54.264971Z",
     "shell.execute_reply.started": "2022-03-23T20:35:25.594206Z"
    },
    "papermill": {
     "duration": 0.023263,
     "end_time": "2022-03-23T20:36:54.265718",
     "exception": false,
     "start_time": "2022-03-23T20:36:54.242455",
     "status": "completed"
    },
    "tags": []
   },
   "outputs": [
    {
     "name": "stdout",
     "output_type": "stream",
     "text": [
      "Given the Array: \n",
      "[0.31678347 0.28316937 0.33303832 0.29731576]\n",
      "Predict this y: \n",
      " [[0.30841051 0.2829235  0.34218289 0.30684939]]\n"
     ]
    }
   ],
   "source": [
    "X,y = generator[0]\n",
    "print(f'Given the Array: \\n{X.flatten()}')\n",
    "print(f'Predict this y: \\n {y}')"
   ]
  },
  {
   "cell_type": "code",
   "execution_count": 8,
   "id": "19841d49",
   "metadata": {
    "execution": {
     "iopub.execute_input": "2022-03-23T20:36:54.297813Z",
     "iopub.status.busy": "2022-03-23T20:36:54.296964Z",
     "iopub.status.idle": "2022-03-23T20:36:54.299601Z",
     "shell.execute_reply": "2022-03-23T20:36:54.299159Z",
     "shell.execute_reply.started": "2022-03-23T20:35:25.607009Z"
    },
    "papermill": {
     "duration": 0.019997,
     "end_time": "2022-03-23T20:36:54.299723",
     "exception": false,
     "start_time": "2022-03-23T20:36:54.279726",
     "status": "completed"
    },
    "tags": []
   },
   "outputs": [],
   "source": [
    "from keras.models import Sequential\n",
    "from keras.layers import Dense\n",
    "from keras.layers import LSTM"
   ]
  },
  {
   "cell_type": "code",
   "execution_count": 9,
   "id": "a486c14b",
   "metadata": {
    "execution": {
     "iopub.execute_input": "2022-03-23T20:36:54.331199Z",
     "iopub.status.busy": "2022-03-23T20:36:54.330578Z",
     "iopub.status.idle": "2022-03-23T20:36:56.873181Z",
     "shell.execute_reply": "2022-03-23T20:36:56.873638Z",
     "shell.execute_reply.started": "2022-03-23T20:35:25.615503Z"
    },
    "papermill": {
     "duration": 2.561129,
     "end_time": "2022-03-23T20:36:56.873814",
     "exception": false,
     "start_time": "2022-03-23T20:36:54.312685",
     "status": "completed"
    },
    "tags": []
   },
   "outputs": [
    {
     "name": "stderr",
     "output_type": "stream",
     "text": [
      "2022-03-23 20:36:54.401280: I tensorflow/stream_executor/cuda/cuda_gpu_executor.cc:937] successful NUMA node read from SysFS had negative value (-1), but there must be at least one NUMA node, so returning NUMA node zero\n",
      "2022-03-23 20:36:54.491018: I tensorflow/stream_executor/cuda/cuda_gpu_executor.cc:937] successful NUMA node read from SysFS had negative value (-1), but there must be at least one NUMA node, so returning NUMA node zero\n",
      "2022-03-23 20:36:54.491841: I tensorflow/stream_executor/cuda/cuda_gpu_executor.cc:937] successful NUMA node read from SysFS had negative value (-1), but there must be at least one NUMA node, so returning NUMA node zero\n",
      "2022-03-23 20:36:54.493414: I tensorflow/core/platform/cpu_feature_guard.cc:142] This TensorFlow binary is optimized with oneAPI Deep Neural Network Library (oneDNN) to use the following CPU instructions in performance-critical operations:  AVX2 AVX512F FMA\n",
      "To enable them in other operations, rebuild TensorFlow with the appropriate compiler flags.\n",
      "2022-03-23 20:36:54.494579: I tensorflow/stream_executor/cuda/cuda_gpu_executor.cc:937] successful NUMA node read from SysFS had negative value (-1), but there must be at least one NUMA node, so returning NUMA node zero\n",
      "2022-03-23 20:36:54.495663: I tensorflow/stream_executor/cuda/cuda_gpu_executor.cc:937] successful NUMA node read from SysFS had negative value (-1), but there must be at least one NUMA node, so returning NUMA node zero\n",
      "2022-03-23 20:36:54.496651: I tensorflow/stream_executor/cuda/cuda_gpu_executor.cc:937] successful NUMA node read from SysFS had negative value (-1), but there must be at least one NUMA node, so returning NUMA node zero\n",
      "2022-03-23 20:36:56.378275: I tensorflow/stream_executor/cuda/cuda_gpu_executor.cc:937] successful NUMA node read from SysFS had negative value (-1), but there must be at least one NUMA node, so returning NUMA node zero\n",
      "2022-03-23 20:36:56.379160: I tensorflow/stream_executor/cuda/cuda_gpu_executor.cc:937] successful NUMA node read from SysFS had negative value (-1), but there must be at least one NUMA node, so returning NUMA node zero\n",
      "2022-03-23 20:36:56.379857: I tensorflow/stream_executor/cuda/cuda_gpu_executor.cc:937] successful NUMA node read from SysFS had negative value (-1), but there must be at least one NUMA node, so returning NUMA node zero\n",
      "2022-03-23 20:36:56.380486: I tensorflow/core/common_runtime/gpu/gpu_device.cc:1510] Created device /job:localhost/replica:0/task:0/device:GPU:0 with 15403 MB memory:  -> device: 0, name: Tesla P100-PCIE-16GB, pci bus id: 0000:00:04.0, compute capability: 6.0\n"
     ]
    }
   ],
   "source": [
    "# define model\n",
    "model = Sequential()\n",
    "model.add(LSTM(80, activation='relu', input_shape=(n_input, n_features),return_sequences=True))\n",
    "model.add(Dense(4))\n",
    "model.compile(optimizer='adam', loss='mse')"
   ]
  },
  {
   "cell_type": "code",
   "execution_count": 10,
   "id": "9ee6879f",
   "metadata": {
    "execution": {
     "iopub.execute_input": "2022-03-23T20:36:56.908799Z",
     "iopub.status.busy": "2022-03-23T20:36:56.907906Z",
     "iopub.status.idle": "2022-03-23T20:37:44.309635Z",
     "shell.execute_reply": "2022-03-23T20:37:44.309121Z",
     "shell.execute_reply.started": "2022-03-23T20:35:28.118748Z"
    },
    "papermill": {
     "duration": 47.420509,
     "end_time": "2022-03-23T20:37:44.309775",
     "exception": false,
     "start_time": "2022-03-23T20:36:56.889266",
     "status": "completed"
    },
    "tags": []
   },
   "outputs": [
    {
     "name": "stderr",
     "output_type": "stream",
     "text": [
      "2022-03-23 20:36:56.961717: I tensorflow/compiler/mlir/mlir_graph_optimization_pass.cc:185] None of the MLIR Optimization Passes are enabled (registered 2)\n"
     ]
    },
    {
     "name": "stdout",
     "output_type": "stream",
     "text": [
      "Epoch 1/10\n",
      "799/799 [==============================] - 6s 5ms/step - loss: 0.0220\n",
      "Epoch 2/10\n",
      "799/799 [==============================] - 4s 5ms/step - loss: 6.3381e-04\n",
      "Epoch 3/10\n",
      "799/799 [==============================] - 5s 6ms/step - loss: 5.6972e-04\n",
      "Epoch 4/10\n",
      "799/799 [==============================] - 4s 6ms/step - loss: 5.7981e-04\n",
      "Epoch 5/10\n",
      "799/799 [==============================] - 5s 6ms/step - loss: 5.5559e-04\n",
      "Epoch 6/10\n",
      "799/799 [==============================] - 5s 6ms/step - loss: 5.6156e-04\n",
      "Epoch 7/10\n",
      "799/799 [==============================] - 4s 6ms/step - loss: 5.8219e-04\n",
      "Epoch 8/10\n",
      "799/799 [==============================] - 5s 6ms/step - loss: 5.7470e-04\n",
      "Epoch 9/10\n",
      "799/799 [==============================] - 5s 6ms/step - loss: 5.4183e-04\n",
      "Epoch 10/10\n",
      "799/799 [==============================] - 5s 6ms/step - loss: 5.5846e-04\n"
     ]
    },
    {
     "data": {
      "text/plain": [
       "<keras.callbacks.History at 0x7f04c408ead0>"
      ]
     },
     "execution_count": 10,
     "metadata": {},
     "output_type": "execute_result"
    }
   ],
   "source": [
    "# fit model\n",
    "model.fit(generator,epochs=10)"
   ]
  },
  {
   "cell_type": "code",
   "execution_count": 11,
   "id": "c395987d",
   "metadata": {
    "execution": {
     "iopub.execute_input": "2022-03-23T20:37:44.922023Z",
     "iopub.status.busy": "2022-03-23T20:37:44.921207Z",
     "iopub.status.idle": "2022-03-23T20:37:45.336448Z",
     "shell.execute_reply": "2022-03-23T20:37:45.337419Z",
     "shell.execute_reply.started": "2022-03-23T20:36:10.724521Z"
    },
    "papermill": {
     "duration": 0.726955,
     "end_time": "2022-03-23T20:37:45.337650",
     "exception": false,
     "start_time": "2022-03-23T20:37:44.610695",
     "status": "completed"
    },
    "tags": []
   },
   "outputs": [
    {
     "name": "stdout",
     "output_type": "stream",
     "text": [
      "[[0.7683638  0.76066536 0.7855593  0.7739912 ]]\n",
      "[[1488.5244 1506.0088 1471.0876 1479.7981]]\n",
      "{'clip': False, 'copy': True, 'feature_range': (0, 1)}\n"
     ]
    }
   ],
   "source": [
    "first_eval_batch = scaled_train[-n_input:]\n",
    "current_batch = first_eval_batch.reshape((1, n_input, n_features))\n",
    "current_pred = model.predict(current_batch)[0]\n",
    "print(current_pred)\n",
    "fin_pred = scaler.inverse_transform(current_pred)\n",
    "print(fin_pred)\n",
    "print(scaler.get_params(deep=True))"
   ]
  },
  {
   "cell_type": "code",
   "execution_count": 12,
   "id": "d826a9ea",
   "metadata": {
    "execution": {
     "iopub.execute_input": "2022-03-23T20:37:45.959142Z",
     "iopub.status.busy": "2022-03-23T20:37:45.951540Z",
     "iopub.status.idle": "2022-03-23T20:37:45.980633Z",
     "shell.execute_reply": "2022-03-23T20:37:45.980104Z",
     "shell.execute_reply.started": "2022-03-23T20:36:11.108815Z"
    },
    "papermill": {
     "duration": 0.342717,
     "end_time": "2022-03-23T20:37:45.980761",
     "exception": false,
     "start_time": "2022-03-23T20:37:45.638044",
     "status": "completed"
    },
    "tags": []
   },
   "outputs": [],
   "source": [
    "model.save(\"HDFCBANK_model.h5\")"
   ]
  }
 ],
 "metadata": {
  "kernelspec": {
   "display_name": "Python 3",
   "language": "python",
   "name": "python3"
  },
  "language_info": {
   "codemirror_mode": {
    "name": "ipython",
    "version": 3
   },
   "file_extension": ".py",
   "mimetype": "text/x-python",
   "name": "python",
   "nbconvert_exporter": "python",
   "pygments_lexer": "ipython3",
   "version": "3.7.12"
  },
  "papermill": {
   "default_parameters": {},
   "duration": 71.444485,
   "end_time": "2022-03-23T20:37:49.792261",
   "environment_variables": {},
   "exception": null,
   "input_path": "__notebook__.ipynb",
   "output_path": "__notebook__.ipynb",
   "parameters": {},
   "start_time": "2022-03-23T20:36:38.347776",
   "version": "2.3.3"
  }
 },
 "nbformat": 4,
 "nbformat_minor": 5
}
