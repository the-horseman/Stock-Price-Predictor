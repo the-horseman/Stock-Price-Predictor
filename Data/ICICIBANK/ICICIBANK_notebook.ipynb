{
 "cells": [
  {
   "cell_type": "code",
   "execution_count": 1,
   "id": "94a76291",
   "metadata": {
    "_cell_guid": "b1076dfc-b9ad-4769-8c92-a6c4dae69d19",
    "_uuid": "8f2839f25d086af736a60e9eeb907d3b93b6e0e5",
    "execution": {
     "iopub.execute_input": "2022-03-23T20:39:28.776141Z",
     "iopub.status.busy": "2022-03-23T20:39:28.774673Z",
     "iopub.status.idle": "2022-03-23T20:39:30.087480Z",
     "shell.execute_reply": "2022-03-23T20:39:30.087933Z",
     "shell.execute_reply.started": "2022-03-23T20:37:57.059601Z"
    },
    "papermill": {
     "duration": 1.329267,
     "end_time": "2022-03-23T20:39:30.088191",
     "exception": false,
     "start_time": "2022-03-23T20:39:28.758924",
     "status": "completed"
    },
    "tags": []
   },
   "outputs": [],
   "source": [
    "import pandas as pd\n",
    "import numpy as np\n",
    "import matplotlib.pyplot as plt\n",
    "import statsmodels.api as sm\n",
    "import joblib"
   ]
  },
  {
   "cell_type": "code",
   "execution_count": 2,
   "id": "31647fbd",
   "metadata": {
    "execution": {
     "iopub.execute_input": "2022-03-23T20:39:30.123160Z",
     "iopub.status.busy": "2022-03-23T20:39:30.119827Z",
     "iopub.status.idle": "2022-03-23T20:39:30.411214Z",
     "shell.execute_reply": "2022-03-23T20:39:30.411649Z",
     "shell.execute_reply.started": "2022-03-23T20:37:58.411585Z"
    },
    "papermill": {
     "duration": 0.311478,
     "end_time": "2022-03-23T20:39:30.411821",
     "exception": false,
     "start_time": "2022-03-23T20:39:30.100343",
     "status": "completed"
    },
    "tags": []
   },
   "outputs": [
    {
     "name": "stderr",
     "output_type": "stream",
     "text": [
      "/opt/conda/lib/python3.7/site-packages/statsmodels/graphics/tsaplots.py:353: FutureWarning: The default method 'yw' can produce PACF values outside of the [-1,1] interval. After 0.13, the default will change tounadjusted Yule-Walker ('ywm'). You can use this method now by setting method='ywm'.\n",
      "  FutureWarning,\n"
     ]
    },
    {
     "data": {
      "image/png": "[encoded data removed]",
      "text/plain": [
       "<Figure size 432x288 with 1 Axes>"
      ]
     },
     "metadata": {
      "needs_background": "light"
     },
     "output_type": "display_data"
    }
   ],
   "source": [
    "df = pd.read_csv(\"../input/stockpricepredictons/ICICIBANK.NS.csv\", usecols=[\"Date\", \"Open\", \"Adj Close\", \"High\", \"Low\"], index_col='Date',parse_dates=True)\n",
    "df = df.iloc[-800::]\n",
    "sm.graphics.tsa.plot_pacf(df[\"Open\"], lags=10)\n",
    "plt.show()"
   ]
  },
  {
   "cell_type": "code",
   "execution_count": 3,
   "id": "2580222f",
   "metadata": {
    "execution": {
     "iopub.execute_input": "2022-03-23T20:39:30.441720Z",
     "iopub.status.busy": "2022-03-23T20:39:30.438584Z",
     "iopub.status.idle": "2022-03-23T20:39:30.446161Z",
     "shell.execute_reply": "2022-03-23T20:39:30.445718Z",
     "shell.execute_reply.started": "2022-03-23T20:37:58.691042Z"
    },
    "papermill": {
     "duration": 0.021838,
     "end_time": "2022-03-23T20:39:30.446286",
     "exception": false,
     "start_time": "2022-03-23T20:39:30.424448",
     "status": "completed"
    },
    "tags": []
   },
   "outputs": [],
   "source": [
    "train = df"
   ]
  },
  {
   "cell_type": "code",
   "execution_count": 4,
   "id": "c707467c",
   "metadata": {
    "execution": {
     "iopub.execute_input": "2022-03-23T20:39:30.474723Z",
     "iopub.status.busy": "2022-03-23T20:39:30.474168Z",
     "iopub.status.idle": "2022-03-23T20:39:30.533784Z",
     "shell.execute_reply": "2022-03-23T20:39:30.533060Z",
     "shell.execute_reply.started": "2022-03-23T20:37:58.697987Z"
    },
    "papermill": {
     "duration": 0.075397,
     "end_time": "2022-03-23T20:39:30.533892",
     "exception": false,
     "start_time": "2022-03-23T20:39:30.458495",
     "status": "completed"
    },
    "tags": []
   },
   "outputs": [
    {
     "data": {
      "text/plain": [
       "['ICICIBANK_scaler.pkl']"
      ]
     },
     "execution_count": 4,
     "metadata": {},
     "output_type": "execute_result"
    }
   ],
   "source": [
    "from sklearn.preprocessing import MinMaxScaler\n",
    "scaler = MinMaxScaler()\n",
    "\n",
    "scaler.fit(train)\n",
    "scaled_train = scaler.transform(train)\n",
    "joblib.dump(scaler, 'ICICIBANK_scaler.pkl') "
   ]
  },
  {
   "cell_type": "code",
   "execution_count": 5,
   "id": "7d4ad81c",
   "metadata": {
    "execution": {
     "iopub.execute_input": "2022-03-23T20:39:30.563236Z",
     "iopub.status.busy": "2022-03-23T20:39:30.562682Z",
     "iopub.status.idle": "2022-03-23T20:39:34.988019Z",
     "shell.execute_reply": "2022-03-23T20:39:34.987509Z",
     "shell.execute_reply.started": "2022-03-23T20:37:58.777518Z"
    },
    "papermill": {
     "duration": 4.441523,
     "end_time": "2022-03-23T20:39:34.988148",
     "exception": false,
     "start_time": "2022-03-23T20:39:30.546625",
     "status": "completed"
    },
    "tags": []
   },
   "outputs": [],
   "source": [
    "from keras.preprocessing.sequence import TimeseriesGenerator"
   ]
  },
  {
   "cell_type": "code",
   "execution_count": 6,
   "id": "fe6c4d70",
   "metadata": {
    "execution": {
     "iopub.execute_input": "2022-03-23T20:39:35.018802Z",
     "iopub.status.busy": "2022-03-23T20:39:35.017086Z",
     "iopub.status.idle": "2022-03-23T20:39:35.019353Z",
     "shell.execute_reply": "2022-03-23T20:39:35.019769Z",
     "shell.execute_reply.started": "2022-03-23T20:38:03.518807Z"
    },
    "papermill": {
     "duration": 0.018991,
     "end_time": "2022-03-23T20:39:35.019902",
     "exception": false,
     "start_time": "2022-03-23T20:39:35.000911",
     "status": "completed"
    },
    "tags": []
   },
   "outputs": [],
   "source": [
    "# define generator\n",
    "n_input = 1\n",
    "n_features = 4\n",
    "generator = TimeseriesGenerator(scaled_train, scaled_train, length=n_input, batch_size=1)"
   ]
  },
  {
   "cell_type": "code",
   "execution_count": 7,
   "id": "2b7f4c55",
   "metadata": {
    "execution": {
     "iopub.execute_input": "2022-03-23T20:39:35.048955Z",
     "iopub.status.busy": "2022-03-23T20:39:35.048358Z",
     "iopub.status.idle": "2022-03-23T20:39:35.051312Z",
     "shell.execute_reply": "2022-03-23T20:39:35.051719Z",
     "shell.execute_reply.started": "2022-03-23T20:38:03.525732Z"
    },
    "papermill": {
     "duration": 0.019656,
     "end_time": "2022-03-23T20:39:35.051831",
     "exception": false,
     "start_time": "2022-03-23T20:39:35.032175",
     "status": "completed"
    },
    "tags": []
   },
   "outputs": [
    {
     "name": "stdout",
     "output_type": "stream",
     "text": [
      "Given the Array: \n",
      "[0.13825307 0.11043754 0.15578342 0.12482229]\n",
      "Predict this y: \n",
      " [[0.13605565 0.1140397  0.16189962 0.13388245]]\n"
     ]
    }
   ],
   "source": [
    "X,y = generator[0]\n",
    "print(f'Given the Array: \\n{X.flatten()}')\n",
    "print(f'Predict this y: \\n {y}')"
   ]
  },
  {
   "cell_type": "code",
   "execution_count": 8,
   "id": "11f0bfd8",
   "metadata": {
    "execution": {
     "iopub.execute_input": "2022-03-23T20:39:35.079513Z",
     "iopub.status.busy": "2022-03-23T20:39:35.078771Z",
     "iopub.status.idle": "2022-03-23T20:39:35.082985Z",
     "shell.execute_reply": "2022-03-23T20:39:35.082541Z",
     "shell.execute_reply.started": "2022-03-23T20:38:03.537099Z"
    },
    "papermill": {
     "duration": 0.018715,
     "end_time": "2022-03-23T20:39:35.083089",
     "exception": false,
     "start_time": "2022-03-23T20:39:35.064374",
     "status": "completed"
    },
    "tags": []
   },
   "outputs": [],
   "source": [
    "from keras.models import Sequential\n",
    "from keras.layers import Dense\n",
    "from keras.layers import LSTM"
   ]
  },
  {
   "cell_type": "code",
   "execution_count": 9,
   "id": "4a44eb38",
   "metadata": {
    "execution": {
     "iopub.execute_input": "2022-03-23T20:39:35.112040Z",
     "iopub.status.busy": "2022-03-23T20:39:35.111450Z",
     "iopub.status.idle": "2022-03-23T20:39:37.454906Z",
     "shell.execute_reply": "2022-03-23T20:39:37.455453Z",
     "shell.execute_reply.started": "2022-03-23T20:38:03.544357Z"
    },
    "papermill": {
     "duration": 2.360231,
     "end_time": "2022-03-23T20:39:37.455660",
     "exception": false,
     "start_time": "2022-03-23T20:39:35.095429",
     "status": "completed"
    },
    "tags": []
   },
   "outputs": [
    {
     "name": "stderr",
     "output_type": "stream",
     "text": [
      "2022-03-23 20:39:35.180976: I tensorflow/stream_executor/cuda/cuda_gpu_executor.cc:937] successful NUMA node read from SysFS had negative value (-1), but there must be at least one NUMA node, so returning NUMA node zero\n",
      "2022-03-23 20:39:35.265138: I tensorflow/stream_executor/cuda/cuda_gpu_executor.cc:937] successful NUMA node read from SysFS had negative value (-1), but there must be at least one NUMA node, so returning NUMA node zero\n",
      "2022-03-23 20:39:35.265835: I tensorflow/stream_executor/cuda/cuda_gpu_executor.cc:937] successful NUMA node read from SysFS had negative value (-1), but there must be at least one NUMA node, so returning NUMA node zero\n",
      "2022-03-23 20:39:35.267064: I tensorflow/core/platform/cpu_feature_guard.cc:142] This TensorFlow binary is optimized with oneAPI Deep Neural Network Library (oneDNN) to use the following CPU instructions in performance-critical operations:  AVX2 AVX512F FMA\n",
      "To enable them in other operations, rebuild TensorFlow with the appropriate compiler flags.\n",
      "2022-03-23 20:39:35.268259: I tensorflow/stream_executor/cuda/cuda_gpu_executor.cc:937] successful NUMA node read from SysFS had negative value (-1), but there must be at least one NUMA node, so returning NUMA node zero\n",
      "2022-03-23 20:39:35.268967: I tensorflow/stream_executor/cuda/cuda_gpu_executor.cc:937] successful NUMA node read from SysFS had negative value (-1), but there must be at least one NUMA node, so returning NUMA node zero\n",
      "2022-03-23 20:39:35.269571: I tensorflow/stream_executor/cuda/cuda_gpu_executor.cc:937] successful NUMA node read from SysFS had negative value (-1), but there must be at least one NUMA node, so returning NUMA node zero\n",
      "2022-03-23 20:39:36.983717: I tensorflow/stream_executor/cuda/cuda_gpu_executor.cc:937] successful NUMA node read from SysFS had negative value (-1), but there must be at least one NUMA node, so returning NUMA node zero\n",
      "2022-03-23 20:39:36.984614: I tensorflow/stream_executor/cuda/cuda_gpu_executor.cc:937] successful NUMA node read from SysFS had negative value (-1), but there must be at least one NUMA node, so returning NUMA node zero\n",
      "2022-03-23 20:39:36.985324: I tensorflow/stream_executor/cuda/cuda_gpu_executor.cc:937] successful NUMA node read from SysFS had negative value (-1), but there must be at least one NUMA node, so returning NUMA node zero\n",
      "2022-03-23 20:39:36.985897: I tensorflow/core/common_runtime/gpu/gpu_device.cc:1510] Created device /job:localhost/replica:0/task:0/device:GPU:0 with 15403 MB memory:  -> device: 0, name: Tesla P100-PCIE-16GB, pci bus id: 0000:00:04.0, compute capability: 6.0\n"
     ]
    }
   ],
   "source": [
    "# define model\n",
    "model = Sequential()\n",
    "model.add(LSTM(80, activation='relu', input_shape=(n_input, n_features),return_sequences=True))\n",
    "model.add(Dense(4))\n",
    "model.compile(optimizer='adam', loss='mse')"
   ]
  },
  {
   "cell_type": "code",
   "execution_count": 10,
   "id": "a9962d9f",
   "metadata": {
    "execution": {
     "iopub.execute_input": "2022-03-23T20:39:37.486166Z",
     "iopub.status.busy": "2022-03-23T20:39:37.485383Z",
     "iopub.status.idle": "2022-03-23T20:40:20.630996Z",
     "shell.execute_reply": "2022-03-23T20:40:20.630239Z",
     "shell.execute_reply.started": "2022-03-23T20:38:05.920705Z"
    },
    "papermill": {
     "duration": 43.161565,
     "end_time": "2022-03-23T20:40:20.631122",
     "exception": false,
     "start_time": "2022-03-23T20:39:37.469557",
     "status": "completed"
    },
    "tags": []
   },
   "outputs": [
    {
     "name": "stderr",
     "output_type": "stream",
     "text": [
      "2022-03-23 20:39:37.535333: I tensorflow/compiler/mlir/mlir_graph_optimization_pass.cc:185] None of the MLIR Optimization Passes are enabled (registered 2)\n"
     ]
    },
    {
     "name": "stdout",
     "output_type": "stream",
     "text": [
      "Epoch 1/10\n",
      "799/799 [==============================] - 6s 5ms/step - loss: 0.0198\n",
      "Epoch 2/10\n",
      "799/799 [==============================] - 4s 5ms/step - loss: 4.2946e-04\n",
      "Epoch 3/10\n",
      "799/799 [==============================] - 4s 5ms/step - loss: 4.0450e-04\n",
      "Epoch 4/10\n",
      "799/799 [==============================] - 4s 5ms/step - loss: 3.7747e-04\n",
      "Epoch 5/10\n",
      "799/799 [==============================] - 4s 5ms/step - loss: 3.9896e-04\n",
      "Epoch 6/10\n",
      "799/799 [==============================] - 4s 5ms/step - loss: 4.2291e-04\n",
      "Epoch 7/10\n",
      "799/799 [==============================] - 5s 6ms/step - loss: 4.1330e-04\n",
      "Epoch 8/10\n",
      "799/799 [==============================] - 4s 5ms/step - loss: 3.9737e-04\n",
      "Epoch 9/10\n",
      "799/799 [==============================] - 4s 5ms/step - loss: 4.1045e-04\n",
      "Epoch 10/10\n",
      "799/799 [==============================] - 4s 5ms/step - loss: 4.0291e-04\n"
     ]
    },
    {
     "data": {
      "text/plain": [
       "<keras.callbacks.History at 0x7f22331f1350>"
      ]
     },
     "execution_count": 10,
     "metadata": {},
     "output_type": "execute_result"
    }
   ],
   "source": [
    "# fit model\n",
    "model.fit(generator,epochs=10)"
   ]
  },
  {
   "cell_type": "code",
   "execution_count": 11,
   "id": "99200890",
   "metadata": {
    "execution": {
     "iopub.execute_input": "2022-03-23T20:40:21.213077Z",
     "iopub.status.busy": "2022-03-23T20:40:21.212232Z",
     "iopub.status.idle": "2022-03-23T20:40:21.601388Z",
     "shell.execute_reply": "2022-03-23T20:40:21.600335Z",
     "shell.execute_reply.started": "2022-03-23T20:38:48.290395Z"
    },
    "papermill": {
     "duration": 0.689298,
     "end_time": "2022-03-23T20:40:21.601527",
     "exception": false,
     "start_time": "2022-03-23T20:40:20.912229",
     "status": "completed"
    },
    "tags": []
   },
   "outputs": [
    {
     "name": "stdout",
     "output_type": "stream",
     "text": [
      "[[0.7870322  0.76392996 0.78643143 0.79282945]]\n",
      "[[713.7983  732.6526  705.47723 725.98926]]\n",
      "{'clip': False, 'copy': True, 'feature_range': (0, 1)}\n"
     ]
    }
   ],
   "source": [
    "first_eval_batch = scaled_train[-n_input:]\n",
    "current_batch = first_eval_batch.reshape((1, n_input, n_features))\n",
    "current_pred = model.predict(current_batch)[0]\n",
    "print(current_pred)\n",
    "fin_pred = scaler.inverse_transform(current_pred)\n",
    "print(fin_pred)\n",
    "print(scaler.get_params(deep=True))"
   ]
  },
  {
   "cell_type": "code",
   "execution_count": 12,
   "id": "d5504ad0",
   "metadata": {
    "execution": {
     "iopub.execute_input": "2022-03-23T20:40:22.123783Z",
     "iopub.status.busy": "2022-03-23T20:40:22.122968Z",
     "iopub.status.idle": "2022-03-23T20:40:22.142631Z",
     "shell.execute_reply": "2022-03-23T20:40:22.142177Z",
     "shell.execute_reply.started": "2022-03-23T20:38:48.681867Z"
    },
    "papermill": {
     "duration": 0.283344,
     "end_time": "2022-03-23T20:40:22.142747",
     "exception": false,
     "start_time": "2022-03-23T20:40:21.859403",
     "status": "completed"
    },
    "tags": []
   },
   "outputs": [],
   "source": [
    "model.save(\"ICICIBANK_model.h5\")"
   ]
  }
 ],
 "metadata": {
  "kernelspec": {
   "display_name": "Python 3",
   "language": "python",
   "name": "python3"
  },
  "language_info": {
   "codemirror_mode": {
    "name": "ipython",
    "version": 3
   },
   "file_extension": ".py",
   "mimetype": "text/x-python",
   "name": "python",
   "nbconvert_exporter": "python",
   "pygments_lexer": "ipython3",
   "version": "3.7.12"
  },
  "papermill": {
   "default_parameters": {},
   "duration": 64.352026,
   "end_time": "2022-03-23T20:40:25.160317",
   "environment_variables": {},
   "exception": null,
   "input_path": "__notebook__.ipynb",
   "output_path": "__notebook__.ipynb",
   "parameters": {},
   "start_time": "2022-03-23T20:39:20.808291",
   "version": "2.3.3"
  }
 },
 "nbformat": 4,
 "nbformat_minor": 5
}
