{
 "cells": [
  {
   "cell_type": "code",
   "execution_count": 1,
   "id": "9b02149f",
   "metadata": {
    "_cell_guid": "b1076dfc-b9ad-4769-8c92-a6c4dae69d19",
    "_uuid": "8f2839f25d086af736a60e9eeb907d3b93b6e0e5",
    "execution": {
     "iopub.execute_input": "2022-03-23T21:23:38.355733Z",
     "iopub.status.busy": "2022-03-23T21:23:38.349167Z",
     "iopub.status.idle": "2022-03-23T21:23:40.052401Z",
     "shell.execute_reply": "2022-03-23T21:23:40.051422Z",
     "shell.execute_reply.started": "2022-03-23T21:21:52.105871Z"
    },
    "papermill": {
     "duration": 1.77016,
     "end_time": "2022-03-23T21:23:40.052662",
     "exception": false,
     "start_time": "2022-03-23T21:23:38.282502",
     "status": "completed"
    },
    "tags": []
   },
   "outputs": [],
   "source": [
    "import pandas as pd\n",
    "import numpy as np\n",
    "import matplotlib.pyplot as plt\n",
    "import statsmodels.api as sm\n",
    "import joblib"
   ]
  },
  {
   "cell_type": "code",
   "execution_count": 2,
   "id": "c518d5df",
   "metadata": {
    "execution": {
     "iopub.execute_input": "2022-03-23T21:23:40.089895Z",
     "iopub.status.busy": "2022-03-23T21:23:40.089200Z",
     "iopub.status.idle": "2022-03-23T21:23:40.378861Z",
     "shell.execute_reply": "2022-03-23T21:23:40.378368Z",
     "shell.execute_reply.started": "2022-03-23T21:21:53.544794Z"
    },
    "papermill": {
     "duration": 0.309818,
     "end_time": "2022-03-23T21:23:40.379021",
     "exception": false,
     "start_time": "2022-03-23T21:23:40.069203",
     "status": "completed"
    },
    "tags": []
   },
   "outputs": [
    {
     "name": "stderr",
     "output_type": "stream",
     "text": [
      "/opt/conda/lib/python3.7/site-packages/statsmodels/graphics/tsaplots.py:353: FutureWarning: The default method 'yw' can produce PACF values outside of the [-1,1] interval. After 0.13, the default will change tounadjusted Yule-Walker ('ywm'). You can use this method now by setting method='ywm'.\n",
      "  FutureWarning,\n"
     ]
    },
    {
     "data": {
      "image/png": "[encoded data removed]",
      "text/plain": [
       "<Figure size 432x288 with 1 Axes>"
      ]
     },
     "metadata": {
      "needs_background": "light"
     },
     "output_type": "display_data"
    }
   ],
   "source": [
    "df = pd.read_csv(\"../input/stockpricepredictons/RELIANCE.NS.csv\", usecols=[\"Date\", \"Open\", \"Adj Close\", \"High\", \"Low\"], index_col='Date',parse_dates=True)\n",
    "df = df.iloc[-800::]\n",
    "sm.graphics.tsa.plot_pacf(df[\"Open\"], lags=10)\n",
    "plt.show()"
   ]
  },
  {
   "cell_type": "code",
   "execution_count": 3,
   "id": "9e391498",
   "metadata": {
    "execution": {
     "iopub.execute_input": "2022-03-23T21:23:40.414116Z",
     "iopub.status.busy": "2022-03-23T21:23:40.413038Z",
     "iopub.status.idle": "2022-03-23T21:23:40.415443Z",
     "shell.execute_reply": "2022-03-23T21:23:40.416001Z",
     "shell.execute_reply.started": "2022-03-23T21:21:53.927364Z"
    },
    "papermill": {
     "duration": 0.022464,
     "end_time": "2022-03-23T21:23:40.416152",
     "exception": false,
     "start_time": "2022-03-23T21:23:40.393688",
     "status": "completed"
    },
    "tags": []
   },
   "outputs": [],
   "source": [
    "train = df"
   ]
  },
  {
   "cell_type": "code",
   "execution_count": 4,
   "id": "25add45c",
   "metadata": {
    "execution": {
     "iopub.execute_input": "2022-03-23T21:23:40.452152Z",
     "iopub.status.busy": "2022-03-23T21:23:40.451290Z",
     "iopub.status.idle": "2022-03-23T21:23:40.531455Z",
     "shell.execute_reply": "2022-03-23T21:23:40.530969Z",
     "shell.execute_reply.started": "2022-03-23T21:21:53.935250Z"
    },
    "papermill": {
     "duration": 0.100401,
     "end_time": "2022-03-23T21:23:40.531593",
     "exception": false,
     "start_time": "2022-03-23T21:23:40.431192",
     "status": "completed"
    },
    "tags": []
   },
   "outputs": [
    {
     "data": {
      "text/plain": [
       "['RELIANCE_scaler.pkl']"
      ]
     },
     "execution_count": 4,
     "metadata": {},
     "output_type": "execute_result"
    }
   ],
   "source": [
    "from sklearn.preprocessing import MinMaxScaler\n",
    "scaler = MinMaxScaler()\n",
    "\n",
    "scaler.fit(train)\n",
    "scaled_train = scaler.transform(train)\n",
    "joblib.dump(scaler, 'RELIANCE_scaler.pkl') "
   ]
  },
  {
   "cell_type": "code",
   "execution_count": 5,
   "id": "994ded2c",
   "metadata": {
    "execution": {
     "iopub.execute_input": "2022-03-23T21:23:40.568308Z",
     "iopub.status.busy": "2022-03-23T21:23:40.567396Z",
     "iopub.status.idle": "2022-03-23T21:23:46.223113Z",
     "shell.execute_reply": "2022-03-23T21:23:46.222100Z",
     "shell.execute_reply.started": "2022-03-23T21:21:54.026683Z"
    },
    "papermill": {
     "duration": 5.676381,
     "end_time": "2022-03-23T21:23:46.223266",
     "exception": false,
     "start_time": "2022-03-23T21:23:40.546885",
     "status": "completed"
    },
    "tags": []
   },
   "outputs": [],
   "source": [
    "from keras.preprocessing.sequence import TimeseriesGenerator"
   ]
  },
  {
   "cell_type": "code",
   "execution_count": 6,
   "id": "78ea2630",
   "metadata": {
    "execution": {
     "iopub.execute_input": "2022-03-23T21:23:46.262827Z",
     "iopub.status.busy": "2022-03-23T21:23:46.261683Z",
     "iopub.status.idle": "2022-03-23T21:23:46.264890Z",
     "shell.execute_reply": "2022-03-23T21:23:46.264199Z",
     "shell.execute_reply.started": "2022-03-23T21:21:58.661455Z"
    },
    "papermill": {
     "duration": 0.024333,
     "end_time": "2022-03-23T21:23:46.265065",
     "exception": false,
     "start_time": "2022-03-23T21:23:46.240732",
     "status": "completed"
    },
    "tags": []
   },
   "outputs": [],
   "source": [
    "# define generator\n",
    "n_input = 1\n",
    "n_features = 4\n",
    "generator = TimeseriesGenerator(scaled_train, scaled_train, length=n_input, batch_size=1)"
   ]
  },
  {
   "cell_type": "code",
   "execution_count": 7,
   "id": "318d2fa6",
   "metadata": {
    "execution": {
     "iopub.execute_input": "2022-03-23T21:23:46.302784Z",
     "iopub.status.busy": "2022-03-23T21:23:46.301762Z",
     "iopub.status.idle": "2022-03-23T21:23:46.307402Z",
     "shell.execute_reply": "2022-03-23T21:23:46.306350Z",
     "shell.execute_reply.started": "2022-03-23T21:21:58.670532Z"
    },
    "papermill": {
     "duration": 0.026357,
     "end_time": "2022-03-23T21:23:46.307608",
     "exception": false,
     "start_time": "2022-03-23T21:23:46.281251",
     "status": "completed"
    },
    "tags": []
   },
   "outputs": [
    {
     "name": "stdout",
     "output_type": "stream",
     "text": [
      "Given the Array: \n",
      "[0.1031012  0.09685732 0.12289968 0.12149296]\n",
      "Predict this y: \n",
      " [[0.11297948 0.10137183 0.1321569  0.12430366]]\n"
     ]
    }
   ],
   "source": [
    "X,y = generator[0]\n",
    "print(f'Given the Array: \\n{X.flatten()}')\n",
    "print(f'Predict this y: \\n {y}')"
   ]
  },
  {
   "cell_type": "code",
   "execution_count": 8,
   "id": "cf317810",
   "metadata": {
    "execution": {
     "iopub.execute_input": "2022-03-23T21:23:46.345557Z",
     "iopub.status.busy": "2022-03-23T21:23:46.344646Z",
     "iopub.status.idle": "2022-03-23T21:23:46.347793Z",
     "shell.execute_reply": "2022-03-23T21:23:46.347296Z",
     "shell.execute_reply.started": "2022-03-23T21:21:58.681476Z"
    },
    "papermill": {
     "duration": 0.022692,
     "end_time": "2022-03-23T21:23:46.347915",
     "exception": false,
     "start_time": "2022-03-23T21:23:46.325223",
     "status": "completed"
    },
    "tags": []
   },
   "outputs": [],
   "source": [
    "from keras.models import Sequential\n",
    "from keras.layers import Dense\n",
    "from keras.layers import LSTM"
   ]
  },
  {
   "cell_type": "code",
   "execution_count": 9,
   "id": "32ce34f2",
   "metadata": {
    "execution": {
     "iopub.execute_input": "2022-03-23T21:23:46.383456Z",
     "iopub.status.busy": "2022-03-23T21:23:46.382323Z",
     "iopub.status.idle": "2022-03-23T21:23:49.996806Z",
     "shell.execute_reply": "2022-03-23T21:23:49.997610Z",
     "shell.execute_reply.started": "2022-03-23T21:21:58.690065Z"
    },
    "papermill": {
     "duration": 3.634129,
     "end_time": "2022-03-23T21:23:49.997836",
     "exception": false,
     "start_time": "2022-03-23T21:23:46.363707",
     "status": "completed"
    },
    "tags": []
   },
   "outputs": [
    {
     "name": "stderr",
     "output_type": "stream",
     "text": [
      "2022-03-23 21:23:46.475043: I tensorflow/stream_executor/cuda/cuda_gpu_executor.cc:937] successful NUMA node read from SysFS had negative value (-1), but there must be at least one NUMA node, so returning NUMA node zero\n",
      "2022-03-23 21:23:46.622977: I tensorflow/stream_executor/cuda/cuda_gpu_executor.cc:937] successful NUMA node read from SysFS had negative value (-1), but there must be at least one NUMA node, so returning NUMA node zero\n",
      "2022-03-23 21:23:46.624016: I tensorflow/stream_executor/cuda/cuda_gpu_executor.cc:937] successful NUMA node read from SysFS had negative value (-1), but there must be at least one NUMA node, so returning NUMA node zero\n",
      "2022-03-23 21:23:46.626808: I tensorflow/core/platform/cpu_feature_guard.cc:142] This TensorFlow binary is optimized with oneAPI Deep Neural Network Library (oneDNN) to use the following CPU instructions in performance-critical operations:  AVX2 FMA\n",
      "To enable them in other operations, rebuild TensorFlow with the appropriate compiler flags.\n",
      "2022-03-23 21:23:46.628369: I tensorflow/stream_executor/cuda/cuda_gpu_executor.cc:937] successful NUMA node read from SysFS had negative value (-1), but there must be at least one NUMA node, so returning NUMA node zero\n",
      "2022-03-23 21:23:46.629581: I tensorflow/stream_executor/cuda/cuda_gpu_executor.cc:937] successful NUMA node read from SysFS had negative value (-1), but there must be at least one NUMA node, so returning NUMA node zero\n",
      "2022-03-23 21:23:46.630663: I tensorflow/stream_executor/cuda/cuda_gpu_executor.cc:937] successful NUMA node read from SysFS had negative value (-1), but there must be at least one NUMA node, so returning NUMA node zero\n",
      "2022-03-23 21:23:49.439594: I tensorflow/stream_executor/cuda/cuda_gpu_executor.cc:937] successful NUMA node read from SysFS had negative value (-1), but there must be at least one NUMA node, so returning NUMA node zero\n",
      "2022-03-23 21:23:49.440685: I tensorflow/stream_executor/cuda/cuda_gpu_executor.cc:937] successful NUMA node read from SysFS had negative value (-1), but there must be at least one NUMA node, so returning NUMA node zero\n",
      "2022-03-23 21:23:49.441725: I tensorflow/stream_executor/cuda/cuda_gpu_executor.cc:937] successful NUMA node read from SysFS had negative value (-1), but there must be at least one NUMA node, so returning NUMA node zero\n",
      "2022-03-23 21:23:49.442722: I tensorflow/core/common_runtime/gpu/gpu_device.cc:1510] Created device /job:localhost/replica:0/task:0/device:GPU:0 with 15403 MB memory:  -> device: 0, name: Tesla P100-PCIE-16GB, pci bus id: 0000:00:04.0, compute capability: 6.0\n"
     ]
    }
   ],
   "source": [
    "# define model\n",
    "model = Sequential()\n",
    "model.add(LSTM(80, activation='relu', input_shape=(n_input, n_features),return_sequences=True))\n",
    "model.add(Dense(4))\n",
    "model.compile(optimizer='adam', loss='mse')"
   ]
  },
  {
   "cell_type": "code",
   "execution_count": 10,
   "id": "32b08b2e",
   "metadata": {
    "execution": {
     "iopub.execute_input": "2022-03-23T21:23:50.037117Z",
     "iopub.status.busy": "2022-03-23T21:23:50.035372Z",
     "iopub.status.idle": "2022-03-23T21:24:54.298251Z",
     "shell.execute_reply": "2022-03-23T21:24:54.297635Z",
     "shell.execute_reply.started": "2022-03-23T21:22:01.041267Z"
    },
    "papermill": {
     "duration": 64.282865,
     "end_time": "2022-03-23T21:24:54.298415",
     "exception": false,
     "start_time": "2022-03-23T21:23:50.015550",
     "status": "completed"
    },
    "tags": []
   },
   "outputs": [
    {
     "name": "stderr",
     "output_type": "stream",
     "text": [
      "2022-03-23 21:23:50.101228: I tensorflow/compiler/mlir/mlir_graph_optimization_pass.cc:185] None of the MLIR Optimization Passes are enabled (registered 2)\n"
     ]
    },
    {
     "name": "stdout",
     "output_type": "stream",
     "text": [
      "Epoch 1/10\n",
      "799/799 [==============================] - 8s 7ms/step - loss: 0.0231\n",
      "Epoch 2/10\n",
      "799/799 [==============================] - 6s 7ms/step - loss: 3.8447e-04\n",
      "Epoch 3/10\n",
      "799/799 [==============================] - 5s 7ms/step - loss: 3.5480e-04\n",
      "Epoch 4/10\n",
      "799/799 [==============================] - 7s 8ms/step - loss: 3.5936e-04\n",
      "Epoch 5/10\n",
      "799/799 [==============================] - 6s 7ms/step - loss: 3.6917e-04\n",
      "Epoch 6/10\n",
      "799/799 [==============================] - 6s 7ms/step - loss: 3.7342e-04\n",
      "Epoch 7/10\n",
      "799/799 [==============================] - 5s 7ms/step - loss: 3.5357e-04\n",
      "Epoch 8/10\n",
      "799/799 [==============================] - 6s 7ms/step - loss: 3.6280e-04\n",
      "Epoch 9/10\n",
      "799/799 [==============================] - 6s 8ms/step - loss: 3.4874e-04\n",
      "Epoch 10/10\n",
      "799/799 [==============================] - 6s 7ms/step - loss: 3.6141e-04\n"
     ]
    },
    {
     "data": {
      "text/plain": [
       "<keras.callbacks.History at 0x7f89bfb73ad0>"
      ]
     },
     "execution_count": 10,
     "metadata": {},
     "output_type": "execute_result"
    }
   ],
   "source": [
    "# fit model\n",
    "model.fit(generator,epochs=10)"
   ]
  },
  {
   "cell_type": "code",
   "execution_count": 11,
   "id": "ca70edf4",
   "metadata": {
    "execution": {
     "iopub.execute_input": "2022-03-23T21:24:55.497955Z",
     "iopub.status.busy": "2022-03-23T21:24:55.496648Z",
     "iopub.status.idle": "2022-03-23T21:24:55.976280Z",
     "shell.execute_reply": "2022-03-23T21:24:55.977075Z",
     "shell.execute_reply.started": "2022-03-23T21:22:46.206616Z"
    },
    "papermill": {
     "duration": 1.234294,
     "end_time": "2022-03-23T21:24:55.977335",
     "exception": false,
     "start_time": "2022-03-23T21:24:54.743041",
     "status": "completed"
    },
    "tags": []
   },
   "outputs": [
    {
     "name": "stdout",
     "output_type": "stream",
     "text": [
      "[[0.86324936 0.8710229  0.8611133  0.8662958 ]]\n",
      "[[2491.7917 2517.8665 2452.3691 2482.8694]]\n",
      "{'clip': False, 'copy': True, 'feature_range': (0, 1)}\n"
     ]
    }
   ],
   "source": [
    "first_eval_batch = scaled_train[-n_input:]\n",
    "current_batch = first_eval_batch.reshape((1, n_input, n_features))\n",
    "current_pred = model.predict(current_batch)[0]\n",
    "print(current_pred)\n",
    "fin_pred = scaler.inverse_transform(current_pred)\n",
    "print(fin_pred)\n",
    "print(scaler.get_params(deep=True))"
   ]
  },
  {
   "cell_type": "code",
   "execution_count": 12,
   "id": "d7a57d49",
   "metadata": {
    "execution": {
     "iopub.execute_input": "2022-03-23T21:24:56.860292Z",
     "iopub.status.busy": "2022-03-23T21:24:56.859317Z",
     "iopub.status.idle": "2022-03-23T21:24:56.885864Z",
     "shell.execute_reply": "2022-03-23T21:24:56.884954Z",
     "shell.execute_reply.started": "2022-03-23T21:22:46.608965Z"
    },
    "papermill": {
     "duration": 0.470088,
     "end_time": "2022-03-23T21:24:56.886031",
     "exception": false,
     "start_time": "2022-03-23T21:24:56.415943",
     "status": "completed"
    },
    "tags": []
   },
   "outputs": [],
   "source": [
    "model.save(\"RELIANCE_model.h5\")"
   ]
  }
 ],
 "metadata": {
  "kernelspec": {
   "display_name": "Python 3",
   "language": "python",
   "name": "python3"
  },
  "language_info": {
   "codemirror_mode": {
    "name": "ipython",
    "version": 3
   },
   "file_extension": ".py",
   "mimetype": "text/x-python",
   "name": "python",
   "nbconvert_exporter": "python",
   "pygments_lexer": "ipython3",
   "version": "3.7.12"
  },
  "papermill": {
   "default_parameters": {},
   "duration": 92.642721,
   "end_time": "2022-03-23T21:25:00.793935",
   "environment_variables": {},
   "exception": null,
   "input_path": "__notebook__.ipynb",
   "output_path": "__notebook__.ipynb",
   "parameters": {},
   "start_time": "2022-03-23T21:23:28.151214",
   "version": "2.3.3"
  }
 },
 "nbformat": 4,
 "nbformat_minor": 5
}
