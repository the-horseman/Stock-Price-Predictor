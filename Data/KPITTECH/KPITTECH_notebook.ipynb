{
 "cells": [
  {
   "cell_type": "code",
   "execution_count": 1,
   "id": "7e55bc21",
   "metadata": {
    "_cell_guid": "b1076dfc-b9ad-4769-8c92-a6c4dae69d19",
    "_uuid": "8f2839f25d086af736a60e9eeb907d3b93b6e0e5",
    "execution": {
     "iopub.execute_input": "2022-03-23T21:16:27.281496Z",
     "iopub.status.busy": "2022-03-23T21:16:27.280792Z",
     "iopub.status.idle": "2022-03-23T21:16:28.789127Z",
     "shell.execute_reply": "2022-03-23T21:16:28.788503Z",
     "shell.execute_reply.started": "2022-03-23T21:14:53.308471Z"
    },
    "papermill": {
     "duration": 1.533647,
     "end_time": "2022-03-23T21:16:28.789287",
     "exception": false,
     "start_time": "2022-03-23T21:16:27.255640",
     "status": "completed"
    },
    "tags": []
   },
   "outputs": [],
   "source": [
    "import pandas as pd\n",
    "import numpy as np\n",
    "import matplotlib.pyplot as plt\n",
    "import statsmodels.api as sm\n",
    "import joblib"
   ]
  },
  {
   "cell_type": "code",
   "execution_count": 2,
   "id": "fbfad626",
   "metadata": {
    "execution": {
     "iopub.execute_input": "2022-03-23T21:16:28.819630Z",
     "iopub.status.busy": "2022-03-23T21:16:28.819013Z",
     "iopub.status.idle": "2022-03-23T21:16:29.065724Z",
     "shell.execute_reply": "2022-03-23T21:16:29.066126Z",
     "shell.execute_reply.started": "2022-03-23T21:14:54.857825Z"
    },
    "papermill": {
     "duration": 0.264603,
     "end_time": "2022-03-23T21:16:29.066279",
     "exception": false,
     "start_time": "2022-03-23T21:16:28.801676",
     "status": "completed"
    },
    "tags": []
   },
   "outputs": [
    {
     "name": "stderr",
     "output_type": "stream",
     "text": [
      "/opt/conda/lib/python3.7/site-packages/statsmodels/graphics/tsaplots.py:353: FutureWarning: The default method 'yw' can produce PACF values outside of the [-1,1] interval. After 0.13, the default will change tounadjusted Yule-Walker ('ywm'). You can use this method now by setting method='ywm'.\n",
      "  FutureWarning,\n"
     ]
    },
    {
     "data": {
      "image/png": "[encoded data removed]",
      "text/plain": [
       "<Figure size 432x288 with 1 Axes>"
      ]
     },
     "metadata": {
      "needs_background": "light"
     },
     "output_type": "display_data"
    }
   ],
   "source": [
    "df = pd.read_csv(\"../input/stockpricepredictons/KPITTECH.NS.csv\", usecols=[\"Date\", \"Open\", \"Adj Close\", \"High\", \"Low\"], index_col='Date',parse_dates=True)\n",
    "df = df.iloc[-800::]\n",
    "sm.graphics.tsa.plot_pacf(df[\"Open\"], lags=10)\n",
    "plt.show()"
   ]
  },
  {
   "cell_type": "code",
   "execution_count": 3,
   "id": "0a3ebbd1",
   "metadata": {
    "execution": {
     "iopub.execute_input": "2022-03-23T21:16:29.095425Z",
     "iopub.status.busy": "2022-03-23T21:16:29.093913Z",
     "iopub.status.idle": "2022-03-23T21:16:29.096086Z",
     "shell.execute_reply": "2022-03-23T21:16:29.096482Z",
     "shell.execute_reply.started": "2022-03-23T21:14:55.096727Z"
    },
    "papermill": {
     "duration": 0.018205,
     "end_time": "2022-03-23T21:16:29.096600",
     "exception": false,
     "start_time": "2022-03-23T21:16:29.078395",
     "status": "completed"
    },
    "tags": []
   },
   "outputs": [],
   "source": [
    "train = df"
   ]
  },
  {
   "cell_type": "code",
   "execution_count": 4,
   "id": "a458a9b0",
   "metadata": {
    "execution": {
     "iopub.execute_input": "2022-03-23T21:16:29.124481Z",
     "iopub.status.busy": "2022-03-23T21:16:29.123947Z",
     "iopub.status.idle": "2022-03-23T21:16:29.193971Z",
     "shell.execute_reply": "2022-03-23T21:16:29.194429Z",
     "shell.execute_reply.started": "2022-03-23T21:14:55.102531Z"
    },
    "papermill": {
     "duration": 0.086135,
     "end_time": "2022-03-23T21:16:29.194593",
     "exception": false,
     "start_time": "2022-03-23T21:16:29.108458",
     "status": "completed"
    },
    "tags": []
   },
   "outputs": [
    {
     "data": {
      "text/plain": [
       "['KPITTECH_scaler.pkl']"
      ]
     },
     "execution_count": 4,
     "metadata": {},
     "output_type": "execute_result"
    }
   ],
   "source": [
    "from sklearn.preprocessing import MinMaxScaler\n",
    "scaler = MinMaxScaler()\n",
    "\n",
    "scaler.fit(train)\n",
    "scaled_train = scaler.transform(train)\n",
    "joblib.dump(scaler, 'KPITTECH_scaler.pkl') "
   ]
  },
  {
   "cell_type": "code",
   "execution_count": 5,
   "id": "76978059",
   "metadata": {
    "execution": {
     "iopub.execute_input": "2022-03-23T21:16:29.223809Z",
     "iopub.status.busy": "2022-03-23T21:16:29.223171Z",
     "iopub.status.idle": "2022-03-23T21:16:33.797082Z",
     "shell.execute_reply": "2022-03-23T21:16:33.796587Z",
     "shell.execute_reply.started": "2022-03-23T21:14:55.182039Z"
    },
    "papermill": {
     "duration": 4.590347,
     "end_time": "2022-03-23T21:16:33.797218",
     "exception": false,
     "start_time": "2022-03-23T21:16:29.206871",
     "status": "completed"
    },
    "tags": []
   },
   "outputs": [],
   "source": [
    "from keras.preprocessing.sequence import TimeseriesGenerator"
   ]
  },
  {
   "cell_type": "code",
   "execution_count": 6,
   "id": "5c37b738",
   "metadata": {
    "execution": {
     "iopub.execute_input": "2022-03-23T21:16:33.826039Z",
     "iopub.status.busy": "2022-03-23T21:16:33.825512Z",
     "iopub.status.idle": "2022-03-23T21:16:33.828813Z",
     "shell.execute_reply": "2022-03-23T21:16:33.828419Z",
     "shell.execute_reply.started": "2022-03-23T21:14:59.854917Z"
    },
    "papermill": {
     "duration": 0.019288,
     "end_time": "2022-03-23T21:16:33.828918",
     "exception": false,
     "start_time": "2022-03-23T21:16:33.809630",
     "status": "completed"
    },
    "tags": []
   },
   "outputs": [],
   "source": [
    "# define generator\n",
    "n_input = 1\n",
    "n_features = 4\n",
    "generator = TimeseriesGenerator(scaled_train, scaled_train, length=n_input, batch_size=1)"
   ]
  },
  {
   "cell_type": "code",
   "execution_count": 7,
   "id": "d07dfb70",
   "metadata": {
    "execution": {
     "iopub.execute_input": "2022-03-23T21:16:33.857758Z",
     "iopub.status.busy": "2022-03-23T21:16:33.856979Z",
     "iopub.status.idle": "2022-03-23T21:16:33.861217Z",
     "shell.execute_reply": "2022-03-23T21:16:33.860768Z",
     "shell.execute_reply.started": "2022-03-23T21:14:59.863876Z"
    },
    "papermill": {
     "duration": 0.020145,
     "end_time": "2022-03-23T21:16:33.861326",
     "exception": false,
     "start_time": "2022-03-23T21:16:33.841181",
     "status": "completed"
    },
    "tags": []
   },
   "outputs": [
    {
     "name": "stdout",
     "output_type": "stream",
     "text": [
      "Given the Array: \n",
      "[0.08875575 0.08816796 0.0869882  0.09348759]\n",
      "Predict this y: \n",
      " [[0.10282848 0.09490483 0.10374472 0.1005377 ]]\n"
     ]
    }
   ],
   "source": [
    "X,y = generator[0]\n",
    "print(f'Given the Array: \\n{X.flatten()}')\n",
    "print(f'Predict this y: \\n {y}')"
   ]
  },
  {
   "cell_type": "code",
   "execution_count": 8,
   "id": "93b2c6fd",
   "metadata": {
    "execution": {
     "iopub.execute_input": "2022-03-23T21:16:33.889672Z",
     "iopub.status.busy": "2022-03-23T21:16:33.889078Z",
     "iopub.status.idle": "2022-03-23T21:16:33.891685Z",
     "shell.execute_reply": "2022-03-23T21:16:33.891289Z",
     "shell.execute_reply.started": "2022-03-23T21:14:59.875323Z"
    },
    "papermill": {
     "duration": 0.018102,
     "end_time": "2022-03-23T21:16:33.891787",
     "exception": false,
     "start_time": "2022-03-23T21:16:33.873685",
     "status": "completed"
    },
    "tags": []
   },
   "outputs": [],
   "source": [
    "from keras.models import Sequential\n",
    "from keras.layers import Dense\n",
    "from keras.layers import LSTM"
   ]
  },
  {
   "cell_type": "code",
   "execution_count": 9,
   "id": "c9434562",
   "metadata": {
    "execution": {
     "iopub.execute_input": "2022-03-23T21:16:33.920521Z",
     "iopub.status.busy": "2022-03-23T21:16:33.920018Z",
     "iopub.status.idle": "2022-03-23T21:16:36.396768Z",
     "shell.execute_reply": "2022-03-23T21:16:36.397383Z",
     "shell.execute_reply.started": "2022-03-23T21:14:59.884057Z"
    },
    "papermill": {
     "duration": 2.493583,
     "end_time": "2022-03-23T21:16:36.397583",
     "exception": false,
     "start_time": "2022-03-23T21:16:33.904000",
     "status": "completed"
    },
    "tags": []
   },
   "outputs": [
    {
     "name": "stderr",
     "output_type": "stream",
     "text": [
      "2022-03-23 21:16:33.993781: I tensorflow/stream_executor/cuda/cuda_gpu_executor.cc:937] successful NUMA node read from SysFS had negative value (-1), but there must be at least one NUMA node, so returning NUMA node zero\n",
      "2022-03-23 21:16:34.079458: I tensorflow/stream_executor/cuda/cuda_gpu_executor.cc:937] successful NUMA node read from SysFS had negative value (-1), but there must be at least one NUMA node, so returning NUMA node zero\n",
      "2022-03-23 21:16:34.080230: I tensorflow/stream_executor/cuda/cuda_gpu_executor.cc:937] successful NUMA node read from SysFS had negative value (-1), but there must be at least one NUMA node, so returning NUMA node zero\n",
      "2022-03-23 21:16:34.081547: I tensorflow/core/platform/cpu_feature_guard.cc:142] This TensorFlow binary is optimized with oneAPI Deep Neural Network Library (oneDNN) to use the following CPU instructions in performance-critical operations:  AVX2 AVX512F FMA\n",
      "To enable them in other operations, rebuild TensorFlow with the appropriate compiler flags.\n",
      "2022-03-23 21:16:34.083080: I tensorflow/stream_executor/cuda/cuda_gpu_executor.cc:937] successful NUMA node read from SysFS had negative value (-1), but there must be at least one NUMA node, so returning NUMA node zero\n",
      "2022-03-23 21:16:34.083740: I tensorflow/stream_executor/cuda/cuda_gpu_executor.cc:937] successful NUMA node read from SysFS had negative value (-1), but there must be at least one NUMA node, so returning NUMA node zero\n",
      "2022-03-23 21:16:34.084379: I tensorflow/stream_executor/cuda/cuda_gpu_executor.cc:937] successful NUMA node read from SysFS had negative value (-1), but there must be at least one NUMA node, so returning NUMA node zero\n",
      "2022-03-23 21:16:35.927341: I tensorflow/stream_executor/cuda/cuda_gpu_executor.cc:937] successful NUMA node read from SysFS had negative value (-1), but there must be at least one NUMA node, so returning NUMA node zero\n",
      "2022-03-23 21:16:35.928137: I tensorflow/stream_executor/cuda/cuda_gpu_executor.cc:937] successful NUMA node read from SysFS had negative value (-1), but there must be at least one NUMA node, so returning NUMA node zero\n",
      "2022-03-23 21:16:35.928811: I tensorflow/stream_executor/cuda/cuda_gpu_executor.cc:937] successful NUMA node read from SysFS had negative value (-1), but there must be at least one NUMA node, so returning NUMA node zero\n",
      "2022-03-23 21:16:35.929393: I tensorflow/core/common_runtime/gpu/gpu_device.cc:1510] Created device /job:localhost/replica:0/task:0/device:GPU:0 with 15403 MB memory:  -> device: 0, name: Tesla P100-PCIE-16GB, pci bus id: 0000:00:04.0, compute capability: 6.0\n"
     ]
    }
   ],
   "source": [
    "# define model\n",
    "model = Sequential()\n",
    "model.add(LSTM(80, activation='relu', input_shape=(n_input, n_features),return_sequences=True))\n",
    "model.add(Dense(4))\n",
    "model.compile(optimizer='adam', loss='mse')"
   ]
  },
  {
   "cell_type": "code",
   "execution_count": 10,
   "id": "f21e5c56",
   "metadata": {
    "execution": {
     "iopub.execute_input": "2022-03-23T21:16:36.428645Z",
     "iopub.status.busy": "2022-03-23T21:16:36.427803Z",
     "iopub.status.idle": "2022-03-23T21:17:15.290731Z",
     "shell.execute_reply": "2022-03-23T21:17:15.290317Z",
     "shell.execute_reply.started": "2022-03-23T21:15:02.385095Z"
    },
    "papermill": {
     "duration": 38.879101,
     "end_time": "2022-03-23T21:17:15.290867",
     "exception": false,
     "start_time": "2022-03-23T21:16:36.411766",
     "status": "completed"
    },
    "tags": []
   },
   "outputs": [
    {
     "name": "stderr",
     "output_type": "stream",
     "text": [
      "2022-03-23 21:16:36.479065: I tensorflow/compiler/mlir/mlir_graph_optimization_pass.cc:185] None of the MLIR Optimization Passes are enabled (registered 2)\n"
     ]
    },
    {
     "name": "stdout",
     "output_type": "stream",
     "text": [
      "Epoch 1/10\n",
      "723/723 [==============================] - 5s 5ms/step - loss: 0.0103\n",
      "Epoch 2/10\n",
      "723/723 [==============================] - 3s 5ms/step - loss: 2.2200e-04\n",
      "Epoch 3/10\n",
      "723/723 [==============================] - 3s 5ms/step - loss: 2.0923e-04\n",
      "Epoch 4/10\n",
      "723/723 [==============================] - 5s 6ms/step - loss: 2.3313e-04\n",
      "Epoch 5/10\n",
      "723/723 [==============================] - 4s 5ms/step - loss: 1.8448e-04\n",
      "Epoch 6/10\n",
      "723/723 [==============================] - 3s 5ms/step - loss: 2.1413e-04\n",
      "Epoch 7/10\n",
      "723/723 [==============================] - 4s 5ms/step - loss: 2.2834e-04\n",
      "Epoch 8/10\n",
      "723/723 [==============================] - 4s 5ms/step - loss: 2.4032e-04\n",
      "Epoch 9/10\n",
      "723/723 [==============================] - 3s 5ms/step - loss: 2.0063e-04\n",
      "Epoch 10/10\n",
      "723/723 [==============================] - 4s 5ms/step - loss: 2.0529e-04\n"
     ]
    },
    {
     "data": {
      "text/plain": [
       "<keras.callbacks.History at 0x7fc327ad23d0>"
      ]
     },
     "execution_count": 10,
     "metadata": {},
     "output_type": "execute_result"
    }
   ],
   "source": [
    "# fit model\n",
    "model.fit(generator,epochs=10)"
   ]
  },
  {
   "cell_type": "code",
   "execution_count": 11,
   "id": "2e58c6fa",
   "metadata": {
    "execution": {
     "iopub.execute_input": "2022-03-23T21:17:15.765391Z",
     "iopub.status.busy": "2022-03-23T21:17:15.764566Z",
     "iopub.status.idle": "2022-03-23T21:17:16.127720Z",
     "shell.execute_reply": "2022-03-23T21:17:16.127101Z",
     "shell.execute_reply.started": "2022-03-23T21:15:40.682184Z"
    },
    "papermill": {
     "duration": 0.602191,
     "end_time": "2022-03-23T21:17:16.127881",
     "exception": false,
     "start_time": "2022-03-23T21:17:15.525690",
     "status": "completed"
    },
    "tags": []
   },
   "outputs": [
    {
     "name": "stdout",
     "output_type": "stream",
     "text": [
      "[[0.79972404 0.7477309  0.81109685 0.79561985]]\n",
      "[[609.26196 608.1529  591.0058  599.02966]]\n",
      "{'clip': False, 'copy': True, 'feature_range': (0, 1)}\n"
     ]
    }
   ],
   "source": [
    "first_eval_batch = scaled_train[-n_input:]\n",
    "current_batch = first_eval_batch.reshape((1, n_input, n_features))\n",
    "current_pred = model.predict(current_batch)[0]\n",
    "print(current_pred)\n",
    "fin_pred = scaler.inverse_transform(current_pred)\n",
    "print(fin_pred)\n",
    "print(scaler.get_params(deep=True))"
   ]
  },
  {
   "cell_type": "code",
   "execution_count": 12,
   "id": "4755b19a",
   "metadata": {
    "execution": {
     "iopub.execute_input": "2022-03-23T21:17:16.637081Z",
     "iopub.status.busy": "2022-03-23T21:17:16.631585Z",
     "iopub.status.idle": "2022-03-23T21:17:16.656035Z",
     "shell.execute_reply": "2022-03-23T21:17:16.655574Z",
     "shell.execute_reply.started": "2022-03-23T21:15:41.069578Z"
    },
    "papermill": {
     "duration": 0.262723,
     "end_time": "2022-03-23T21:17:16.656160",
     "exception": false,
     "start_time": "2022-03-23T21:17:16.393437",
     "status": "completed"
    },
    "tags": []
   },
   "outputs": [],
   "source": [
    "model.save(\"KPITTECH_model.h5\")"
   ]
  }
 ],
 "metadata": {
  "kernelspec": {
   "display_name": "Python 3",
   "language": "python",
   "name": "python3"
  },
  "language_info": {
   "codemirror_mode": {
    "name": "ipython",
    "version": 3
   },
   "file_extension": ".py",
   "mimetype": "text/x-python",
   "name": "python",
   "nbconvert_exporter": "python",
   "pygments_lexer": "ipython3",
   "version": "3.7.12"
  },
  "papermill": {
   "default_parameters": {},
   "duration": 61.518383,
   "end_time": "2022-03-23T21:17:20.167267",
   "environment_variables": {},
   "exception": null,
   "input_path": "__notebook__.ipynb",
   "output_path": "__notebook__.ipynb",
   "parameters": {},
   "start_time": "2022-03-23T21:16:18.648884",
   "version": "2.3.3"
  }
 },
 "nbformat": 4,
 "nbformat_minor": 5
}
