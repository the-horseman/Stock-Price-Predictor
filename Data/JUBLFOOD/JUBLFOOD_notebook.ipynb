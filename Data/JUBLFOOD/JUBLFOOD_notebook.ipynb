{
 "cells": [
  {
   "cell_type": "code",
   "execution_count": 1,
   "id": "fe60e5a7",
   "metadata": {
    "_cell_guid": "b1076dfc-b9ad-4769-8c92-a6c4dae69d19",
    "_uuid": "8f2839f25d086af736a60e9eeb907d3b93b6e0e5",
    "execution": {
     "iopub.execute_input": "2022-03-23T21:13:40.468479Z",
     "iopub.status.busy": "2022-03-23T21:13:40.466870Z",
     "iopub.status.idle": "2022-03-23T21:13:41.937913Z",
     "shell.execute_reply": "2022-03-23T21:13:41.939006Z",
     "shell.execute_reply.started": "2022-03-23T21:11:24.132665Z"
    },
    "papermill": {
     "duration": 1.48814,
     "end_time": "2022-03-23T21:13:41.939302",
     "exception": false,
     "start_time": "2022-03-23T21:13:40.451162",
     "status": "completed"
    },
    "tags": []
   },
   "outputs": [],
   "source": [
    "import pandas as pd\n",
    "import numpy as np\n",
    "import matplotlib.pyplot as plt\n",
    "import statsmodels.api as sm\n",
    "import joblib"
   ]
  },
  {
   "cell_type": "code",
   "execution_count": 2,
   "id": "ecac384e",
   "metadata": {
    "execution": {
     "iopub.execute_input": "2022-03-23T21:13:41.982654Z",
     "iopub.status.busy": "2022-03-23T21:13:41.982142Z",
     "iopub.status.idle": "2022-03-23T21:13:42.326661Z",
     "shell.execute_reply": "2022-03-23T21:13:42.326011Z",
     "shell.execute_reply.started": "2022-03-23T21:11:25.503666Z"
    },
    "papermill": {
     "duration": 0.368978,
     "end_time": "2022-03-23T21:13:42.326843",
     "exception": false,
     "start_time": "2022-03-23T21:13:41.957865",
     "status": "completed"
    },
    "tags": []
   },
   "outputs": [
    {
     "name": "stderr",
     "output_type": "stream",
     "text": [
      "/opt/conda/lib/python3.7/site-packages/statsmodels/graphics/tsaplots.py:353: FutureWarning: The default method 'yw' can produce PACF values outside of the [-1,1] interval. After 0.13, the default will change tounadjusted Yule-Walker ('ywm'). You can use this method now by setting method='ywm'.\n",
      "  FutureWarning,\n"
     ]
    },
    {
     "data": {
      "image/png": "[encoded data removed]",
      "text/plain": [
       "<Figure size 432x288 with 1 Axes>"
      ]
     },
     "metadata": {
      "needs_background": "light"
     },
     "output_type": "display_data"
    }
   ],
   "source": [
    "df = pd.read_csv(\"../input/stockpricepredictons/JUBLFOOD.NS.csv\", usecols=[\"Date\", \"Open\", \"Adj Close\", \"High\", \"Low\"], index_col='Date',parse_dates=True)\n",
    "df = df.iloc[-800::]\n",
    "sm.graphics.tsa.plot_pacf(df[\"Open\"], lags=10)\n",
    "plt.show()"
   ]
  },
  {
   "cell_type": "code",
   "execution_count": 3,
   "id": "00b20570",
   "metadata": {
    "execution": {
     "iopub.execute_input": "2022-03-23T21:13:42.372078Z",
     "iopub.status.busy": "2022-03-23T21:13:42.370830Z",
     "iopub.status.idle": "2022-03-23T21:13:42.373594Z",
     "shell.execute_reply": "2022-03-23T21:13:42.374606Z",
     "shell.execute_reply.started": "2022-03-23T21:11:25.750766Z"
    },
    "papermill": {
     "duration": 0.028539,
     "end_time": "2022-03-23T21:13:42.375007",
     "exception": false,
     "start_time": "2022-03-23T21:13:42.346468",
     "status": "completed"
    },
    "tags": []
   },
   "outputs": [],
   "source": [
    "train = df"
   ]
  },
  {
   "cell_type": "code",
   "execution_count": 4,
   "id": "8a4e6c43",
   "metadata": {
    "execution": {
     "iopub.execute_input": "2022-03-23T21:13:42.406538Z",
     "iopub.status.busy": "2022-03-23T21:13:42.405907Z",
     "iopub.status.idle": "2022-03-23T21:13:42.478727Z",
     "shell.execute_reply": "2022-03-23T21:13:42.479141Z",
     "shell.execute_reply.started": "2022-03-23T21:11:25.757965Z"
    },
    "papermill": {
     "duration": 0.088918,
     "end_time": "2022-03-23T21:13:42.479262",
     "exception": false,
     "start_time": "2022-03-23T21:13:42.390344",
     "status": "completed"
    },
    "tags": []
   },
   "outputs": [
    {
     "data": {
      "text/plain": [
       "['JUBLFOOD_scaler.pkl']"
      ]
     },
     "execution_count": 4,
     "metadata": {},
     "output_type": "execute_result"
    }
   ],
   "source": [
    "from sklearn.preprocessing import MinMaxScaler\n",
    "scaler = MinMaxScaler()\n",
    "\n",
    "scaler.fit(train)\n",
    "scaled_train = scaler.transform(train)\n",
    "joblib.dump(scaler, 'JUBLFOOD_scaler.pkl') "
   ]
  },
  {
   "cell_type": "code",
   "execution_count": 5,
   "id": "84843ee8",
   "metadata": {
    "execution": {
     "iopub.execute_input": "2022-03-23T21:13:42.507231Z",
     "iopub.status.busy": "2022-03-23T21:13:42.506546Z",
     "iopub.status.idle": "2022-03-23T21:13:47.083354Z",
     "shell.execute_reply": "2022-03-23T21:13:47.082831Z",
     "shell.execute_reply.started": "2022-03-23T21:11:25.825053Z"
    },
    "papermill": {
     "duration": 4.592066,
     "end_time": "2022-03-23T21:13:47.083486",
     "exception": false,
     "start_time": "2022-03-23T21:13:42.491420",
     "status": "completed"
    },
    "tags": []
   },
   "outputs": [],
   "source": [
    "from keras.preprocessing.sequence import TimeseriesGenerator"
   ]
  },
  {
   "cell_type": "code",
   "execution_count": 6,
   "id": "c4f499d6",
   "metadata": {
    "execution": {
     "iopub.execute_input": "2022-03-23T21:13:47.114555Z",
     "iopub.status.busy": "2022-03-23T21:13:47.113656Z",
     "iopub.status.idle": "2022-03-23T21:13:47.115603Z",
     "shell.execute_reply": "2022-03-23T21:13:47.116015Z",
     "shell.execute_reply.started": "2022-03-23T21:11:30.643136Z"
    },
    "papermill": {
     "duration": 0.019612,
     "end_time": "2022-03-23T21:13:47.116182",
     "exception": false,
     "start_time": "2022-03-23T21:13:47.096570",
     "status": "completed"
    },
    "tags": []
   },
   "outputs": [],
   "source": [
    "# define generator\n",
    "n_input = 1\n",
    "n_features = 4\n",
    "generator = TimeseriesGenerator(scaled_train, scaled_train, length=n_input, batch_size=1)"
   ]
  },
  {
   "cell_type": "code",
   "execution_count": 7,
   "id": "eb7d949f",
   "metadata": {
    "execution": {
     "iopub.execute_input": "2022-03-23T21:13:47.146609Z",
     "iopub.status.busy": "2022-03-23T21:13:47.145965Z",
     "iopub.status.idle": "2022-03-23T21:13:47.149035Z",
     "shell.execute_reply": "2022-03-23T21:13:47.149669Z",
     "shell.execute_reply.started": "2022-03-23T21:11:30.649119Z"
    },
    "papermill": {
     "duration": 0.021081,
     "end_time": "2022-03-23T21:13:47.149857",
     "exception": false,
     "start_time": "2022-03-23T21:13:47.128776",
     "status": "completed"
    },
    "tags": []
   },
   "outputs": [
    {
     "name": "stdout",
     "output_type": "stream",
     "text": [
      "Given the Array: \n",
      "[0.04141317 0.03688834 0.0414989  0.03691668]\n",
      "Predict this y: \n",
      " [[0.04000689 0.04042697 0.04701803 0.04132184]]\n"
     ]
    }
   ],
   "source": [
    "X,y = generator[0]\n",
    "print(f'Given the Array: \\n{X.flatten()}')\n",
    "print(f'Predict this y: \\n {y}')"
   ]
  },
  {
   "cell_type": "code",
   "execution_count": 8,
   "id": "7653778f",
   "metadata": {
    "execution": {
     "iopub.execute_input": "2022-03-23T21:13:47.181359Z",
     "iopub.status.busy": "2022-03-23T21:13:47.180644Z",
     "iopub.status.idle": "2022-03-23T21:13:47.182934Z",
     "shell.execute_reply": "2022-03-23T21:13:47.183357Z",
     "shell.execute_reply.started": "2022-03-23T21:11:30.661642Z"
    },
    "papermill": {
     "duration": 0.019368,
     "end_time": "2022-03-23T21:13:47.183475",
     "exception": false,
     "start_time": "2022-03-23T21:13:47.164107",
     "status": "completed"
    },
    "tags": []
   },
   "outputs": [],
   "source": [
    "from keras.models import Sequential\n",
    "from keras.layers import Dense\n",
    "from keras.layers import LSTM"
   ]
  },
  {
   "cell_type": "code",
   "execution_count": 9,
   "id": "6a02a237",
   "metadata": {
    "execution": {
     "iopub.execute_input": "2022-03-23T21:13:47.214303Z",
     "iopub.status.busy": "2022-03-23T21:13:47.213810Z",
     "iopub.status.idle": "2022-03-23T21:13:49.692421Z",
     "shell.execute_reply": "2022-03-23T21:13:49.692893Z",
     "shell.execute_reply.started": "2022-03-23T21:11:30.670581Z"
    },
    "papermill": {
     "duration": 2.496141,
     "end_time": "2022-03-23T21:13:49.693055",
     "exception": false,
     "start_time": "2022-03-23T21:13:47.196914",
     "status": "completed"
    },
    "tags": []
   },
   "outputs": [
    {
     "name": "stderr",
     "output_type": "stream",
     "text": [
      "2022-03-23 21:13:47.294456: I tensorflow/stream_executor/cuda/cuda_gpu_executor.cc:937] successful NUMA node read from SysFS had negative value (-1), but there must be at least one NUMA node, so returning NUMA node zero\n",
      "2022-03-23 21:13:47.383508: I tensorflow/stream_executor/cuda/cuda_gpu_executor.cc:937] successful NUMA node read from SysFS had negative value (-1), but there must be at least one NUMA node, so returning NUMA node zero\n",
      "2022-03-23 21:13:47.384254: I tensorflow/stream_executor/cuda/cuda_gpu_executor.cc:937] successful NUMA node read from SysFS had negative value (-1), but there must be at least one NUMA node, so returning NUMA node zero\n",
      "2022-03-23 21:13:47.385709: I tensorflow/core/platform/cpu_feature_guard.cc:142] This TensorFlow binary is optimized with oneAPI Deep Neural Network Library (oneDNN) to use the following CPU instructions in performance-critical operations:  AVX2 AVX512F FMA\n",
      "To enable them in other operations, rebuild TensorFlow with the appropriate compiler flags.\n",
      "2022-03-23 21:13:47.387011: I tensorflow/stream_executor/cuda/cuda_gpu_executor.cc:937] successful NUMA node read from SysFS had negative value (-1), but there must be at least one NUMA node, so returning NUMA node zero\n",
      "2022-03-23 21:13:47.387950: I tensorflow/stream_executor/cuda/cuda_gpu_executor.cc:937] successful NUMA node read from SysFS had negative value (-1), but there must be at least one NUMA node, so returning NUMA node zero\n",
      "2022-03-23 21:13:47.388838: I tensorflow/stream_executor/cuda/cuda_gpu_executor.cc:937] successful NUMA node read from SysFS had negative value (-1), but there must be at least one NUMA node, so returning NUMA node zero\n",
      "2022-03-23 21:13:49.223487: I tensorflow/stream_executor/cuda/cuda_gpu_executor.cc:937] successful NUMA node read from SysFS had negative value (-1), but there must be at least one NUMA node, so returning NUMA node zero\n",
      "2022-03-23 21:13:49.224378: I tensorflow/stream_executor/cuda/cuda_gpu_executor.cc:937] successful NUMA node read from SysFS had negative value (-1), but there must be at least one NUMA node, so returning NUMA node zero\n",
      "2022-03-23 21:13:49.225071: I tensorflow/stream_executor/cuda/cuda_gpu_executor.cc:937] successful NUMA node read from SysFS had negative value (-1), but there must be at least one NUMA node, so returning NUMA node zero\n",
      "2022-03-23 21:13:49.225671: I tensorflow/core/common_runtime/gpu/gpu_device.cc:1510] Created device /job:localhost/replica:0/task:0/device:GPU:0 with 15403 MB memory:  -> device: 0, name: Tesla P100-PCIE-16GB, pci bus id: 0000:00:04.0, compute capability: 6.0\n"
     ]
    }
   ],
   "source": [
    "# define model\n",
    "model = Sequential()\n",
    "model.add(LSTM(80, activation='relu', input_shape=(n_input, n_features),return_sequences=True))\n",
    "model.add(Dense(4))\n",
    "model.compile(optimizer='adam', loss='mse')"
   ]
  },
  {
   "cell_type": "code",
   "execution_count": 10,
   "id": "d2d97130",
   "metadata": {
    "execution": {
     "iopub.execute_input": "2022-03-23T21:13:49.723514Z",
     "iopub.status.busy": "2022-03-23T21:13:49.722834Z",
     "iopub.status.idle": "2022-03-23T21:14:34.781101Z",
     "shell.execute_reply": "2022-03-23T21:14:34.781507Z",
     "shell.execute_reply.started": "2022-03-23T21:11:32.969899Z"
    },
    "papermill": {
     "duration": 45.075286,
     "end_time": "2022-03-23T21:14:34.781665",
     "exception": false,
     "start_time": "2022-03-23T21:13:49.706379",
     "status": "completed"
    },
    "tags": []
   },
   "outputs": [
    {
     "name": "stderr",
     "output_type": "stream",
     "text": [
      "2022-03-23 21:13:49.772678: I tensorflow/compiler/mlir/mlir_graph_optimization_pass.cc:185] None of the MLIR Optimization Passes are enabled (registered 2)\n"
     ]
    },
    {
     "name": "stdout",
     "output_type": "stream",
     "text": [
      "Epoch 1/10\n",
      "799/799 [==============================] - 6s 5ms/step - loss: 0.0171\n",
      "Epoch 2/10\n",
      "799/799 [==============================] - 4s 5ms/step - loss: 3.0993e-04\n",
      "Epoch 3/10\n",
      "799/799 [==============================] - 4s 5ms/step - loss: 3.0666e-04\n",
      "Epoch 4/10\n",
      "799/799 [==============================] - 4s 5ms/step - loss: 3.2964e-04\n",
      "Epoch 5/10\n",
      "799/799 [==============================] - 4s 5ms/step - loss: 3.4270e-04\n",
      "Epoch 6/10\n",
      "799/799 [==============================] - 4s 5ms/step - loss: 3.6516e-04\n",
      "Epoch 7/10\n",
      "799/799 [==============================] - 4s 5ms/step - loss: 3.3110e-04\n",
      "Epoch 8/10\n",
      "799/799 [==============================] - 5s 7ms/step - loss: 3.5394e-04\n",
      "Epoch 9/10\n",
      "799/799 [==============================] - 4s 5ms/step - loss: 2.9769e-04\n",
      "Epoch 10/10\n",
      "799/799 [==============================] - 4s 5ms/step - loss: 3.0974e-04\n"
     ]
    },
    {
     "data": {
      "text/plain": [
       "<keras.callbacks.History at 0x7f1061e324d0>"
      ]
     },
     "execution_count": 10,
     "metadata": {},
     "output_type": "execute_result"
    }
   ],
   "source": [
    "# fit model\n",
    "model.fit(generator,epochs=10)"
   ]
  },
  {
   "cell_type": "code",
   "execution_count": 11,
   "id": "b9c8efb4",
   "metadata": {
    "execution": {
     "iopub.execute_input": "2022-03-23T21:14:35.310548Z",
     "iopub.status.busy": "2022-03-23T21:14:35.309762Z",
     "iopub.status.idle": "2022-03-23T21:14:35.706182Z",
     "shell.execute_reply": "2022-03-23T21:14:35.705644Z",
     "shell.execute_reply.started": "2022-03-23T21:12:16.711303Z"
    },
    "papermill": {
     "duration": 0.662259,
     "end_time": "2022-03-23T21:14:35.706322",
     "exception": false,
     "start_time": "2022-03-23T21:14:35.044063",
     "status": "completed"
    },
    "tags": []
   },
   "outputs": [
    {
     "name": "stdout",
     "output_type": "stream",
     "text": [
      "[[0.44136584 0.4558318  0.4532933  0.4457885 ]]\n",
      "[[2643.495  2706.1985 2580.9072 2624.6404]]\n",
      "{'clip': False, 'copy': True, 'feature_range': (0, 1)}\n"
     ]
    }
   ],
   "source": [
    "first_eval_batch = scaled_train[-n_input:]\n",
    "current_batch = first_eval_batch.reshape((1, n_input, n_features))\n",
    "current_pred = model.predict(current_batch)[0]\n",
    "print(current_pred)\n",
    "fin_pred = scaler.inverse_transform(current_pred)\n",
    "print(fin_pred)\n",
    "print(scaler.get_params(deep=True))"
   ]
  },
  {
   "cell_type": "code",
   "execution_count": 12,
   "id": "e6c789b9",
   "metadata": {
    "execution": {
     "iopub.execute_input": "2022-03-23T21:14:36.263101Z",
     "iopub.status.busy": "2022-03-23T21:14:36.259057Z",
     "iopub.status.idle": "2022-03-23T21:14:36.284896Z",
     "shell.execute_reply": "2022-03-23T21:14:36.284074Z",
     "shell.execute_reply.started": "2022-03-23T21:12:17.139551Z"
    },
    "papermill": {
     "duration": 0.295158,
     "end_time": "2022-03-23T21:14:36.285023",
     "exception": false,
     "start_time": "2022-03-23T21:14:35.989865",
     "status": "completed"
    },
    "tags": []
   },
   "outputs": [],
   "source": [
    "model.save(\"JUBLFOOD_model.h5\")"
   ]
  }
 ],
 "metadata": {
  "kernelspec": {
   "display_name": "Python 3",
   "language": "python",
   "name": "python3"
  },
  "language_info": {
   "codemirror_mode": {
    "name": "ipython",
    "version": 3
   },
   "file_extension": ".py",
   "mimetype": "text/x-python",
   "name": "python",
   "nbconvert_exporter": "python",
   "pygments_lexer": "ipython3",
   "version": "3.7.12"
  },
  "papermill": {
   "default_parameters": {},
   "duration": 67.331321,
   "end_time": "2022-03-23T21:14:39.581490",
   "environment_variables": {},
   "exception": null,
   "input_path": "__notebook__.ipynb",
   "output_path": "__notebook__.ipynb",
   "parameters": {},
   "start_time": "2022-03-23T21:13:32.250169",
   "version": "2.3.3"
  }
 },
 "nbformat": 4,
 "nbformat_minor": 5
}
