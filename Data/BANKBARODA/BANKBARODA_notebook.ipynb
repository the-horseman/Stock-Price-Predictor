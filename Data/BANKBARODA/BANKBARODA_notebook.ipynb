{
 "cells": [
  {
   "cell_type": "code",
   "execution_count": 1,
   "id": "279fffe2",
   "metadata": {
    "_cell_guid": "b1076dfc-b9ad-4769-8c92-a6c4dae69d19",
    "_uuid": "8f2839f25d086af736a60e9eeb907d3b93b6e0e5",
    "execution": {
     "iopub.execute_input": "2022-03-23T20:15:54.564180Z",
     "iopub.status.busy": "2022-03-23T20:15:54.563520Z",
     "iopub.status.idle": "2022-03-23T20:15:56.159195Z",
     "shell.execute_reply": "2022-03-23T20:15:56.158161Z",
     "shell.execute_reply.started": "2022-03-23T20:13:56.381000Z"
    },
    "papermill": {
     "duration": 1.61911,
     "end_time": "2022-03-23T20:15:56.159410",
     "exception": false,
     "start_time": "2022-03-23T20:15:54.540300",
     "status": "completed"
    },
    "tags": []
   },
   "outputs": [],
   "source": [
    "import pandas as pd\n",
    "import numpy as np\n",
    "import matplotlib.pyplot as plt\n",
    "import statsmodels.api as sm\n",
    "import joblib"
   ]
  },
  {
   "cell_type": "code",
   "execution_count": 2,
   "id": "474fb093",
   "metadata": {
    "execution": {
     "iopub.execute_input": "2022-03-23T20:15:56.189595Z",
     "iopub.status.busy": "2022-03-23T20:15:56.188898Z",
     "iopub.status.idle": "2022-03-23T20:15:56.441630Z",
     "shell.execute_reply": "2022-03-23T20:15:56.442037Z",
     "shell.execute_reply.started": "2022-03-23T20:13:57.839091Z"
    },
    "papermill": {
     "duration": 0.269912,
     "end_time": "2022-03-23T20:15:56.442191",
     "exception": false,
     "start_time": "2022-03-23T20:15:56.172279",
     "status": "completed"
    },
    "tags": []
   },
   "outputs": [
    {
     "name": "stderr",
     "output_type": "stream",
     "text": [
      "/opt/conda/lib/python3.7/site-packages/statsmodels/graphics/tsaplots.py:353: FutureWarning: The default method 'yw' can produce PACF values outside of the [-1,1] interval. After 0.13, the default will change tounadjusted Yule-Walker ('ywm'). You can use this method now by setting method='ywm'.\n",
      "  FutureWarning,\n"
     ]
    },
    {
     "data": {
      "image/png": "[encoded data removed]",
      "text/plain": [
       "<Figure size 432x288 with 1 Axes>"
      ]
     },
     "metadata": {
      "needs_background": "light"
     },
     "output_type": "display_data"
    }
   ],
   "source": [
    "df = pd.read_csv(\"../input/stockpricepredictons/BANKBARODA.NS.csv\", usecols=[\"Date\", \"Open\", \"Adj Close\", \"High\", \"Low\"], index_col='Date',parse_dates=True)\n",
    "df = df.iloc[-800::]\n",
    "sm.graphics.tsa.plot_pacf(df[\"Open\"], lags=10)\n",
    "plt.show()"
   ]
  },
  {
   "cell_type": "code",
   "execution_count": 3,
   "id": "f2b6a918",
   "metadata": {
    "execution": {
     "iopub.execute_input": "2022-03-23T20:15:56.473598Z",
     "iopub.status.busy": "2022-03-23T20:15:56.471966Z",
     "iopub.status.idle": "2022-03-23T20:15:56.474183Z",
     "shell.execute_reply": "2022-03-23T20:15:56.474621Z",
     "shell.execute_reply.started": "2022-03-23T20:13:58.082541Z"
    },
    "papermill": {
     "duration": 0.019705,
     "end_time": "2022-03-23T20:15:56.474766",
     "exception": false,
     "start_time": "2022-03-23T20:15:56.455061",
     "status": "completed"
    },
    "tags": []
   },
   "outputs": [],
   "source": [
    "train = df"
   ]
  },
  {
   "cell_type": "code",
   "execution_count": 4,
   "id": "36761401",
   "metadata": {
    "execution": {
     "iopub.execute_input": "2022-03-23T20:15:56.505139Z",
     "iopub.status.busy": "2022-03-23T20:15:56.504492Z",
     "iopub.status.idle": "2022-03-23T20:15:56.573088Z",
     "shell.execute_reply": "2022-03-23T20:15:56.573528Z",
     "shell.execute_reply.started": "2022-03-23T20:13:58.089750Z"
    },
    "papermill": {
     "duration": 0.085945,
     "end_time": "2022-03-23T20:15:56.573675",
     "exception": false,
     "start_time": "2022-03-23T20:15:56.487730",
     "status": "completed"
    },
    "tags": []
   },
   "outputs": [
    {
     "data": {
      "text/plain": [
       "['BANKBARODA_scaler.pkl']"
      ]
     },
     "execution_count": 4,
     "metadata": {},
     "output_type": "execute_result"
    }
   ],
   "source": [
    "from sklearn.preprocessing import MinMaxScaler\n",
    "scaler = MinMaxScaler()\n",
    "\n",
    "scaler.fit(train)\n",
    "scaled_train = scaler.transform(train)\n",
    "joblib.dump(scaler, 'BANKBARODA_scaler.pkl') "
   ]
  },
  {
   "cell_type": "code",
   "execution_count": 5,
   "id": "b5110ad6",
   "metadata": {
    "execution": {
     "iopub.execute_input": "2022-03-23T20:15:56.602780Z",
     "iopub.status.busy": "2022-03-23T20:15:56.602205Z",
     "iopub.status.idle": "2022-03-23T20:16:01.407683Z",
     "shell.execute_reply": "2022-03-23T20:16:01.408163Z",
     "shell.execute_reply.started": "2022-03-23T20:13:58.171340Z"
    },
    "papermill": {
     "duration": 4.822297,
     "end_time": "2022-03-23T20:16:01.408346",
     "exception": false,
     "start_time": "2022-03-23T20:15:56.586049",
     "status": "completed"
    },
    "tags": []
   },
   "outputs": [],
   "source": [
    "from keras.preprocessing.sequence import TimeseriesGenerator"
   ]
  },
  {
   "cell_type": "code",
   "execution_count": 6,
   "id": "da84c81c",
   "metadata": {
    "execution": {
     "iopub.execute_input": "2022-03-23T20:16:01.439208Z",
     "iopub.status.busy": "2022-03-23T20:16:01.438355Z",
     "iopub.status.idle": "2022-03-23T20:16:01.440119Z",
     "shell.execute_reply": "2022-03-23T20:16:01.440617Z",
     "shell.execute_reply.started": "2022-03-23T20:14:02.879449Z"
    },
    "papermill": {
     "duration": 0.01922,
     "end_time": "2022-03-23T20:16:01.440749",
     "exception": false,
     "start_time": "2022-03-23T20:16:01.421529",
     "status": "completed"
    },
    "tags": []
   },
   "outputs": [],
   "source": [
    "# define generator\n",
    "n_input = 1\n",
    "n_features = 4\n",
    "generator = TimeseriesGenerator(scaled_train, scaled_train, length=n_input, batch_size=1)"
   ]
  },
  {
   "cell_type": "code",
   "execution_count": 7,
   "id": "2f674767",
   "metadata": {
    "execution": {
     "iopub.execute_input": "2022-03-23T20:16:01.471389Z",
     "iopub.status.busy": "2022-03-23T20:16:01.469957Z",
     "iopub.status.idle": "2022-03-23T20:16:01.473725Z",
     "shell.execute_reply": "2022-03-23T20:16:01.473089Z",
     "shell.execute_reply.started": "2022-03-23T20:14:02.885048Z"
    },
    "papermill": {
     "duration": 0.020969,
     "end_time": "2022-03-23T20:16:01.473863",
     "exception": false,
     "start_time": "2022-03-23T20:16:01.452894",
     "status": "completed"
    },
    "tags": []
   },
   "outputs": [
    {
     "name": "stdout",
     "output_type": "stream",
     "text": [
      "Given the Array: \n",
      "[0.79397702 0.76966294 0.79166667 0.76495935]\n",
      "Predict this y: \n",
      " [[0.7753346  0.76638579 0.80456345 0.78362853]]\n"
     ]
    }
   ],
   "source": [
    "X,y = generator[0]\n",
    "print(f'Given the Array: \\n{X.flatten()}')\n",
    "print(f'Predict this y: \\n {y}')"
   ]
  },
  {
   "cell_type": "code",
   "execution_count": 8,
   "id": "73765032",
   "metadata": {
    "execution": {
     "iopub.execute_input": "2022-03-23T20:16:01.504202Z",
     "iopub.status.busy": "2022-03-23T20:16:01.503657Z",
     "iopub.status.idle": "2022-03-23T20:16:01.505881Z",
     "shell.execute_reply": "2022-03-23T20:16:01.506356Z",
     "shell.execute_reply.started": "2022-03-23T20:14:02.899539Z"
    },
    "papermill": {
     "duration": 0.018558,
     "end_time": "2022-03-23T20:16:01.506495",
     "exception": false,
     "start_time": "2022-03-23T20:16:01.487937",
     "status": "completed"
    },
    "tags": []
   },
   "outputs": [],
   "source": [
    "from keras.models import Sequential\n",
    "from keras.layers import Dense\n",
    "from keras.layers import LSTM"
   ]
  },
  {
   "cell_type": "code",
   "execution_count": 9,
   "id": "96c0bba9",
   "metadata": {
    "execution": {
     "iopub.execute_input": "2022-03-23T20:16:01.537523Z",
     "iopub.status.busy": "2022-03-23T20:16:01.536895Z",
     "iopub.status.idle": "2022-03-23T20:16:04.172697Z",
     "shell.execute_reply": "2022-03-23T20:16:04.173290Z",
     "shell.execute_reply.started": "2022-03-23T20:14:02.909081Z"
    },
    "papermill": {
     "duration": 2.654392,
     "end_time": "2022-03-23T20:16:04.173494",
     "exception": false,
     "start_time": "2022-03-23T20:16:01.519102",
     "status": "completed"
    },
    "tags": []
   },
   "outputs": [
    {
     "name": "stderr",
     "output_type": "stream",
     "text": [
      "2022-03-23 20:16:01.612016: I tensorflow/stream_executor/cuda/cuda_gpu_executor.cc:937] successful NUMA node read from SysFS had negative value (-1), but there must be at least one NUMA node, so returning NUMA node zero\n",
      "2022-03-23 20:16:01.697728: I tensorflow/stream_executor/cuda/cuda_gpu_executor.cc:937] successful NUMA node read from SysFS had negative value (-1), but there must be at least one NUMA node, so returning NUMA node zero\n",
      "2022-03-23 20:16:01.698536: I tensorflow/stream_executor/cuda/cuda_gpu_executor.cc:937] successful NUMA node read from SysFS had negative value (-1), but there must be at least one NUMA node, so returning NUMA node zero\n",
      "2022-03-23 20:16:01.699848: I tensorflow/core/platform/cpu_feature_guard.cc:142] This TensorFlow binary is optimized with oneAPI Deep Neural Network Library (oneDNN) to use the following CPU instructions in performance-critical operations:  AVX2 AVX512F FMA\n",
      "To enable them in other operations, rebuild TensorFlow with the appropriate compiler flags.\n",
      "2022-03-23 20:16:01.700933: I tensorflow/stream_executor/cuda/cuda_gpu_executor.cc:937] successful NUMA node read from SysFS had negative value (-1), but there must be at least one NUMA node, so returning NUMA node zero\n",
      "2022-03-23 20:16:01.701716: I tensorflow/stream_executor/cuda/cuda_gpu_executor.cc:937] successful NUMA node read from SysFS had negative value (-1), but there must be at least one NUMA node, so returning NUMA node zero\n",
      "2022-03-23 20:16:01.702447: I tensorflow/stream_executor/cuda/cuda_gpu_executor.cc:937] successful NUMA node read from SysFS had negative value (-1), but there must be at least one NUMA node, so returning NUMA node zero\n",
      "2022-03-23 20:16:03.698249: I tensorflow/stream_executor/cuda/cuda_gpu_executor.cc:937] successful NUMA node read from SysFS had negative value (-1), but there must be at least one NUMA node, so returning NUMA node zero\n",
      "2022-03-23 20:16:03.699074: I tensorflow/stream_executor/cuda/cuda_gpu_executor.cc:937] successful NUMA node read from SysFS had negative value (-1), but there must be at least one NUMA node, so returning NUMA node zero\n",
      "2022-03-23 20:16:03.699796: I tensorflow/stream_executor/cuda/cuda_gpu_executor.cc:937] successful NUMA node read from SysFS had negative value (-1), but there must be at least one NUMA node, so returning NUMA node zero\n",
      "2022-03-23 20:16:03.700405: I tensorflow/core/common_runtime/gpu/gpu_device.cc:1510] Created device /job:localhost/replica:0/task:0/device:GPU:0 with 15403 MB memory:  -> device: 0, name: Tesla P100-PCIE-16GB, pci bus id: 0000:00:04.0, compute capability: 6.0\n"
     ]
    }
   ],
   "source": [
    "# define model\n",
    "model = Sequential()\n",
    "model.add(LSTM(50, activation='relu', input_shape=(n_input, n_features),return_sequences=True))\n",
    "model.add(Dense(4))\n",
    "model.compile(optimizer='adam', loss='mse')"
   ]
  },
  {
   "cell_type": "code",
   "execution_count": 10,
   "id": "1e48ab79",
   "metadata": {
    "execution": {
     "iopub.execute_input": "2022-03-23T20:16:04.204458Z",
     "iopub.status.busy": "2022-03-23T20:16:04.203824Z",
     "iopub.status.idle": "2022-03-23T20:16:50.248635Z",
     "shell.execute_reply": "2022-03-23T20:16:50.249112Z",
     "shell.execute_reply.started": "2022-03-23T20:14:05.460011Z"
    },
    "papermill": {
     "duration": 46.061748,
     "end_time": "2022-03-23T20:16:50.249268",
     "exception": false,
     "start_time": "2022-03-23T20:16:04.187520",
     "status": "completed"
    },
    "tags": []
   },
   "outputs": [
    {
     "name": "stderr",
     "output_type": "stream",
     "text": [
      "2022-03-23 20:16:04.255674: I tensorflow/compiler/mlir/mlir_graph_optimization_pass.cc:185] None of the MLIR Optimization Passes are enabled (registered 2)\n"
     ]
    },
    {
     "name": "stdout",
     "output_type": "stream",
     "text": [
      "Epoch 1/10\n",
      "799/799 [==============================] - 7s 7ms/step - loss: 0.0223\n",
      "Epoch 2/10\n",
      "799/799 [==============================] - 4s 5ms/step - loss: 4.9706e-04\n",
      "Epoch 3/10\n",
      "799/799 [==============================] - 4s 6ms/step - loss: 4.9708e-04\n",
      "Epoch 4/10\n",
      "799/799 [==============================] - 4s 5ms/step - loss: 5.0617e-04\n",
      "Epoch 5/10\n",
      "799/799 [==============================] - 4s 5ms/step - loss: 5.1817e-04\n",
      "Epoch 6/10\n",
      "799/799 [==============================] - 4s 5ms/step - loss: 5.2360e-04\n",
      "Epoch 7/10\n",
      "799/799 [==============================] - 4s 5ms/step - loss: 4.7883e-04\n",
      "Epoch 8/10\n",
      "799/799 [==============================] - 5s 6ms/step - loss: 4.8263e-04\n",
      "Epoch 9/10\n",
      "799/799 [==============================] - 4s 5ms/step - loss: 4.7315e-04\n",
      "Epoch 10/10\n",
      "799/799 [==============================] - 4s 5ms/step - loss: 4.5966e-04\n"
     ]
    },
    {
     "data": {
      "text/plain": [
       "<keras.callbacks.History at 0x7f7acc3b64d0>"
      ]
     },
     "execution_count": 10,
     "metadata": {},
     "output_type": "execute_result"
    }
   ],
   "source": [
    "# fit model\n",
    "model.fit(generator,epochs=10)"
   ]
  },
  {
   "cell_type": "code",
   "execution_count": 11,
   "id": "f9f10aeb",
   "metadata": {
    "execution": {
     "iopub.execute_input": "2022-03-23T20:16:51.184573Z",
     "iopub.status.busy": "2022-03-23T20:16:51.183813Z",
     "iopub.status.idle": "2022-03-23T20:16:51.618027Z",
     "shell.execute_reply": "2022-03-23T20:16:51.618611Z",
     "shell.execute_reply.started": "2022-03-23T20:14:47.001693Z"
    },
    "papermill": {
     "duration": 0.927437,
     "end_time": "2022-03-23T20:16:51.618829",
     "exception": false,
     "start_time": "2022-03-23T20:16:50.691392",
     "status": "completed"
    },
    "tags": []
   },
   "outputs": [
    {
     "name": "stdout",
     "output_type": "stream",
     "text": [
      "[[0.65048105 0.64220065 0.6544955  0.6429779 ]]\n",
      "[[104.19032  105.78703  101.973145 103.65904 ]]\n",
      "{'clip': False, 'copy': True, 'feature_range': (0, 1)}\n"
     ]
    }
   ],
   "source": [
    "first_eval_batch = scaled_train[-n_input:]\n",
    "current_batch = first_eval_batch.reshape((1, n_input, n_features))\n",
    "current_pred = model.predict(current_batch)[0]\n",
    "print(current_pred)\n",
    "fin_pred = scaler.inverse_transform(current_pred)\n",
    "print(fin_pred)\n",
    "print(scaler.get_params(deep=True))"
   ]
  },
  {
   "cell_type": "code",
   "execution_count": 12,
   "id": "77386091",
   "metadata": {
    "execution": {
     "iopub.execute_input": "2022-03-23T20:16:52.227002Z",
     "iopub.status.busy": "2022-03-23T20:16:52.226412Z",
     "iopub.status.idle": "2022-03-23T20:16:52.244678Z",
     "shell.execute_reply": "2022-03-23T20:16:52.244180Z",
     "shell.execute_reply.started": "2022-03-23T20:14:47.377178Z"
    },
    "papermill": {
     "duration": 0.318527,
     "end_time": "2022-03-23T20:16:52.244804",
     "exception": false,
     "start_time": "2022-03-23T20:16:51.926277",
     "status": "completed"
    },
    "tags": []
   },
   "outputs": [],
   "source": [
    "model.save(\"BANKBARODA_model.h5\")"
   ]
  }
 ],
 "metadata": {
  "kernelspec": {
   "display_name": "Python 3",
   "language": "python",
   "name": "python3"
  },
  "language_info": {
   "codemirror_mode": {
    "name": "ipython",
    "version": 3
   },
   "file_extension": ".py",
   "mimetype": "text/x-python",
   "name": "python",
   "nbconvert_exporter": "python",
   "pygments_lexer": "ipython3",
   "version": "3.7.12"
  },
  "papermill": {
   "default_parameters": {},
   "duration": 69.434193,
   "end_time": "2022-03-23T20:16:55.449964",
   "environment_variables": {},
   "exception": null,
   "input_path": "__notebook__.ipynb",
   "output_path": "__notebook__.ipynb",
   "parameters": {},
   "start_time": "2022-03-23T20:15:46.015771",
   "version": "2.3.3"
  }
 },
 "nbformat": 4,
 "nbformat_minor": 5
}
