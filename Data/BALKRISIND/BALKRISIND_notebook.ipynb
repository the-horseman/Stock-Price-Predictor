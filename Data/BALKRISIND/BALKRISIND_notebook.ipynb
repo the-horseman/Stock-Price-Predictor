{
 "cells": [
  {
   "cell_type": "code",
   "execution_count": 1,
   "id": "690e4e39",
   "metadata": {
    "_cell_guid": "b1076dfc-b9ad-4769-8c92-a6c4dae69d19",
    "_uuid": "8f2839f25d086af736a60e9eeb907d3b93b6e0e5",
    "execution": {
     "iopub.execute_input": "2022-03-23T20:12:23.124921Z",
     "iopub.status.busy": "2022-03-23T20:12:23.123350Z",
     "iopub.status.idle": "2022-03-23T20:12:24.603909Z",
     "shell.execute_reply": "2022-03-23T20:12:24.605105Z",
     "shell.execute_reply.started": "2022-03-23T20:10:45.981065Z"
    },
    "papermill": {
     "duration": 1.498101,
     "end_time": "2022-03-23T20:12:24.605443",
     "exception": false,
     "start_time": "2022-03-23T20:12:23.107342",
     "status": "completed"
    },
    "tags": []
   },
   "outputs": [],
   "source": [
    "import pandas as pd\n",
    "import numpy as np\n",
    "import matplotlib.pyplot as plt\n",
    "import statsmodels.api as sm\n",
    "import joblib"
   ]
  },
  {
   "cell_type": "code",
   "execution_count": 2,
   "id": "39ae8113",
   "metadata": {
    "execution": {
     "iopub.execute_input": "2022-03-23T20:12:24.652169Z",
     "iopub.status.busy": "2022-03-23T20:12:24.651247Z",
     "iopub.status.idle": "2022-03-23T20:12:24.938571Z",
     "shell.execute_reply": "2022-03-23T20:12:24.939019Z",
     "shell.execute_reply.started": "2022-03-23T20:10:47.316075Z"
    },
    "papermill": {
     "duration": 0.313582,
     "end_time": "2022-03-23T20:12:24.939177",
     "exception": false,
     "start_time": "2022-03-23T20:12:24.625595",
     "status": "completed"
    },
    "tags": []
   },
   "outputs": [
    {
     "name": "stderr",
     "output_type": "stream",
     "text": [
      "/opt/conda/lib/python3.7/site-packages/statsmodels/graphics/tsaplots.py:353: FutureWarning: The default method 'yw' can produce PACF values outside of the [-1,1] interval. After 0.13, the default will change tounadjusted Yule-Walker ('ywm'). You can use this method now by setting method='ywm'.\n",
      "  FutureWarning,\n"
     ]
    },
    {
     "data": {
      "image/png": "[encoded data removed]",
      "text/plain": [
       "<Figure size 432x288 with 1 Axes>"
      ]
     },
     "metadata": {
      "needs_background": "light"
     },
     "output_type": "display_data"
    }
   ],
   "source": [
    "df = pd.read_csv(\"../input/stockpricepredictons/BALKRISIND.NS.csv\", usecols=[\"Date\", \"Open\", \"Adj Close\", \"High\", \"Low\"], index_col='Date',parse_dates=True)\n",
    "df = df.iloc[-800::]\n",
    "sm.graphics.tsa.plot_pacf(df[\"Open\"], lags=10)\n",
    "plt.show()"
   ]
  },
  {
   "cell_type": "code",
   "execution_count": 3,
   "id": "5141e74b",
   "metadata": {
    "execution": {
     "iopub.execute_input": "2022-03-23T20:12:24.966658Z",
     "iopub.status.busy": "2022-03-23T20:12:24.964677Z",
     "iopub.status.idle": "2022-03-23T20:12:24.969796Z",
     "shell.execute_reply": "2022-03-23T20:12:24.969375Z",
     "shell.execute_reply.started": "2022-03-23T20:10:47.579980Z"
    },
    "papermill": {
     "duration": 0.018649,
     "end_time": "2022-03-23T20:12:24.969923",
     "exception": false,
     "start_time": "2022-03-23T20:12:24.951274",
     "status": "completed"
    },
    "tags": []
   },
   "outputs": [],
   "source": [
    "train = df"
   ]
  },
  {
   "cell_type": "code",
   "execution_count": 4,
   "id": "2af04f97",
   "metadata": {
    "execution": {
     "iopub.execute_input": "2022-03-23T20:12:24.998110Z",
     "iopub.status.busy": "2022-03-23T20:12:24.997488Z",
     "iopub.status.idle": "2022-03-23T20:12:25.061767Z",
     "shell.execute_reply": "2022-03-23T20:12:25.062255Z",
     "shell.execute_reply.started": "2022-03-23T20:10:47.587058Z"
    },
    "papermill": {
     "duration": 0.08093,
     "end_time": "2022-03-23T20:12:25.062400",
     "exception": false,
     "start_time": "2022-03-23T20:12:24.981470",
     "status": "completed"
    },
    "tags": []
   },
   "outputs": [
    {
     "data": {
      "text/plain": [
       "['BALKRISIND_scaler.pkl']"
      ]
     },
     "execution_count": 4,
     "metadata": {},
     "output_type": "execute_result"
    }
   ],
   "source": [
    "from sklearn.preprocessing import MinMaxScaler\n",
    "scaler = MinMaxScaler()\n",
    "\n",
    "scaler.fit(train)\n",
    "scaled_train = scaler.transform(train)\n",
    "joblib.dump(scaler, 'BALKRISIND_scaler.pkl') "
   ]
  },
  {
   "cell_type": "code",
   "execution_count": 5,
   "id": "0e64c1cb",
   "metadata": {
    "execution": {
     "iopub.execute_input": "2022-03-23T20:12:25.090517Z",
     "iopub.status.busy": "2022-03-23T20:12:25.089893Z",
     "iopub.status.idle": "2022-03-23T20:12:29.596981Z",
     "shell.execute_reply": "2022-03-23T20:12:29.597452Z",
     "shell.execute_reply.started": "2022-03-23T20:10:47.653625Z"
    },
    "papermill": {
     "duration": 4.52311,
     "end_time": "2022-03-23T20:12:29.597615",
     "exception": false,
     "start_time": "2022-03-23T20:12:25.074505",
     "status": "completed"
    },
    "tags": []
   },
   "outputs": [],
   "source": [
    "from keras.preprocessing.sequence import TimeseriesGenerator"
   ]
  },
  {
   "cell_type": "code",
   "execution_count": 6,
   "id": "dceb0ed1",
   "metadata": {
    "execution": {
     "iopub.execute_input": "2022-03-23T20:12:29.625933Z",
     "iopub.status.busy": "2022-03-23T20:12:29.625132Z",
     "iopub.status.idle": "2022-03-23T20:12:29.629585Z",
     "shell.execute_reply": "2022-03-23T20:12:29.629189Z",
     "shell.execute_reply.started": "2022-03-23T20:10:52.271202Z"
    },
    "papermill": {
     "duration": 0.019524,
     "end_time": "2022-03-23T20:12:29.629702",
     "exception": false,
     "start_time": "2022-03-23T20:12:29.610178",
     "status": "completed"
    },
    "tags": []
   },
   "outputs": [],
   "source": [
    "# define generator\n",
    "n_input = 1\n",
    "n_features = 4\n",
    "generator = TimeseriesGenerator(scaled_train, scaled_train, length=n_input, batch_size=1)"
   ]
  },
  {
   "cell_type": "code",
   "execution_count": 7,
   "id": "dc9eebf0",
   "metadata": {
    "execution": {
     "iopub.execute_input": "2022-03-23T20:12:29.658575Z",
     "iopub.status.busy": "2022-03-23T20:12:29.657999Z",
     "iopub.status.idle": "2022-03-23T20:12:29.660681Z",
     "shell.execute_reply": "2022-03-23T20:12:29.661103Z",
     "shell.execute_reply.started": "2022-03-23T20:10:52.281393Z"
    },
    "papermill": {
     "duration": 0.019488,
     "end_time": "2022-03-23T20:12:29.661230",
     "exception": false,
     "start_time": "2022-03-23T20:12:29.641742",
     "status": "completed"
    },
    "tags": []
   },
   "outputs": [
    {
     "name": "stdout",
     "output_type": "stream",
     "text": [
      "Given the Array: \n",
      "[0.11089754 0.10420231 0.11098893 0.09727962]\n",
      "Predict this y: \n",
      " [[0.10739811 0.10945828 0.11610363 0.1023605 ]]\n"
     ]
    }
   ],
   "source": [
    "X,y = generator[0]\n",
    "print(f'Given the Array: \\n{X.flatten()}')\n",
    "print(f'Predict this y: \\n {y}')"
   ]
  },
  {
   "cell_type": "code",
   "execution_count": 8,
   "id": "909b4cc2",
   "metadata": {
    "execution": {
     "iopub.execute_input": "2022-03-23T20:12:29.688653Z",
     "iopub.status.busy": "2022-03-23T20:12:29.687839Z",
     "iopub.status.idle": "2022-03-23T20:12:29.692060Z",
     "shell.execute_reply": "2022-03-23T20:12:29.691641Z",
     "shell.execute_reply.started": "2022-03-23T20:10:52.293863Z"
    },
    "papermill": {
     "duration": 0.018673,
     "end_time": "2022-03-23T20:12:29.692177",
     "exception": false,
     "start_time": "2022-03-23T20:12:29.673504",
     "status": "completed"
    },
    "tags": []
   },
   "outputs": [],
   "source": [
    "from keras.models import Sequential\n",
    "from keras.layers import Dense\n",
    "from keras.layers import LSTM"
   ]
  },
  {
   "cell_type": "code",
   "execution_count": 9,
   "id": "8ed41304",
   "metadata": {
    "execution": {
     "iopub.execute_input": "2022-03-23T20:12:29.721292Z",
     "iopub.status.busy": "2022-03-23T20:12:29.720753Z",
     "iopub.status.idle": "2022-03-23T20:12:32.246158Z",
     "shell.execute_reply": "2022-03-23T20:12:32.245508Z",
     "shell.execute_reply.started": "2022-03-23T20:10:52.301914Z"
    },
    "papermill": {
     "duration": 2.541918,
     "end_time": "2022-03-23T20:12:32.246315",
     "exception": false,
     "start_time": "2022-03-23T20:12:29.704397",
     "status": "completed"
    },
    "tags": []
   },
   "outputs": [
    {
     "name": "stderr",
     "output_type": "stream",
     "text": [
      "2022-03-23 20:12:29.786384: I tensorflow/stream_executor/cuda/cuda_gpu_executor.cc:937] successful NUMA node read from SysFS had negative value (-1), but there must be at least one NUMA node, so returning NUMA node zero\n",
      "2022-03-23 20:12:29.868526: I tensorflow/stream_executor/cuda/cuda_gpu_executor.cc:937] successful NUMA node read from SysFS had negative value (-1), but there must be at least one NUMA node, so returning NUMA node zero\n",
      "2022-03-23 20:12:29.869262: I tensorflow/stream_executor/cuda/cuda_gpu_executor.cc:937] successful NUMA node read from SysFS had negative value (-1), but there must be at least one NUMA node, so returning NUMA node zero\n",
      "2022-03-23 20:12:29.870544: I tensorflow/core/platform/cpu_feature_guard.cc:142] This TensorFlow binary is optimized with oneAPI Deep Neural Network Library (oneDNN) to use the following CPU instructions in performance-critical operations:  AVX2 AVX512F FMA\n",
      "To enable them in other operations, rebuild TensorFlow with the appropriate compiler flags.\n",
      "2022-03-23 20:12:29.871663: I tensorflow/stream_executor/cuda/cuda_gpu_executor.cc:937] successful NUMA node read from SysFS had negative value (-1), but there must be at least one NUMA node, so returning NUMA node zero\n",
      "2022-03-23 20:12:29.872397: I tensorflow/stream_executor/cuda/cuda_gpu_executor.cc:937] successful NUMA node read from SysFS had negative value (-1), but there must be at least one NUMA node, so returning NUMA node zero\n",
      "2022-03-23 20:12:29.873082: I tensorflow/stream_executor/cuda/cuda_gpu_executor.cc:937] successful NUMA node read from SysFS had negative value (-1), but there must be at least one NUMA node, so returning NUMA node zero\n",
      "2022-03-23 20:12:31.785613: I tensorflow/stream_executor/cuda/cuda_gpu_executor.cc:937] successful NUMA node read from SysFS had negative value (-1), but there must be at least one NUMA node, so returning NUMA node zero\n",
      "2022-03-23 20:12:31.786431: I tensorflow/stream_executor/cuda/cuda_gpu_executor.cc:937] successful NUMA node read from SysFS had negative value (-1), but there must be at least one NUMA node, so returning NUMA node zero\n",
      "2022-03-23 20:12:31.787148: I tensorflow/stream_executor/cuda/cuda_gpu_executor.cc:937] successful NUMA node read from SysFS had negative value (-1), but there must be at least one NUMA node, so returning NUMA node zero\n",
      "2022-03-23 20:12:31.787737: I tensorflow/core/common_runtime/gpu/gpu_device.cc:1510] Created device /job:localhost/replica:0/task:0/device:GPU:0 with 15403 MB memory:  -> device: 0, name: Tesla P100-PCIE-16GB, pci bus id: 0000:00:04.0, compute capability: 6.0\n"
     ]
    }
   ],
   "source": [
    "# define model\n",
    "model = Sequential()\n",
    "model.add(LSTM(50, activation='relu', input_shape=(n_input, n_features),return_sequences=True))\n",
    "model.add(Dense(4))\n",
    "model.compile(optimizer='adam', loss='mse')"
   ]
  },
  {
   "cell_type": "code",
   "execution_count": 10,
   "id": "46c43987",
   "metadata": {
    "execution": {
     "iopub.execute_input": "2022-03-23T20:12:32.280287Z",
     "iopub.status.busy": "2022-03-23T20:12:32.279467Z",
     "iopub.status.idle": "2022-03-23T20:13:14.252795Z",
     "shell.execute_reply": "2022-03-23T20:13:14.253227Z",
     "shell.execute_reply.started": "2022-03-23T20:10:54.853311Z"
    },
    "papermill": {
     "duration": 41.993405,
     "end_time": "2022-03-23T20:13:14.253382",
     "exception": false,
     "start_time": "2022-03-23T20:12:32.259977",
     "status": "completed"
    },
    "tags": []
   },
   "outputs": [
    {
     "name": "stderr",
     "output_type": "stream",
     "text": [
      "2022-03-23 20:12:32.332583: I tensorflow/compiler/mlir/mlir_graph_optimization_pass.cc:185] None of the MLIR Optimization Passes are enabled (registered 2)\n"
     ]
    },
    {
     "name": "stdout",
     "output_type": "stream",
     "text": [
      "Epoch 1/10\n",
      "799/799 [==============================] - 6s 5ms/step - loss: 0.0271\n",
      "Epoch 2/10\n",
      "799/799 [==============================] - 4s 5ms/step - loss: 2.6558e-04\n",
      "Epoch 3/10\n",
      "799/799 [==============================] - 4s 5ms/step - loss: 2.7010e-04\n",
      "Epoch 4/10\n",
      "799/799 [==============================] - 5s 6ms/step - loss: 2.8075e-04\n",
      "Epoch 5/10\n",
      "799/799 [==============================] - 4s 5ms/step - loss: 2.8990e-04\n",
      "Epoch 6/10\n",
      "799/799 [==============================] - 4s 5ms/step - loss: 2.7636e-04\n",
      "Epoch 7/10\n",
      "799/799 [==============================] - 4s 5ms/step - loss: 2.8844e-04\n",
      "Epoch 8/10\n",
      "799/799 [==============================] - 4s 5ms/step - loss: 2.8429e-04\n",
      "Epoch 9/10\n",
      "799/799 [==============================] - 4s 5ms/step - loss: 2.6482e-04\n",
      "Epoch 10/10\n",
      "799/799 [==============================] - 4s 5ms/step - loss: 2.6202e-04\n"
     ]
    },
    {
     "data": {
      "text/plain": [
       "<keras.callbacks.History at 0x7f23e99145d0>"
      ]
     },
     "execution_count": 10,
     "metadata": {},
     "output_type": "execute_result"
    }
   ],
   "source": [
    "# fit model\n",
    "model.fit(generator,epochs=10)"
   ]
  },
  {
   "cell_type": "code",
   "execution_count": 11,
   "id": "fa0ab9f0",
   "metadata": {
    "execution": {
     "iopub.execute_input": "2022-03-23T20:13:14.756090Z",
     "iopub.status.busy": "2022-03-23T20:13:14.755278Z",
     "iopub.status.idle": "2022-03-23T20:13:15.131406Z",
     "shell.execute_reply": "2022-03-23T20:13:15.132133Z",
     "shell.execute_reply.started": "2022-03-23T20:11:37.885283Z"
    },
    "papermill": {
     "duration": 0.630645,
     "end_time": "2022-03-23T20:13:15.132328",
     "exception": false,
     "start_time": "2022-03-23T20:13:14.501683",
     "status": "completed"
    },
    "tags": []
   },
   "outputs": [
    {
     "name": "stdout",
     "output_type": "stream",
     "text": [
      "[[0.70676523 0.7160446  0.72457206 0.7159767 ]]\n",
      "[[2123.956  2151.133  2095.647  2102.2651]]\n",
      "{'clip': False, 'copy': True, 'feature_range': (0, 1)}\n"
     ]
    }
   ],
   "source": [
    "first_eval_batch = scaled_train[-n_input:]\n",
    "current_batch = first_eval_batch.reshape((1, n_input, n_features))\n",
    "current_pred = model.predict(current_batch)[0]\n",
    "print(current_pred)\n",
    "fin_pred = scaler.inverse_transform(current_pred)\n",
    "print(fin_pred)\n",
    "print(scaler.get_params(deep=True))"
   ]
  },
  {
   "cell_type": "code",
   "execution_count": 12,
   "id": "aa9f7bef",
   "metadata": {
    "execution": {
     "iopub.execute_input": "2022-03-23T20:13:15.641980Z",
     "iopub.status.busy": "2022-03-23T20:13:15.641142Z",
     "iopub.status.idle": "2022-03-23T20:13:15.660691Z",
     "shell.execute_reply": "2022-03-23T20:13:15.660276Z",
     "shell.execute_reply.started": "2022-03-23T20:11:38.289232Z"
    },
    "papermill": {
     "duration": 0.277185,
     "end_time": "2022-03-23T20:13:15.660807",
     "exception": false,
     "start_time": "2022-03-23T20:13:15.383622",
     "status": "completed"
    },
    "tags": []
   },
   "outputs": [],
   "source": [
    "model.save(\"BALKRISIND_model.h5\")"
   ]
  }
 ],
 "metadata": {
  "kernelspec": {
   "display_name": "Python 3",
   "language": "python",
   "name": "python3"
  },
  "language_info": {
   "codemirror_mode": {
    "name": "ipython",
    "version": 3
   },
   "file_extension": ".py",
   "mimetype": "text/x-python",
   "name": "python",
   "nbconvert_exporter": "python",
   "pygments_lexer": "ipython3",
   "version": "3.7.12"
  },
  "papermill": {
   "default_parameters": {},
   "duration": 64.642335,
   "end_time": "2022-03-23T20:13:19.222738",
   "environment_variables": {},
   "exception": null,
   "input_path": "__notebook__.ipynb",
   "output_path": "__notebook__.ipynb",
   "parameters": {},
   "start_time": "2022-03-23T20:12:14.580403",
   "version": "2.3.3"
  }
 },
 "nbformat": 4,
 "nbformat_minor": 5
}
