{
 "cells": [
  {
   "cell_type": "code",
   "execution_count": 1,
   "id": "175d2354",
   "metadata": {
    "_cell_guid": "b1076dfc-b9ad-4769-8c92-a6c4dae69d19",
    "_uuid": "8f2839f25d086af736a60e9eeb907d3b93b6e0e5",
    "execution": {
     "iopub.execute_input": "2022-03-23T20:20:48.555926Z",
     "iopub.status.busy": "2022-03-23T20:20:48.554255Z",
     "iopub.status.idle": "2022-03-23T20:20:49.981336Z",
     "shell.execute_reply": "2022-03-23T20:20:49.980738Z",
     "shell.execute_reply.started": "2022-03-23T20:19:23.530635Z"
    },
    "papermill": {
     "duration": 1.443786,
     "end_time": "2022-03-23T20:20:49.981484",
     "exception": false,
     "start_time": "2022-03-23T20:20:48.537698",
     "status": "completed"
    },
    "tags": []
   },
   "outputs": [],
   "source": [
    "import pandas as pd\n",
    "import numpy as np\n",
    "import matplotlib.pyplot as plt\n",
    "import statsmodels.api as sm\n",
    "import joblib"
   ]
  },
  {
   "cell_type": "code",
   "execution_count": 2,
   "id": "5b7acd62",
   "metadata": {
    "execution": {
     "iopub.execute_input": "2022-03-23T20:20:50.012963Z",
     "iopub.status.busy": "2022-03-23T20:20:50.012317Z",
     "iopub.status.idle": "2022-03-23T20:20:50.263744Z",
     "shell.execute_reply": "2022-03-23T20:20:50.264185Z",
     "shell.execute_reply.started": "2022-03-23T20:19:24.988462Z"
    },
    "papermill": {
     "duration": 0.269623,
     "end_time": "2022-03-23T20:20:50.264351",
     "exception": false,
     "start_time": "2022-03-23T20:20:49.994728",
     "status": "completed"
    },
    "tags": []
   },
   "outputs": [
    {
     "name": "stderr",
     "output_type": "stream",
     "text": [
      "/opt/conda/lib/python3.7/site-packages/statsmodels/graphics/tsaplots.py:353: FutureWarning: The default method 'yw' can produce PACF values outside of the [-1,1] interval. After 0.13, the default will change tounadjusted Yule-Walker ('ywm'). You can use this method now by setting method='ywm'.\n",
      "  FutureWarning,\n"
     ]
    },
    {
     "data": {
      "image/png": "[encoded data removed]",
      "text/plain": [
       "<Figure size 432x288 with 1 Axes>"
      ]
     },
     "metadata": {
      "needs_background": "light"
     },
     "output_type": "display_data"
    }
   ],
   "source": [
    "df = pd.read_csv(\"../input/stockpricepredictons/BHARTIARTL.NS.csv\", usecols=[\"Date\", \"Open\", \"Adj Close\", \"High\", \"Low\"], index_col='Date',parse_dates=True)\n",
    "df = df.iloc[-800::]\n",
    "sm.graphics.tsa.plot_pacf(df[\"Open\"], lags=10)\n",
    "plt.show()"
   ]
  },
  {
   "cell_type": "code",
   "execution_count": 3,
   "id": "451ec4c6",
   "metadata": {
    "execution": {
     "iopub.execute_input": "2022-03-23T20:20:50.293693Z",
     "iopub.status.busy": "2022-03-23T20:20:50.292193Z",
     "iopub.status.idle": "2022-03-23T20:20:50.294319Z",
     "shell.execute_reply": "2022-03-23T20:20:50.294715Z",
     "shell.execute_reply.started": "2022-03-23T20:19:25.234862Z"
    },
    "papermill": {
     "duration": 0.017968,
     "end_time": "2022-03-23T20:20:50.294830",
     "exception": false,
     "start_time": "2022-03-23T20:20:50.276862",
     "status": "completed"
    },
    "tags": []
   },
   "outputs": [],
   "source": [
    "train = df"
   ]
  },
  {
   "cell_type": "code",
   "execution_count": 4,
   "id": "1e84df18",
   "metadata": {
    "execution": {
     "iopub.execute_input": "2022-03-23T20:20:50.323029Z",
     "iopub.status.busy": "2022-03-23T20:20:50.322397Z",
     "iopub.status.idle": "2022-03-23T20:20:50.386511Z",
     "shell.execute_reply": "2022-03-23T20:20:50.386967Z",
     "shell.execute_reply.started": "2022-03-23T20:19:25.240204Z"
    },
    "papermill": {
     "duration": 0.080621,
     "end_time": "2022-03-23T20:20:50.387126",
     "exception": false,
     "start_time": "2022-03-23T20:20:50.306505",
     "status": "completed"
    },
    "tags": []
   },
   "outputs": [
    {
     "data": {
      "text/plain": [
       "['BHARTIARTL_scaler.pkl']"
      ]
     },
     "execution_count": 4,
     "metadata": {},
     "output_type": "execute_result"
    }
   ],
   "source": [
    "from sklearn.preprocessing import MinMaxScaler\n",
    "scaler = MinMaxScaler()\n",
    "\n",
    "scaler.fit(train)\n",
    "scaled_train = scaler.transform(train)\n",
    "joblib.dump(scaler, 'BHARTIARTL_scaler.pkl') "
   ]
  },
  {
   "cell_type": "code",
   "execution_count": 5,
   "id": "c5d049cc",
   "metadata": {
    "execution": {
     "iopub.execute_input": "2022-03-23T20:20:50.414655Z",
     "iopub.status.busy": "2022-03-23T20:20:50.413846Z",
     "iopub.status.idle": "2022-03-23T20:20:54.864769Z",
     "shell.execute_reply": "2022-03-23T20:20:54.865405Z",
     "shell.execute_reply.started": "2022-03-23T20:19:25.316606Z"
    },
    "papermill": {
     "duration": 4.466289,
     "end_time": "2022-03-23T20:20:54.865610",
     "exception": false,
     "start_time": "2022-03-23T20:20:50.399321",
     "status": "completed"
    },
    "tags": []
   },
   "outputs": [],
   "source": [
    "from keras.preprocessing.sequence import TimeseriesGenerator"
   ]
  },
  {
   "cell_type": "code",
   "execution_count": 6,
   "id": "3bf7b7ab",
   "metadata": {
    "execution": {
     "iopub.execute_input": "2022-03-23T20:20:54.896196Z",
     "iopub.status.busy": "2022-03-23T20:20:54.895311Z",
     "iopub.status.idle": "2022-03-23T20:20:54.897210Z",
     "shell.execute_reply": "2022-03-23T20:20:54.897625Z",
     "shell.execute_reply.started": "2022-03-23T20:19:30.114546Z"
    },
    "papermill": {
     "duration": 0.01922,
     "end_time": "2022-03-23T20:20:54.897752",
     "exception": false,
     "start_time": "2022-03-23T20:20:54.878532",
     "status": "completed"
    },
    "tags": []
   },
   "outputs": [],
   "source": [
    "# define generator\n",
    "n_input = 1\n",
    "n_features = 4\n",
    "generator = TimeseriesGenerator(scaled_train, scaled_train, length=n_input, batch_size=1)"
   ]
  },
  {
   "cell_type": "code",
   "execution_count": 7,
   "id": "d6ea6640",
   "metadata": {
    "execution": {
     "iopub.execute_input": "2022-03-23T20:20:54.928296Z",
     "iopub.status.busy": "2022-03-23T20:20:54.927645Z",
     "iopub.status.idle": "2022-03-23T20:20:54.930638Z",
     "shell.execute_reply": "2022-03-23T20:20:54.931285Z",
     "shell.execute_reply.started": "2022-03-23T20:19:30.121315Z"
    },
    "papermill": {
     "duration": 0.021005,
     "end_time": "2022-03-23T20:20:54.931432",
     "exception": false,
     "start_time": "2022-03-23T20:20:54.910427",
     "status": "completed"
    },
    "tags": []
   },
   "outputs": [
    {
     "name": "stdout",
     "output_type": "stream",
     "text": [
      "Given the Array: \n",
      "[0.05179973 0.03236046 0.03984612 0.02969343]\n",
      "Predict this y: \n",
      " [[0.04006096 0.02741016 0.04078808 0.02941331]]\n"
     ]
    }
   ],
   "source": [
    "X,y = generator[0]\n",
    "print(f'Given the Array: \\n{X.flatten()}')\n",
    "print(f'Predict this y: \\n {y}')"
   ]
  },
  {
   "cell_type": "code",
   "execution_count": 8,
   "id": "a640548b",
   "metadata": {
    "execution": {
     "iopub.execute_input": "2022-03-23T20:20:54.962899Z",
     "iopub.status.busy": "2022-03-23T20:20:54.962164Z",
     "iopub.status.idle": "2022-03-23T20:20:54.964604Z",
     "shell.execute_reply": "2022-03-23T20:20:54.964180Z",
     "shell.execute_reply.started": "2022-03-23T20:19:30.136177Z"
    },
    "papermill": {
     "duration": 0.019851,
     "end_time": "2022-03-23T20:20:54.964710",
     "exception": false,
     "start_time": "2022-03-23T20:20:54.944859",
     "status": "completed"
    },
    "tags": []
   },
   "outputs": [],
   "source": [
    "from keras.models import Sequential\n",
    "from keras.layers import Dense\n",
    "from keras.layers import LSTM"
   ]
  },
  {
   "cell_type": "code",
   "execution_count": 9,
   "id": "c68d5ad4",
   "metadata": {
    "execution": {
     "iopub.execute_input": "2022-03-23T20:20:54.993398Z",
     "iopub.status.busy": "2022-03-23T20:20:54.992636Z",
     "iopub.status.idle": "2022-03-23T20:20:57.388632Z",
     "shell.execute_reply": "2022-03-23T20:20:57.388998Z",
     "shell.execute_reply.started": "2022-03-23T20:19:30.143734Z"
    },
    "papermill": {
     "duration": 2.411702,
     "end_time": "2022-03-23T20:20:57.389194",
     "exception": false,
     "start_time": "2022-03-23T20:20:54.977492",
     "status": "completed"
    },
    "tags": []
   },
   "outputs": [
    {
     "name": "stderr",
     "output_type": "stream",
     "text": [
      "2022-03-23 20:20:55.065012: I tensorflow/stream_executor/cuda/cuda_gpu_executor.cc:937] successful NUMA node read from SysFS had negative value (-1), but there must be at least one NUMA node, so returning NUMA node zero\n",
      "2022-03-23 20:20:55.148147: I tensorflow/stream_executor/cuda/cuda_gpu_executor.cc:937] successful NUMA node read from SysFS had negative value (-1), but there must be at least one NUMA node, so returning NUMA node zero\n",
      "2022-03-23 20:20:55.148856: I tensorflow/stream_executor/cuda/cuda_gpu_executor.cc:937] successful NUMA node read from SysFS had negative value (-1), but there must be at least one NUMA node, so returning NUMA node zero\n",
      "2022-03-23 20:20:55.150621: I tensorflow/core/platform/cpu_feature_guard.cc:142] This TensorFlow binary is optimized with oneAPI Deep Neural Network Library (oneDNN) to use the following CPU instructions in performance-critical operations:  AVX2 AVX512F FMA\n",
      "To enable them in other operations, rebuild TensorFlow with the appropriate compiler flags.\n",
      "2022-03-23 20:20:55.151396: I tensorflow/stream_executor/cuda/cuda_gpu_executor.cc:937] successful NUMA node read from SysFS had negative value (-1), but there must be at least one NUMA node, so returning NUMA node zero\n",
      "2022-03-23 20:20:55.152099: I tensorflow/stream_executor/cuda/cuda_gpu_executor.cc:937] successful NUMA node read from SysFS had negative value (-1), but there must be at least one NUMA node, so returning NUMA node zero\n",
      "2022-03-23 20:20:55.152724: I tensorflow/stream_executor/cuda/cuda_gpu_executor.cc:937] successful NUMA node read from SysFS had negative value (-1), but there must be at least one NUMA node, so returning NUMA node zero\n",
      "2022-03-23 20:20:56.918538: I tensorflow/stream_executor/cuda/cuda_gpu_executor.cc:937] successful NUMA node read from SysFS had negative value (-1), but there must be at least one NUMA node, so returning NUMA node zero\n",
      "2022-03-23 20:20:56.919448: I tensorflow/stream_executor/cuda/cuda_gpu_executor.cc:937] successful NUMA node read from SysFS had negative value (-1), but there must be at least one NUMA node, so returning NUMA node zero\n",
      "2022-03-23 20:20:56.920150: I tensorflow/stream_executor/cuda/cuda_gpu_executor.cc:937] successful NUMA node read from SysFS had negative value (-1), but there must be at least one NUMA node, so returning NUMA node zero\n",
      "2022-03-23 20:20:56.920760: I tensorflow/core/common_runtime/gpu/gpu_device.cc:1510] Created device /job:localhost/replica:0/task:0/device:GPU:0 with 15403 MB memory:  -> device: 0, name: Tesla P100-PCIE-16GB, pci bus id: 0000:00:04.0, compute capability: 6.0\n"
     ]
    }
   ],
   "source": [
    "# define model\n",
    "model = Sequential()\n",
    "model.add(LSTM(50, activation='relu', input_shape=(n_input, n_features),return_sequences=True))\n",
    "model.add(Dense(4))\n",
    "model.compile(optimizer='adam', loss='mse')"
   ]
  },
  {
   "cell_type": "code",
   "execution_count": 10,
   "id": "391c162d",
   "metadata": {
    "execution": {
     "iopub.execute_input": "2022-03-23T20:20:57.419549Z",
     "iopub.status.busy": "2022-03-23T20:20:57.419031Z",
     "iopub.status.idle": "2022-03-23T20:21:42.297088Z",
     "shell.execute_reply": "2022-03-23T20:21:42.296627Z",
     "shell.execute_reply.started": "2022-03-23T20:19:32.678228Z"
    },
    "papermill": {
     "duration": 44.894356,
     "end_time": "2022-03-23T20:21:42.297219",
     "exception": false,
     "start_time": "2022-03-23T20:20:57.402863",
     "status": "completed"
    },
    "tags": []
   },
   "outputs": [
    {
     "name": "stderr",
     "output_type": "stream",
     "text": [
      "2022-03-23 20:20:57.469509: I tensorflow/compiler/mlir/mlir_graph_optimization_pass.cc:185] None of the MLIR Optimization Passes are enabled (registered 2)\n"
     ]
    },
    {
     "name": "stdout",
     "output_type": "stream",
     "text": [
      "Epoch 1/10\n",
      "799/799 [==============================] - 6s 5ms/step - loss: 0.0250\n",
      "Epoch 2/10\n",
      "799/799 [==============================] - 5s 6ms/step - loss: 5.5107e-04\n",
      "Epoch 3/10\n",
      "799/799 [==============================] - 4s 5ms/step - loss: 4.8493e-04\n",
      "Epoch 4/10\n",
      "799/799 [==============================] - 4s 5ms/step - loss: 4.7107e-04\n",
      "Epoch 5/10\n",
      "799/799 [==============================] - 4s 5ms/step - loss: 4.7436e-04\n",
      "Epoch 6/10\n",
      "799/799 [==============================] - 4s 5ms/step - loss: 4.7323e-04\n",
      "Epoch 7/10\n",
      "799/799 [==============================] - 4s 5ms/step - loss: 4.8136e-04\n",
      "Epoch 8/10\n",
      "799/799 [==============================] - 4s 5ms/step - loss: 4.8398e-04\n",
      "Epoch 9/10\n",
      "799/799 [==============================] - 5s 6ms/step - loss: 4.4482e-04\n",
      "Epoch 10/10\n",
      "799/799 [==============================] - 4s 5ms/step - loss: 4.5744e-04\n"
     ]
    },
    {
     "data": {
      "text/plain": [
       "<keras.callbacks.History at 0x7ff866349e10>"
      ]
     },
     "execution_count": 10,
     "metadata": {},
     "output_type": "execute_result"
    }
   ],
   "source": [
    "# fit model\n",
    "model.fit(generator,epochs=10)"
   ]
  },
  {
   "cell_type": "code",
   "execution_count": 11,
   "id": "49b5ec0d",
   "metadata": {
    "execution": {
     "iopub.execute_input": "2022-03-23T20:21:42.837908Z",
     "iopub.status.busy": "2022-03-23T20:21:42.837125Z",
     "iopub.status.idle": "2022-03-23T20:21:43.214321Z",
     "shell.execute_reply": "2022-03-23T20:21:43.213675Z",
     "shell.execute_reply.started": "2022-03-23T20:20:14.306306Z"
    },
    "papermill": {
     "duration": 0.648044,
     "end_time": "2022-03-23T20:21:43.214480",
     "exception": false,
     "start_time": "2022-03-23T20:21:42.566436",
     "status": "completed"
    },
    "tags": []
   },
   "outputs": [
    {
     "name": "stdout",
     "output_type": "stream",
     "text": [
      "[[0.8814802  0.8805983  0.89698464 0.8985904 ]]\n",
      "[[705.597   722.00464 706.0443  715.4662 ]]\n",
      "{'clip': False, 'copy': True, 'feature_range': (0, 1)}\n"
     ]
    }
   ],
   "source": [
    "first_eval_batch = scaled_train[-n_input:]\n",
    "current_batch = first_eval_batch.reshape((1, n_input, n_features))\n",
    "current_pred = model.predict(current_batch)[0]\n",
    "print(current_pred)\n",
    "fin_pred = scaler.inverse_transform(current_pred)\n",
    "print(fin_pred)\n",
    "print(scaler.get_params(deep=True))"
   ]
  },
  {
   "cell_type": "code",
   "execution_count": 12,
   "id": "e1cdf08c",
   "metadata": {
    "execution": {
     "iopub.execute_input": "2022-03-23T20:21:43.764236Z",
     "iopub.status.busy": "2022-03-23T20:21:43.763402Z",
     "iopub.status.idle": "2022-03-23T20:21:43.783681Z",
     "shell.execute_reply": "2022-03-23T20:21:43.783075Z",
     "shell.execute_reply.started": "2022-03-23T20:20:14.853408Z"
    },
    "papermill": {
     "duration": 0.298245,
     "end_time": "2022-03-23T20:21:43.783872",
     "exception": false,
     "start_time": "2022-03-23T20:21:43.485627",
     "status": "completed"
    },
    "tags": []
   },
   "outputs": [],
   "source": [
    "model.save(\"BHARTIARTL_model.h5\")"
   ]
  }
 ],
 "metadata": {
  "kernelspec": {
   "display_name": "Python 3",
   "language": "python",
   "name": "python3"
  },
  "language_info": {
   "codemirror_mode": {
    "name": "ipython",
    "version": 3
   },
   "file_extension": ".py",
   "mimetype": "text/x-python",
   "name": "python",
   "nbconvert_exporter": "python",
   "pygments_lexer": "ipython3",
   "version": "3.7.12"
  },
  "papermill": {
   "default_parameters": {},
   "duration": 66.322561,
   "end_time": "2022-03-23T20:21:46.824918",
   "environment_variables": {},
   "exception": null,
   "input_path": "__notebook__.ipynb",
   "output_path": "__notebook__.ipynb",
   "parameters": {},
   "start_time": "2022-03-23T20:20:40.502357",
   "version": "2.3.3"
  }
 },
 "nbformat": 4,
 "nbformat_minor": 5
}
