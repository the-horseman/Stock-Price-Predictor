{
 "cells": [
  {
   "cell_type": "code",
   "execution_count": 1,
   "id": "b796df0f",
   "metadata": {
    "_cell_guid": "b1076dfc-b9ad-4769-8c92-a6c4dae69d19",
    "_uuid": "8f2839f25d086af736a60e9eeb907d3b93b6e0e5",
    "execution": {
     "iopub.execute_input": "2022-03-23T20:26:31.751008Z",
     "iopub.status.busy": "2022-03-23T20:26:31.749508Z",
     "iopub.status.idle": "2022-03-23T20:26:33.303913Z",
     "shell.execute_reply": "2022-03-23T20:26:33.302852Z",
     "shell.execute_reply.started": "2022-03-23T20:25:16.002280Z"
    },
    "papermill": {
     "duration": 1.571698,
     "end_time": "2022-03-23T20:26:33.304079",
     "exception": false,
     "start_time": "2022-03-23T20:26:31.732381",
     "status": "completed"
    },
    "tags": []
   },
   "outputs": [],
   "source": [
    "import pandas as pd\n",
    "import numpy as np\n",
    "import matplotlib.pyplot as plt\n",
    "import statsmodels.api as sm\n",
    "import joblib"
   ]
  },
  {
   "cell_type": "code",
   "execution_count": 2,
   "id": "57d42c9b",
   "metadata": {
    "execution": {
     "iopub.execute_input": "2022-03-23T20:26:33.336309Z",
     "iopub.status.busy": "2022-03-23T20:26:33.335745Z",
     "iopub.status.idle": "2022-03-23T20:26:33.594026Z",
     "shell.execute_reply": "2022-03-23T20:26:33.593380Z",
     "shell.execute_reply.started": "2022-03-23T20:25:17.459368Z"
    },
    "papermill": {
     "duration": 0.277038,
     "end_time": "2022-03-23T20:26:33.594164",
     "exception": false,
     "start_time": "2022-03-23T20:26:33.317126",
     "status": "completed"
    },
    "tags": []
   },
   "outputs": [
    {
     "name": "stderr",
     "output_type": "stream",
     "text": [
      "/opt/conda/lib/python3.7/site-packages/statsmodels/graphics/tsaplots.py:353: FutureWarning: The default method 'yw' can produce PACF values outside of the [-1,1] interval. After 0.13, the default will change tounadjusted Yule-Walker ('ywm'). You can use this method now by setting method='ywm'.\n",
      "  FutureWarning,\n"
     ]
    },
    {
     "data": {
      "image/png": "[encoded data removed]",
      "text/plain": [
       "<Figure size 432x288 with 1 Axes>"
      ]
     },
     "metadata": {
      "needs_background": "light"
     },
     "output_type": "display_data"
    }
   ],
   "source": [
    "df = pd.read_csv(\"../input/stockpricepredictons/EASEMYTRIP.NS.csv\", usecols=[\"Date\", \"Open\", \"Adj Close\", \"High\", \"Low\"], index_col='Date',parse_dates=True)\n",
    "df = df.iloc[-800::]\n",
    "sm.graphics.tsa.plot_pacf(df[\"Open\"], lags=10)\n",
    "plt.show()"
   ]
  },
  {
   "cell_type": "code",
   "execution_count": 3,
   "id": "78d892f0",
   "metadata": {
    "execution": {
     "iopub.execute_input": "2022-03-23T20:26:33.626834Z",
     "iopub.status.busy": "2022-03-23T20:26:33.625169Z",
     "iopub.status.idle": "2022-03-23T20:26:33.627460Z",
     "shell.execute_reply": "2022-03-23T20:26:33.627985Z",
     "shell.execute_reply.started": "2022-03-23T20:25:17.711770Z"
    },
    "papermill": {
     "duration": 0.020282,
     "end_time": "2022-03-23T20:26:33.628143",
     "exception": false,
     "start_time": "2022-03-23T20:26:33.607861",
     "status": "completed"
    },
    "tags": []
   },
   "outputs": [],
   "source": [
    "train = df"
   ]
  },
  {
   "cell_type": "code",
   "execution_count": 4,
   "id": "5c635e7e",
   "metadata": {
    "execution": {
     "iopub.execute_input": "2022-03-23T20:26:33.660852Z",
     "iopub.status.busy": "2022-03-23T20:26:33.660121Z",
     "iopub.status.idle": "2022-03-23T20:26:33.730899Z",
     "shell.execute_reply": "2022-03-23T20:26:33.731512Z",
     "shell.execute_reply.started": "2022-03-23T20:25:17.717926Z"
    },
    "papermill": {
     "duration": 0.089303,
     "end_time": "2022-03-23T20:26:33.731711",
     "exception": false,
     "start_time": "2022-03-23T20:26:33.642408",
     "status": "completed"
    },
    "tags": []
   },
   "outputs": [
    {
     "data": {
      "text/plain": [
       "['EASEMYTRIP_scaler.pkl']"
      ]
     },
     "execution_count": 4,
     "metadata": {},
     "output_type": "execute_result"
    }
   ],
   "source": [
    "from sklearn.preprocessing import MinMaxScaler\n",
    "scaler = MinMaxScaler()\n",
    "\n",
    "scaler.fit(train)\n",
    "scaled_train = scaler.transform(train)\n",
    "joblib.dump(scaler, 'EASEMYTRIP_scaler.pkl') "
   ]
  },
  {
   "cell_type": "code",
   "execution_count": 5,
   "id": "9e84a49d",
   "metadata": {
    "execution": {
     "iopub.execute_input": "2022-03-23T20:26:33.764635Z",
     "iopub.status.busy": "2022-03-23T20:26:33.764020Z",
     "iopub.status.idle": "2022-03-23T20:26:38.416259Z",
     "shell.execute_reply": "2022-03-23T20:26:38.416845Z",
     "shell.execute_reply.started": "2022-03-23T20:25:17.805135Z"
    },
    "papermill": {
     "duration": 4.671073,
     "end_time": "2022-03-23T20:26:38.417022",
     "exception": false,
     "start_time": "2022-03-23T20:26:33.745949",
     "status": "completed"
    },
    "tags": []
   },
   "outputs": [],
   "source": [
    "from keras.preprocessing.sequence import TimeseriesGenerator"
   ]
  },
  {
   "cell_type": "code",
   "execution_count": 6,
   "id": "32005649",
   "metadata": {
    "execution": {
     "iopub.execute_input": "2022-03-23T20:26:38.448975Z",
     "iopub.status.busy": "2022-03-23T20:26:38.448121Z",
     "iopub.status.idle": "2022-03-23T20:26:38.450114Z",
     "shell.execute_reply": "2022-03-23T20:26:38.450524Z",
     "shell.execute_reply.started": "2022-03-23T20:25:22.677174Z"
    },
    "papermill": {
     "duration": 0.020196,
     "end_time": "2022-03-23T20:26:38.450679",
     "exception": false,
     "start_time": "2022-03-23T20:26:38.430483",
     "status": "completed"
    },
    "tags": []
   },
   "outputs": [],
   "source": [
    "# define generator\n",
    "n_input = 1\n",
    "n_features = 4\n",
    "generator = TimeseriesGenerator(scaled_train, scaled_train, length=n_input, batch_size=1)"
   ]
  },
  {
   "cell_type": "code",
   "execution_count": 7,
   "id": "3c9b3ee8",
   "metadata": {
    "execution": {
     "iopub.execute_input": "2022-03-23T20:26:38.479932Z",
     "iopub.status.busy": "2022-03-23T20:26:38.479055Z",
     "iopub.status.idle": "2022-03-23T20:26:38.485564Z",
     "shell.execute_reply": "2022-03-23T20:26:38.485157Z",
     "shell.execute_reply.started": "2022-03-23T20:25:22.684591Z"
    },
    "papermill": {
     "duration": 0.021761,
     "end_time": "2022-03-23T20:26:38.485694",
     "exception": false,
     "start_time": "2022-03-23T20:26:38.463933",
     "status": "completed"
    },
    "tags": []
   },
   "outputs": [
    {
     "name": "stdout",
     "output_type": "stream",
     "text": [
      "Given the Array: \n",
      "[0.0842473  0.10850386 0.05217044 0.06914109]\n",
      "Predict this y: \n",
      " [[0.07211491 0.06011822 0.06591001 0.04912166]]\n"
     ]
    }
   ],
   "source": [
    "X,y = generator[0]\n",
    "print(f'Given the Array: \\n{X.flatten()}')\n",
    "print(f'Predict this y: \\n {y}')"
   ]
  },
  {
   "cell_type": "code",
   "execution_count": 8,
   "id": "ef4ee2ee",
   "metadata": {
    "execution": {
     "iopub.execute_input": "2022-03-23T20:26:38.516887Z",
     "iopub.status.busy": "2022-03-23T20:26:38.516094Z",
     "iopub.status.idle": "2022-03-23T20:26:38.518040Z",
     "shell.execute_reply": "2022-03-23T20:26:38.518406Z",
     "shell.execute_reply.started": "2022-03-23T20:25:22.698388Z"
    },
    "papermill": {
     "duration": 0.019706,
     "end_time": "2022-03-23T20:26:38.518536",
     "exception": false,
     "start_time": "2022-03-23T20:26:38.498830",
     "status": "completed"
    },
    "tags": []
   },
   "outputs": [],
   "source": [
    "from keras.models import Sequential\n",
    "from keras.layers import Dense\n",
    "from keras.layers import LSTM"
   ]
  },
  {
   "cell_type": "code",
   "execution_count": 9,
   "id": "4cea4768",
   "metadata": {
    "execution": {
     "iopub.execute_input": "2022-03-23T20:26:38.550496Z",
     "iopub.status.busy": "2022-03-23T20:26:38.549800Z",
     "iopub.status.idle": "2022-03-23T20:26:41.093593Z",
     "shell.execute_reply": "2022-03-23T20:26:41.094083Z",
     "shell.execute_reply.started": "2022-03-23T20:25:22.708628Z"
    },
    "papermill": {
     "duration": 2.562145,
     "end_time": "2022-03-23T20:26:41.094256",
     "exception": false,
     "start_time": "2022-03-23T20:26:38.532111",
     "status": "completed"
    },
    "tags": []
   },
   "outputs": [
    {
     "name": "stderr",
     "output_type": "stream",
     "text": [
      "2022-03-23 20:26:38.615642: I tensorflow/stream_executor/cuda/cuda_gpu_executor.cc:937] successful NUMA node read from SysFS had negative value (-1), but there must be at least one NUMA node, so returning NUMA node zero\n",
      "2022-03-23 20:26:38.720440: I tensorflow/stream_executor/cuda/cuda_gpu_executor.cc:937] successful NUMA node read from SysFS had negative value (-1), but there must be at least one NUMA node, so returning NUMA node zero\n",
      "2022-03-23 20:26:38.721233: I tensorflow/stream_executor/cuda/cuda_gpu_executor.cc:937] successful NUMA node read from SysFS had negative value (-1), but there must be at least one NUMA node, so returning NUMA node zero\n",
      "2022-03-23 20:26:38.723049: I tensorflow/core/platform/cpu_feature_guard.cc:142] This TensorFlow binary is optimized with oneAPI Deep Neural Network Library (oneDNN) to use the following CPU instructions in performance-critical operations:  AVX2 AVX512F FMA\n",
      "To enable them in other operations, rebuild TensorFlow with the appropriate compiler flags.\n",
      "2022-03-23 20:26:38.723873: I tensorflow/stream_executor/cuda/cuda_gpu_executor.cc:937] successful NUMA node read from SysFS had negative value (-1), but there must be at least one NUMA node, so returning NUMA node zero\n",
      "2022-03-23 20:26:38.724573: I tensorflow/stream_executor/cuda/cuda_gpu_executor.cc:937] successful NUMA node read from SysFS had negative value (-1), but there must be at least one NUMA node, so returning NUMA node zero\n",
      "2022-03-23 20:26:38.725245: I tensorflow/stream_executor/cuda/cuda_gpu_executor.cc:937] successful NUMA node read from SysFS had negative value (-1), but there must be at least one NUMA node, so returning NUMA node zero\n",
      "2022-03-23 20:26:40.574802: I tensorflow/stream_executor/cuda/cuda_gpu_executor.cc:937] successful NUMA node read from SysFS had negative value (-1), but there must be at least one NUMA node, so returning NUMA node zero\n",
      "2022-03-23 20:26:40.575686: I tensorflow/stream_executor/cuda/cuda_gpu_executor.cc:937] successful NUMA node read from SysFS had negative value (-1), but there must be at least one NUMA node, so returning NUMA node zero\n",
      "2022-03-23 20:26:40.576372: I tensorflow/stream_executor/cuda/cuda_gpu_executor.cc:937] successful NUMA node read from SysFS had negative value (-1), but there must be at least one NUMA node, so returning NUMA node zero\n",
      "2022-03-23 20:26:40.576951: I tensorflow/core/common_runtime/gpu/gpu_device.cc:1510] Created device /job:localhost/replica:0/task:0/device:GPU:0 with 15403 MB memory:  -> device: 0, name: Tesla P100-PCIE-16GB, pci bus id: 0000:00:04.0, compute capability: 6.0\n"
     ]
    }
   ],
   "source": [
    "# define model\n",
    "model = Sequential()\n",
    "model.add(LSTM(50, activation='relu', input_shape=(n_input, n_features),return_sequences=True))\n",
    "model.add(Dense(4))\n",
    "model.compile(optimizer='adam', loss='mse')"
   ]
  },
  {
   "cell_type": "code",
   "execution_count": 10,
   "id": "209ebef2",
   "metadata": {
    "execution": {
     "iopub.execute_input": "2022-03-23T20:26:41.129557Z",
     "iopub.status.busy": "2022-03-23T20:26:41.128888Z",
     "iopub.status.idle": "2022-03-23T20:26:58.614157Z",
     "shell.execute_reply": "2022-03-23T20:26:58.613336Z",
     "shell.execute_reply.started": "2022-03-23T20:25:25.719066Z"
    },
    "papermill": {
     "duration": 17.504936,
     "end_time": "2022-03-23T20:26:58.614308",
     "exception": false,
     "start_time": "2022-03-23T20:26:41.109372",
     "status": "completed"
    },
    "tags": []
   },
   "outputs": [
    {
     "name": "stderr",
     "output_type": "stream",
     "text": [
      "2022-03-23 20:26:41.182600: I tensorflow/compiler/mlir/mlir_graph_optimization_pass.cc:185] None of the MLIR Optimization Passes are enabled (registered 2)\n"
     ]
    },
    {
     "name": "stdout",
     "output_type": "stream",
     "text": [
      "Epoch 1/10\n",
      "249/249 [==============================] - 4s 7ms/step - loss: 0.0860\n",
      "Epoch 2/10\n",
      "249/249 [==============================] - 1s 5ms/step - loss: 0.0030\n",
      "Epoch 3/10\n",
      "249/249 [==============================] - 1s 5ms/step - loss: 0.0015\n",
      "Epoch 4/10\n",
      "249/249 [==============================] - 1s 5ms/step - loss: 0.0014\n",
      "Epoch 5/10\n",
      "249/249 [==============================] - 1s 5ms/step - loss: 0.0012\n",
      "Epoch 6/10\n",
      "249/249 [==============================] - 2s 7ms/step - loss: 0.0012\n",
      "Epoch 7/10\n",
      "249/249 [==============================] - 1s 5ms/step - loss: 0.0013\n",
      "Epoch 8/10\n",
      "249/249 [==============================] - 2s 7ms/step - loss: 0.0012\n",
      "Epoch 9/10\n",
      "249/249 [==============================] - 1s 6ms/step - loss: 0.0012\n",
      "Epoch 10/10\n",
      "249/249 [==============================] - 1s 5ms/step - loss: 0.0012\n"
     ]
    },
    {
     "data": {
      "text/plain": [
       "<keras.callbacks.History at 0x7f18a1e1f690>"
      ]
     },
     "execution_count": 10,
     "metadata": {},
     "output_type": "execute_result"
    }
   ],
   "source": [
    "# fit model\n",
    "model.fit(generator,epochs=10)"
   ]
  },
  {
   "cell_type": "code",
   "execution_count": 11,
   "id": "826d812c",
   "metadata": {
    "execution": {
     "iopub.execute_input": "2022-03-23T20:26:58.854525Z",
     "iopub.status.busy": "2022-03-23T20:26:58.853451Z",
     "iopub.status.idle": "2022-03-23T20:26:59.260763Z",
     "shell.execute_reply": "2022-03-23T20:26:59.260227Z",
     "shell.execute_reply.started": "2022-03-23T20:25:39.948053Z"
    },
    "papermill": {
     "duration": 0.530833,
     "end_time": "2022-03-23T20:26:59.260914",
     "exception": false,
     "start_time": "2022-03-23T20:26:58.730081",
     "status": "completed"
    },
    "tags": []
   },
   "outputs": [
    {
     "name": "stdout",
     "output_type": "stream",
     "text": [
      "[[1.0451005 1.0000175 1.0464482 1.0141659]]\n",
      "[[353.61676 362.0548  343.26315 354.57254]]\n",
      "{'clip': False, 'copy': True, 'feature_range': (0, 1)}\n"
     ]
    }
   ],
   "source": [
    "first_eval_batch = scaled_train[-n_input:]\n",
    "current_batch = first_eval_batch.reshape((1, n_input, n_features))\n",
    "current_pred = model.predict(current_batch)[0]\n",
    "print(current_pred)\n",
    "fin_pred = scaler.inverse_transform(current_pred)\n",
    "print(fin_pred)\n",
    "print(scaler.get_params(deep=True))"
   ]
  },
  {
   "cell_type": "code",
   "execution_count": 12,
   "id": "267c8070",
   "metadata": {
    "execution": {
     "iopub.execute_input": "2022-03-23T20:26:59.499879Z",
     "iopub.status.busy": "2022-03-23T20:26:59.494896Z",
     "iopub.status.idle": "2022-03-23T20:26:59.519988Z",
     "shell.execute_reply": "2022-03-23T20:26:59.520536Z",
     "shell.execute_reply.started": "2022-03-23T20:25:40.347015Z"
    },
    "papermill": {
     "duration": 0.145623,
     "end_time": "2022-03-23T20:26:59.520740",
     "exception": false,
     "start_time": "2022-03-23T20:26:59.375117",
     "status": "completed"
    },
    "tags": []
   },
   "outputs": [],
   "source": [
    "model.save(\"EASEMYTRIP_model.h5\")"
   ]
  }
 ],
 "metadata": {
  "kernelspec": {
   "display_name": "Python 3",
   "language": "python",
   "name": "python3"
  },
  "language_info": {
   "codemirror_mode": {
    "name": "ipython",
    "version": 3
   },
   "file_extension": ".py",
   "mimetype": "text/x-python",
   "name": "python",
   "nbconvert_exporter": "python",
   "pygments_lexer": "ipython3",
   "version": "3.7.12"
  },
  "papermill": {
   "default_parameters": {},
   "duration": 39.442647,
   "end_time": "2022-03-23T20:27:02.642729",
   "environment_variables": {},
   "exception": null,
   "input_path": "__notebook__.ipynb",
   "output_path": "__notebook__.ipynb",
   "parameters": {},
   "start_time": "2022-03-23T20:26:23.200082",
   "version": "2.3.3"
  }
 },
 "nbformat": 4,
 "nbformat_minor": 5
}
