{
 "cells": [
  {
   "cell_type": "code",
   "execution_count": 1,
   "id": "1e20b280",
   "metadata": {
    "_cell_guid": "b1076dfc-b9ad-4769-8c92-a6c4dae69d19",
    "_uuid": "8f2839f25d086af736a60e9eeb907d3b93b6e0e5",
    "execution": {
     "iopub.execute_input": "2022-03-23T21:18:19.968045Z",
     "iopub.status.busy": "2022-03-23T21:18:19.966412Z",
     "iopub.status.idle": "2022-03-23T21:18:21.390061Z",
     "shell.execute_reply": "2022-03-23T21:18:21.389335Z",
     "shell.execute_reply.started": "2022-03-23T21:16:44.567152Z"
    },
    "papermill": {
     "duration": 1.446535,
     "end_time": "2022-03-23T21:18:21.390206",
     "exception": false,
     "start_time": "2022-03-23T21:18:19.943671",
     "status": "completed"
    },
    "tags": []
   },
   "outputs": [],
   "source": [
    "import pandas as pd\n",
    "import numpy as np\n",
    "import matplotlib.pyplot as plt\n",
    "import statsmodels.api as sm\n",
    "import joblib"
   ]
  },
  {
   "cell_type": "code",
   "execution_count": 2,
   "id": "fa5e83af",
   "metadata": {
    "execution": {
     "iopub.execute_input": "2022-03-23T21:18:21.421194Z",
     "iopub.status.busy": "2022-03-23T21:18:21.420689Z",
     "iopub.status.idle": "2022-03-23T21:18:21.782201Z",
     "shell.execute_reply": "2022-03-23T21:18:21.782960Z",
     "shell.execute_reply.started": "2022-03-23T21:16:45.938225Z"
    },
    "papermill": {
     "duration": 0.379567,
     "end_time": "2022-03-23T21:18:21.783154",
     "exception": false,
     "start_time": "2022-03-23T21:18:21.403587",
     "status": "completed"
    },
    "tags": []
   },
   "outputs": [
    {
     "name": "stderr",
     "output_type": "stream",
     "text": [
      "/opt/conda/lib/python3.7/site-packages/statsmodels/graphics/tsaplots.py:353: FutureWarning: The default method 'yw' can produce PACF values outside of the [-1,1] interval. After 0.13, the default will change tounadjusted Yule-Walker ('ywm'). You can use this method now by setting method='ywm'.\n",
      "  FutureWarning,\n"
     ]
    },
    {
     "data": {
      "image/png": "[encoded data removed]",
      "text/plain": [
       "<Figure size 432x288 with 1 Axes>"
      ]
     },
     "metadata": {
      "needs_background": "light"
     },
     "output_type": "display_data"
    }
   ],
   "source": [
    "df = pd.read_csv(\"../input/stockpricepredictons/LT.NS.csv\", usecols=[\"Date\", \"Open\", \"Adj Close\", \"High\", \"Low\"], index_col='Date',parse_dates=True)\n",
    "df = df.iloc[-800::]\n",
    "sm.graphics.tsa.plot_pacf(df[\"Open\"], lags=10)\n",
    "plt.show()"
   ]
  },
  {
   "cell_type": "code",
   "execution_count": 3,
   "id": "d9d1bdf8",
   "metadata": {
    "execution": {
     "iopub.execute_input": "2022-03-23T21:18:21.828492Z",
     "iopub.status.busy": "2022-03-23T21:18:21.827559Z",
     "iopub.status.idle": "2022-03-23T21:18:21.830007Z",
     "shell.execute_reply": "2022-03-23T21:18:21.829354Z",
     "shell.execute_reply.started": "2022-03-23T21:16:46.200675Z"
    },
    "papermill": {
     "duration": 0.027323,
     "end_time": "2022-03-23T21:18:21.830150",
     "exception": false,
     "start_time": "2022-03-23T21:18:21.802827",
     "status": "completed"
    },
    "tags": []
   },
   "outputs": [],
   "source": [
    "train = df"
   ]
  },
  {
   "cell_type": "code",
   "execution_count": 4,
   "id": "945d6972",
   "metadata": {
    "execution": {
     "iopub.execute_input": "2022-03-23T21:18:21.879411Z",
     "iopub.status.busy": "2022-03-23T21:18:21.878315Z",
     "iopub.status.idle": "2022-03-23T21:18:21.958283Z",
     "shell.execute_reply": "2022-03-23T21:18:21.959312Z",
     "shell.execute_reply.started": "2022-03-23T21:16:46.207079Z"
    },
    "papermill": {
     "duration": 0.108091,
     "end_time": "2022-03-23T21:18:21.959490",
     "exception": false,
     "start_time": "2022-03-23T21:18:21.851399",
     "status": "completed"
    },
    "tags": []
   },
   "outputs": [
    {
     "data": {
      "text/plain": [
       "['LT_scaler.pkl']"
      ]
     },
     "execution_count": 4,
     "metadata": {},
     "output_type": "execute_result"
    }
   ],
   "source": [
    "from sklearn.preprocessing import MinMaxScaler\n",
    "scaler = MinMaxScaler()\n",
    "\n",
    "scaler.fit(train)\n",
    "scaled_train = scaler.transform(train)\n",
    "joblib.dump(scaler, 'LT_scaler.pkl') "
   ]
  },
  {
   "cell_type": "code",
   "execution_count": 5,
   "id": "8db2f74f",
   "metadata": {
    "execution": {
     "iopub.execute_input": "2022-03-23T21:18:22.008953Z",
     "iopub.status.busy": "2022-03-23T21:18:22.007799Z",
     "iopub.status.idle": "2022-03-23T21:18:26.558779Z",
     "shell.execute_reply": "2022-03-23T21:18:26.559240Z",
     "shell.execute_reply.started": "2022-03-23T21:16:46.284486Z"
    },
    "papermill": {
     "duration": 4.578822,
     "end_time": "2022-03-23T21:18:26.559429",
     "exception": false,
     "start_time": "2022-03-23T21:18:21.980607",
     "status": "completed"
    },
    "tags": []
   },
   "outputs": [],
   "source": [
    "from keras.preprocessing.sequence import TimeseriesGenerator"
   ]
  },
  {
   "cell_type": "code",
   "execution_count": 6,
   "id": "e907449c",
   "metadata": {
    "execution": {
     "iopub.execute_input": "2022-03-23T21:18:26.588777Z",
     "iopub.status.busy": "2022-03-23T21:18:26.588000Z",
     "iopub.status.idle": "2022-03-23T21:18:26.590512Z",
     "shell.execute_reply": "2022-03-23T21:18:26.590031Z",
     "shell.execute_reply.started": "2022-03-23T21:16:51.003683Z"
    },
    "papermill": {
     "duration": 0.018634,
     "end_time": "2022-03-23T21:18:26.590619",
     "exception": false,
     "start_time": "2022-03-23T21:18:26.571985",
     "status": "completed"
    },
    "tags": []
   },
   "outputs": [],
   "source": [
    "# define generator\n",
    "n_input = 1\n",
    "n_features = 4\n",
    "generator = TimeseriesGenerator(scaled_train, scaled_train, length=n_input, batch_size=1)"
   ]
  },
  {
   "cell_type": "code",
   "execution_count": 7,
   "id": "74e4650f",
   "metadata": {
    "execution": {
     "iopub.execute_input": "2022-03-23T21:18:26.617757Z",
     "iopub.status.busy": "2022-03-23T21:18:26.616952Z",
     "iopub.status.idle": "2022-03-23T21:18:26.622144Z",
     "shell.execute_reply": "2022-03-23T21:18:26.622688Z",
     "shell.execute_reply.started": "2022-03-23T21:16:51.012687Z"
    },
    "papermill": {
     "duration": 0.019892,
     "end_time": "2022-03-23T21:18:26.622803",
     "exception": false,
     "start_time": "2022-03-23T21:18:26.602911",
     "status": "completed"
    },
    "tags": []
   },
   "outputs": [
    {
     "name": "stdout",
     "output_type": "stream",
     "text": [
      "Given the Array: \n",
      "[0.53103123 0.51300268 0.54127444 0.47056055]\n",
      "Predict this y: \n",
      " [[0.52910885 0.52332172 0.55416369 0.48023538]]\n"
     ]
    }
   ],
   "source": [
    "X,y = generator[0]\n",
    "print(f'Given the Array: \\n{X.flatten()}')\n",
    "print(f'Predict this y: \\n {y}')"
   ]
  },
  {
   "cell_type": "code",
   "execution_count": 8,
   "id": "b0def36e",
   "metadata": {
    "execution": {
     "iopub.execute_input": "2022-03-23T21:18:26.651376Z",
     "iopub.status.busy": "2022-03-23T21:18:26.650656Z",
     "iopub.status.idle": "2022-03-23T21:18:26.652634Z",
     "shell.execute_reply": "2022-03-23T21:18:26.653125Z",
     "shell.execute_reply.started": "2022-03-23T21:16:51.023731Z"
    },
    "papermill": {
     "duration": 0.017966,
     "end_time": "2022-03-23T21:18:26.653285",
     "exception": false,
     "start_time": "2022-03-23T21:18:26.635319",
     "status": "completed"
    },
    "tags": []
   },
   "outputs": [],
   "source": [
    "from keras.models import Sequential\n",
    "from keras.layers import Dense\n",
    "from keras.layers import LSTM"
   ]
  },
  {
   "cell_type": "code",
   "execution_count": 9,
   "id": "9af0053b",
   "metadata": {
    "execution": {
     "iopub.execute_input": "2022-03-23T21:18:26.682429Z",
     "iopub.status.busy": "2022-03-23T21:18:26.681830Z",
     "iopub.status.idle": "2022-03-23T21:18:29.263318Z",
     "shell.execute_reply": "2022-03-23T21:18:29.263912Z",
     "shell.execute_reply.started": "2022-03-23T21:16:51.032997Z"
    },
    "papermill": {
     "duration": 2.598515,
     "end_time": "2022-03-23T21:18:29.264103",
     "exception": false,
     "start_time": "2022-03-23T21:18:26.665588",
     "status": "completed"
    },
    "tags": []
   },
   "outputs": [
    {
     "name": "stderr",
     "output_type": "stream",
     "text": [
      "2022-03-23 21:18:26.758243: I tensorflow/stream_executor/cuda/cuda_gpu_executor.cc:937] successful NUMA node read from SysFS had negative value (-1), but there must be at least one NUMA node, so returning NUMA node zero\n",
      "2022-03-23 21:18:26.852217: I tensorflow/stream_executor/cuda/cuda_gpu_executor.cc:937] successful NUMA node read from SysFS had negative value (-1), but there must be at least one NUMA node, so returning NUMA node zero\n",
      "2022-03-23 21:18:26.853058: I tensorflow/stream_executor/cuda/cuda_gpu_executor.cc:937] successful NUMA node read from SysFS had negative value (-1), but there must be at least one NUMA node, so returning NUMA node zero\n",
      "2022-03-23 21:18:26.854436: I tensorflow/core/platform/cpu_feature_guard.cc:142] This TensorFlow binary is optimized with oneAPI Deep Neural Network Library (oneDNN) to use the following CPU instructions in performance-critical operations:  AVX2 AVX512F FMA\n",
      "To enable them in other operations, rebuild TensorFlow with the appropriate compiler flags.\n",
      "2022-03-23 21:18:26.855183: I tensorflow/stream_executor/cuda/cuda_gpu_executor.cc:937] successful NUMA node read from SysFS had negative value (-1), but there must be at least one NUMA node, so returning NUMA node zero\n",
      "2022-03-23 21:18:26.856091: I tensorflow/stream_executor/cuda/cuda_gpu_executor.cc:937] successful NUMA node read from SysFS had negative value (-1), but there must be at least one NUMA node, so returning NUMA node zero\n",
      "2022-03-23 21:18:26.856960: I tensorflow/stream_executor/cuda/cuda_gpu_executor.cc:937] successful NUMA node read from SysFS had negative value (-1), but there must be at least one NUMA node, so returning NUMA node zero\n",
      "2022-03-23 21:18:28.793862: I tensorflow/stream_executor/cuda/cuda_gpu_executor.cc:937] successful NUMA node read from SysFS had negative value (-1), but there must be at least one NUMA node, so returning NUMA node zero\n",
      "2022-03-23 21:18:28.794715: I tensorflow/stream_executor/cuda/cuda_gpu_executor.cc:937] successful NUMA node read from SysFS had negative value (-1), but there must be at least one NUMA node, so returning NUMA node zero\n",
      "2022-03-23 21:18:28.795381: I tensorflow/stream_executor/cuda/cuda_gpu_executor.cc:937] successful NUMA node read from SysFS had negative value (-1), but there must be at least one NUMA node, so returning NUMA node zero\n",
      "2022-03-23 21:18:28.795945: I tensorflow/core/common_runtime/gpu/gpu_device.cc:1510] Created device /job:localhost/replica:0/task:0/device:GPU:0 with 15403 MB memory:  -> device: 0, name: Tesla P100-PCIE-16GB, pci bus id: 0000:00:04.0, compute capability: 6.0\n"
     ]
    }
   ],
   "source": [
    "# define model\n",
    "model = Sequential()\n",
    "model.add(LSTM(80, activation='relu', input_shape=(n_input, n_features),return_sequences=True))\n",
    "model.add(Dense(4))\n",
    "model.compile(optimizer='adam', loss='mse')"
   ]
  },
  {
   "cell_type": "code",
   "execution_count": 10,
   "id": "cc455d5b",
   "metadata": {
    "execution": {
     "iopub.execute_input": "2022-03-23T21:18:29.295231Z",
     "iopub.status.busy": "2022-03-23T21:18:29.294657Z",
     "iopub.status.idle": "2022-03-23T21:19:11.899360Z",
     "shell.execute_reply": "2022-03-23T21:19:11.899782Z",
     "shell.execute_reply.started": "2022-03-23T21:16:53.541760Z"
    },
    "papermill": {
     "duration": 42.621298,
     "end_time": "2022-03-23T21:19:11.899934",
     "exception": false,
     "start_time": "2022-03-23T21:18:29.278636",
     "status": "completed"
    },
    "tags": []
   },
   "outputs": [
    {
     "name": "stderr",
     "output_type": "stream",
     "text": [
      "2022-03-23 21:18:29.348380: I tensorflow/compiler/mlir/mlir_graph_optimization_pass.cc:185] None of the MLIR Optimization Passes are enabled (registered 2)\n"
     ]
    },
    {
     "name": "stdout",
     "output_type": "stream",
     "text": [
      "Epoch 1/10\n",
      "799/799 [==============================] - 6s 5ms/step - loss: 0.0187\n",
      "Epoch 2/10\n",
      "799/799 [==============================] - 4s 5ms/step - loss: 4.4922e-04\n",
      "Epoch 3/10\n",
      "799/799 [==============================] - 4s 5ms/step - loss: 4.2434e-04\n",
      "Epoch 4/10\n",
      "799/799 [==============================] - 4s 5ms/step - loss: 4.1374e-04\n",
      "Epoch 5/10\n",
      "799/799 [==============================] - 4s 5ms/step - loss: 4.1830e-04\n",
      "Epoch 6/10\n",
      "799/799 [==============================] - 4s 5ms/step - loss: 4.5484e-04\n",
      "Epoch 7/10\n",
      "799/799 [==============================] - 4s 5ms/step - loss: 4.4000e-04\n",
      "Epoch 8/10\n",
      "799/799 [==============================] - 4s 5ms/step - loss: 4.3894e-04\n",
      "Epoch 9/10\n",
      "799/799 [==============================] - 5s 6ms/step - loss: 4.1745e-04\n",
      "Epoch 10/10\n",
      "799/799 [==============================] - 4s 5ms/step - loss: 3.8667e-04\n"
     ]
    },
    {
     "data": {
      "text/plain": [
       "<keras.callbacks.History at 0x7f11da97b850>"
      ]
     },
     "execution_count": 10,
     "metadata": {},
     "output_type": "execute_result"
    }
   ],
   "source": [
    "# fit model\n",
    "model.fit(generator,epochs=10)"
   ]
  },
  {
   "cell_type": "code",
   "execution_count": 11,
   "id": "4ce08df7",
   "metadata": {
    "execution": {
     "iopub.execute_input": "2022-03-23T21:19:12.415143Z",
     "iopub.status.busy": "2022-03-23T21:19:12.414306Z",
     "iopub.status.idle": "2022-03-23T21:19:12.785912Z",
     "shell.execute_reply": "2022-03-23T21:19:12.786537Z",
     "shell.execute_reply.started": "2022-03-23T21:17:36.874568Z"
    },
    "papermill": {
     "duration": 0.633192,
     "end_time": "2022-03-23T21:19:12.786731",
     "exception": false,
     "start_time": "2022-03-23T21:19:12.153539",
     "status": "completed"
    },
    "tags": []
   },
   "outputs": [
    {
     "name": "stdout",
     "output_type": "stream",
     "text": [
      "[[0.77907574 0.7693356  0.7859689  0.7679176 ]]\n",
      "[[1771.117  1773.4271 1746.423  1747.1162]]\n",
      "{'clip': False, 'copy': True, 'feature_range': (0, 1)}\n"
     ]
    }
   ],
   "source": [
    "first_eval_batch = scaled_train[-n_input:]\n",
    "current_batch = first_eval_batch.reshape((1, n_input, n_features))\n",
    "current_pred = model.predict(current_batch)[0]\n",
    "print(current_pred)\n",
    "fin_pred = scaler.inverse_transform(current_pred)\n",
    "print(fin_pred)\n",
    "print(scaler.get_params(deep=True))"
   ]
  },
  {
   "cell_type": "code",
   "execution_count": 12,
   "id": "e2e05d80",
   "metadata": {
    "execution": {
     "iopub.execute_input": "2022-03-23T21:19:13.301153Z",
     "iopub.status.busy": "2022-03-23T21:19:13.300380Z",
     "iopub.status.idle": "2022-03-23T21:19:13.322051Z",
     "shell.execute_reply": "2022-03-23T21:19:13.321650Z",
     "shell.execute_reply.started": "2022-03-23T21:17:37.267979Z"
    },
    "papermill": {
     "duration": 0.283356,
     "end_time": "2022-03-23T21:19:13.322173",
     "exception": false,
     "start_time": "2022-03-23T21:19:13.038817",
     "status": "completed"
    },
    "tags": []
   },
   "outputs": [],
   "source": [
    "model.save(\"LT_model.h5\")"
   ]
  }
 ],
 "metadata": {
  "kernelspec": {
   "display_name": "Python 3",
   "language": "python",
   "name": "python3"
  },
  "language_info": {
   "codemirror_mode": {
    "name": "ipython",
    "version": 3
   },
   "file_extension": ".py",
   "mimetype": "text/x-python",
   "name": "python",
   "nbconvert_exporter": "python",
   "pygments_lexer": "ipython3",
   "version": "3.7.12"
  },
  "papermill": {
   "default_parameters": {},
   "duration": 64.441531,
   "end_time": "2022-03-23T21:19:16.306942",
   "environment_variables": {},
   "exception": null,
   "input_path": "__notebook__.ipynb",
   "output_path": "__notebook__.ipynb",
   "parameters": {},
   "start_time": "2022-03-23T21:18:11.865411",
   "version": "2.3.3"
  }
 },
 "nbformat": 4,
 "nbformat_minor": 5
}
