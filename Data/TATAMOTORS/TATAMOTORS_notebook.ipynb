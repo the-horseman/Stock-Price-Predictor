{
 "cells": [
  {
   "cell_type": "code",
   "execution_count": 1,
   "id": "cfb47c40",
   "metadata": {
    "_cell_guid": "b1076dfc-b9ad-4769-8c92-a6c4dae69d19",
    "_uuid": "8f2839f25d086af736a60e9eeb907d3b93b6e0e5",
    "execution": {
     "iopub.execute_input": "2022-03-23T21:25:21.665431Z",
     "iopub.status.busy": "2022-03-23T21:25:21.664799Z",
     "iopub.status.idle": "2022-03-23T21:25:23.197409Z",
     "shell.execute_reply": "2022-03-23T21:25:23.198184Z",
     "shell.execute_reply.started": "2022-03-23T21:23:51.975824Z"
    },
    "papermill": {
     "duration": 1.568823,
     "end_time": "2022-03-23T21:25:23.198585",
     "exception": false,
     "start_time": "2022-03-23T21:25:21.629762",
     "status": "completed"
    },
    "tags": []
   },
   "outputs": [],
   "source": [
    "import pandas as pd\n",
    "import numpy as np\n",
    "import matplotlib.pyplot as plt\n",
    "import statsmodels.api as sm\n",
    "import joblib"
   ]
  },
  {
   "cell_type": "code",
   "execution_count": 2,
   "id": "cb5a31f1",
   "metadata": {
    "execution": {
     "iopub.execute_input": "2022-03-23T21:25:23.247969Z",
     "iopub.status.busy": "2022-03-23T21:25:23.247100Z",
     "iopub.status.idle": "2022-03-23T21:25:23.673936Z",
     "shell.execute_reply": "2022-03-23T21:25:23.674679Z",
     "shell.execute_reply.started": "2022-03-23T21:23:53.280533Z"
    },
    "papermill": {
     "duration": 0.456284,
     "end_time": "2022-03-23T21:25:23.674835",
     "exception": false,
     "start_time": "2022-03-23T21:25:23.218551",
     "status": "completed"
    },
    "tags": []
   },
   "outputs": [
    {
     "name": "stderr",
     "output_type": "stream",
     "text": [
      "/opt/conda/lib/python3.7/site-packages/statsmodels/graphics/tsaplots.py:353: FutureWarning: The default method 'yw' can produce PACF values outside of the [-1,1] interval. After 0.13, the default will change tounadjusted Yule-Walker ('ywm'). You can use this method now by setting method='ywm'.\n",
      "  FutureWarning,\n"
     ]
    },
    {
     "data": {
      "image/png": "[encoded data removed]",
      "text/plain": [
       "<Figure size 432x288 with 1 Axes>"
      ]
     },
     "metadata": {
      "needs_background": "light"
     },
     "output_type": "display_data"
    }
   ],
   "source": [
    "df = pd.read_csv(\"../input/stockpricepredictons/TATAMOTORS.NS.csv\", usecols=[\"Date\", \"Open\", \"Adj Close\", \"High\", \"Low\"], index_col='Date',parse_dates=True)\n",
    "df = df.iloc[-800::]\n",
    "sm.graphics.tsa.plot_pacf(df[\"Open\"], lags=10)\n",
    "plt.show()"
   ]
  },
  {
   "cell_type": "code",
   "execution_count": 3,
   "id": "99b710cf",
   "metadata": {
    "execution": {
     "iopub.execute_input": "2022-03-23T21:25:23.719338Z",
     "iopub.status.busy": "2022-03-23T21:25:23.718295Z",
     "iopub.status.idle": "2022-03-23T21:25:23.721021Z",
     "shell.execute_reply": "2022-03-23T21:25:23.721495Z",
     "shell.execute_reply.started": "2022-03-23T21:23:53.521878Z"
    },
    "papermill": {
     "duration": 0.027299,
     "end_time": "2022-03-23T21:25:23.721659",
     "exception": false,
     "start_time": "2022-03-23T21:25:23.694360",
     "status": "completed"
    },
    "tags": []
   },
   "outputs": [],
   "source": [
    "train = df"
   ]
  },
  {
   "cell_type": "code",
   "execution_count": 4,
   "id": "ed077218",
   "metadata": {
    "execution": {
     "iopub.execute_input": "2022-03-23T21:25:23.764998Z",
     "iopub.status.busy": "2022-03-23T21:25:23.764323Z",
     "iopub.status.idle": "2022-03-23T21:25:23.849112Z",
     "shell.execute_reply": "2022-03-23T21:25:23.850056Z",
     "shell.execute_reply.started": "2022-03-23T21:23:53.528619Z"
    },
    "papermill": {
     "duration": 0.110069,
     "end_time": "2022-03-23T21:25:23.850205",
     "exception": false,
     "start_time": "2022-03-23T21:25:23.740136",
     "status": "completed"
    },
    "tags": []
   },
   "outputs": [
    {
     "data": {
      "text/plain": [
       "['TATAMOTORS_scaler.pkl']"
      ]
     },
     "execution_count": 4,
     "metadata": {},
     "output_type": "execute_result"
    }
   ],
   "source": [
    "from sklearn.preprocessing import MinMaxScaler\n",
    "scaler = MinMaxScaler()\n",
    "\n",
    "scaler.fit(train)\n",
    "scaled_train = scaler.transform(train)\n",
    "joblib.dump(scaler, 'TATAMOTORS_scaler.pkl') "
   ]
  },
  {
   "cell_type": "code",
   "execution_count": 5,
   "id": "38738281",
   "metadata": {
    "execution": {
     "iopub.execute_input": "2022-03-23T21:25:23.895064Z",
     "iopub.status.busy": "2022-03-23T21:25:23.894332Z",
     "iopub.status.idle": "2022-03-23T21:25:28.664539Z",
     "shell.execute_reply": "2022-03-23T21:25:28.663481Z",
     "shell.execute_reply.started": "2022-03-23T21:23:53.598005Z"
    },
    "papermill": {
     "duration": 4.793571,
     "end_time": "2022-03-23T21:25:28.664671",
     "exception": false,
     "start_time": "2022-03-23T21:25:23.871100",
     "status": "completed"
    },
    "tags": []
   },
   "outputs": [],
   "source": [
    "from keras.preprocessing.sequence import TimeseriesGenerator"
   ]
  },
  {
   "cell_type": "code",
   "execution_count": 6,
   "id": "3e3473d3",
   "metadata": {
    "execution": {
     "iopub.execute_input": "2022-03-23T21:25:28.693442Z",
     "iopub.status.busy": "2022-03-23T21:25:28.692844Z",
     "iopub.status.idle": "2022-03-23T21:25:28.695481Z",
     "shell.execute_reply": "2022-03-23T21:25:28.695063Z",
     "shell.execute_reply.started": "2022-03-23T21:23:57.855458Z"
    },
    "papermill": {
     "duration": 0.018209,
     "end_time": "2022-03-23T21:25:28.695589",
     "exception": false,
     "start_time": "2022-03-23T21:25:28.677380",
     "status": "completed"
    },
    "tags": []
   },
   "outputs": [],
   "source": [
    "# define generator\n",
    "n_input = 1\n",
    "n_features = 4\n",
    "generator = TimeseriesGenerator(scaled_train, scaled_train, length=n_input, batch_size=1)"
   ]
  },
  {
   "cell_type": "code",
   "execution_count": 7,
   "id": "7008b730",
   "metadata": {
    "execution": {
     "iopub.execute_input": "2022-03-23T21:25:28.724589Z",
     "iopub.status.busy": "2022-03-23T21:25:28.723992Z",
     "iopub.status.idle": "2022-03-23T21:25:28.727533Z",
     "shell.execute_reply": "2022-03-23T21:25:28.726828Z",
     "shell.execute_reply.started": "2022-03-23T21:23:57.862226Z"
    },
    "papermill": {
     "duration": 0.019976,
     "end_time": "2022-03-23T21:25:28.727667",
     "exception": false,
     "start_time": "2022-03-23T21:25:28.707691",
     "status": "completed"
    },
    "tags": []
   },
   "outputs": [
    {
     "name": "stdout",
     "output_type": "stream",
     "text": [
      "Given the Array: \n",
      "[0.22851919 0.22669219 0.22813355 0.22146927]\n",
      "Predict this y: \n",
      " [[0.2213141  0.22413792 0.23130814 0.22706249]]\n"
     ]
    }
   ],
   "source": [
    "X,y = generator[0]\n",
    "print(f'Given the Array: \\n{X.flatten()}')\n",
    "print(f'Predict this y: \\n {y}')"
   ]
  },
  {
   "cell_type": "code",
   "execution_count": 8,
   "id": "0f394f73",
   "metadata": {
    "execution": {
     "iopub.execute_input": "2022-03-23T21:25:28.757555Z",
     "iopub.status.busy": "2022-03-23T21:25:28.756844Z",
     "iopub.status.idle": "2022-03-23T21:25:28.759177Z",
     "shell.execute_reply": "2022-03-23T21:25:28.758751Z",
     "shell.execute_reply.started": "2022-03-23T21:23:57.877891Z"
    },
    "papermill": {
     "duration": 0.018021,
     "end_time": "2022-03-23T21:25:28.759314",
     "exception": false,
     "start_time": "2022-03-23T21:25:28.741293",
     "status": "completed"
    },
    "tags": []
   },
   "outputs": [],
   "source": [
    "from keras.models import Sequential\n",
    "from keras.layers import Dense\n",
    "from keras.layers import LSTM"
   ]
  },
  {
   "cell_type": "code",
   "execution_count": 9,
   "id": "40559b29",
   "metadata": {
    "execution": {
     "iopub.execute_input": "2022-03-23T21:25:28.788312Z",
     "iopub.status.busy": "2022-03-23T21:25:28.787729Z",
     "iopub.status.idle": "2022-03-23T21:25:31.413506Z",
     "shell.execute_reply": "2022-03-23T21:25:31.413903Z",
     "shell.execute_reply.started": "2022-03-23T21:23:57.885902Z"
    },
    "papermill": {
     "duration": 2.642416,
     "end_time": "2022-03-23T21:25:31.414052",
     "exception": false,
     "start_time": "2022-03-23T21:25:28.771636",
     "status": "completed"
    },
    "tags": []
   },
   "outputs": [
    {
     "name": "stderr",
     "output_type": "stream",
     "text": [
      "2022-03-23 21:25:28.865098: I tensorflow/stream_executor/cuda/cuda_gpu_executor.cc:937] successful NUMA node read from SysFS had negative value (-1), but there must be at least one NUMA node, so returning NUMA node zero\n",
      "2022-03-23 21:25:28.957654: I tensorflow/stream_executor/cuda/cuda_gpu_executor.cc:937] successful NUMA node read from SysFS had negative value (-1), but there must be at least one NUMA node, so returning NUMA node zero\n",
      "2022-03-23 21:25:28.958352: I tensorflow/stream_executor/cuda/cuda_gpu_executor.cc:937] successful NUMA node read from SysFS had negative value (-1), but there must be at least one NUMA node, so returning NUMA node zero\n",
      "2022-03-23 21:25:28.959559: I tensorflow/core/platform/cpu_feature_guard.cc:142] This TensorFlow binary is optimized with oneAPI Deep Neural Network Library (oneDNN) to use the following CPU instructions in performance-critical operations:  AVX2 AVX512F FMA\n",
      "To enable them in other operations, rebuild TensorFlow with the appropriate compiler flags.\n",
      "2022-03-23 21:25:28.960428: I tensorflow/stream_executor/cuda/cuda_gpu_executor.cc:937] successful NUMA node read from SysFS had negative value (-1), but there must be at least one NUMA node, so returning NUMA node zero\n",
      "2022-03-23 21:25:28.961071: I tensorflow/stream_executor/cuda/cuda_gpu_executor.cc:937] successful NUMA node read from SysFS had negative value (-1), but there must be at least one NUMA node, so returning NUMA node zero\n",
      "2022-03-23 21:25:28.961716: I tensorflow/stream_executor/cuda/cuda_gpu_executor.cc:937] successful NUMA node read from SysFS had negative value (-1), but there must be at least one NUMA node, so returning NUMA node zero\n",
      "2022-03-23 21:25:30.931770: I tensorflow/stream_executor/cuda/cuda_gpu_executor.cc:937] successful NUMA node read from SysFS had negative value (-1), but there must be at least one NUMA node, so returning NUMA node zero\n",
      "2022-03-23 21:25:30.932623: I tensorflow/stream_executor/cuda/cuda_gpu_executor.cc:937] successful NUMA node read from SysFS had negative value (-1), but there must be at least one NUMA node, so returning NUMA node zero\n",
      "2022-03-23 21:25:30.933365: I tensorflow/stream_executor/cuda/cuda_gpu_executor.cc:937] successful NUMA node read from SysFS had negative value (-1), but there must be at least one NUMA node, so returning NUMA node zero\n",
      "2022-03-23 21:25:30.933967: I tensorflow/core/common_runtime/gpu/gpu_device.cc:1510] Created device /job:localhost/replica:0/task:0/device:GPU:0 with 15403 MB memory:  -> device: 0, name: Tesla P100-PCIE-16GB, pci bus id: 0000:00:04.0, compute capability: 6.0\n"
     ]
    }
   ],
   "source": [
    "# define model\n",
    "model = Sequential()\n",
    "model.add(LSTM(80, activation='relu', input_shape=(n_input, n_features),return_sequences=True))\n",
    "model.add(Dense(4))\n",
    "model.compile(optimizer='adam', loss='mse')"
   ]
  },
  {
   "cell_type": "code",
   "execution_count": 10,
   "id": "aad2bd8b",
   "metadata": {
    "execution": {
     "iopub.execute_input": "2022-03-23T21:25:31.444430Z",
     "iopub.status.busy": "2022-03-23T21:25:31.443635Z",
     "iopub.status.idle": "2022-03-23T21:26:14.738342Z",
     "shell.execute_reply": "2022-03-23T21:26:14.737894Z",
     "shell.execute_reply.started": "2022-03-23T21:24:00.272810Z"
    },
    "papermill": {
     "duration": 43.310913,
     "end_time": "2022-03-23T21:26:14.738472",
     "exception": false,
     "start_time": "2022-03-23T21:25:31.427559",
     "status": "completed"
    },
    "tags": []
   },
   "outputs": [
    {
     "name": "stderr",
     "output_type": "stream",
     "text": [
      "2022-03-23 21:25:31.495968: I tensorflow/compiler/mlir/mlir_graph_optimization_pass.cc:185] None of the MLIR Optimization Passes are enabled (registered 2)\n"
     ]
    },
    {
     "name": "stdout",
     "output_type": "stream",
     "text": [
      "Epoch 1/10\n",
      "799/799 [==============================] - 7s 6ms/step - loss: 0.0166\n",
      "Epoch 2/10\n",
      "799/799 [==============================] - 4s 5ms/step - loss: 3.2781e-04\n",
      "Epoch 3/10\n",
      "799/799 [==============================] - 4s 5ms/step - loss: 3.2138e-04\n",
      "Epoch 4/10\n",
      "799/799 [==============================] - 4s 5ms/step - loss: 3.5616e-04\n",
      "Epoch 5/10\n",
      "799/799 [==============================] - 4s 5ms/step - loss: 3.7102e-04\n",
      "Epoch 6/10\n",
      "799/799 [==============================] - 4s 5ms/step - loss: 3.5105e-04\n",
      "Epoch 7/10\n",
      "799/799 [==============================] - 4s 5ms/step - loss: 3.3339e-04\n",
      "Epoch 8/10\n",
      "799/799 [==============================] - 4s 5ms/step - loss: 3.5419e-04\n",
      "Epoch 9/10\n",
      "799/799 [==============================] - 5s 6ms/step - loss: 3.6008e-04\n",
      "Epoch 10/10\n",
      "799/799 [==============================] - 4s 5ms/step - loss: 3.5396e-04\n"
     ]
    },
    {
     "data": {
      "text/plain": [
       "<keras.callbacks.History at 0x7f8ceb8cddd0>"
      ]
     },
     "execution_count": 10,
     "metadata": {},
     "output_type": "execute_result"
    }
   ],
   "source": [
    "# fit model\n",
    "model.fit(generator,epochs=10)"
   ]
  },
  {
   "cell_type": "code",
   "execution_count": 11,
   "id": "d9fb79b2",
   "metadata": {
    "execution": {
     "iopub.execute_input": "2022-03-23T21:26:15.277905Z",
     "iopub.status.busy": "2022-03-23T21:26:15.277071Z",
     "iopub.status.idle": "2022-03-23T21:26:15.650515Z",
     "shell.execute_reply": "2022-03-23T21:26:15.650067Z",
     "shell.execute_reply.started": "2022-03-23T21:24:44.702894Z"
    },
    "papermill": {
     "duration": 0.642836,
     "end_time": "2022-03-23T21:26:15.650644",
     "exception": false,
     "start_time": "2022-03-23T21:26:15.007808",
     "status": "completed"
    },
    "tags": []
   },
   "outputs": [
    {
     "name": "stdout",
     "output_type": "stream",
     "text": [
      "[[0.80644   0.8012067 0.7937629 0.7871421]]\n",
      "[[441.45428 443.30692 426.05124 431.20303]]\n",
      "{'clip': False, 'copy': True, 'feature_range': (0, 1)}\n"
     ]
    }
   ],
   "source": [
    "first_eval_batch = scaled_train[-n_input:]\n",
    "current_batch = first_eval_batch.reshape((1, n_input, n_features))\n",
    "current_pred = model.predict(current_batch)[0]\n",
    "print(current_pred)\n",
    "fin_pred = scaler.inverse_transform(current_pred)\n",
    "print(fin_pred)\n",
    "print(scaler.get_params(deep=True))"
   ]
  },
  {
   "cell_type": "code",
   "execution_count": 12,
   "id": "d873e635",
   "metadata": {
    "execution": {
     "iopub.execute_input": "2022-03-23T21:26:16.189668Z",
     "iopub.status.busy": "2022-03-23T21:26:16.188770Z",
     "iopub.status.idle": "2022-03-23T21:26:16.209369Z",
     "shell.execute_reply": "2022-03-23T21:26:16.209884Z",
     "shell.execute_reply.started": "2022-03-23T21:24:45.091912Z"
    },
    "papermill": {
     "duration": 0.293269,
     "end_time": "2022-03-23T21:26:16.210033",
     "exception": false,
     "start_time": "2022-03-23T21:26:15.916764",
     "status": "completed"
    },
    "tags": []
   },
   "outputs": [],
   "source": [
    "model.save(\"TATAMOTORS_model.h5\")"
   ]
  }
 ],
 "metadata": {
  "kernelspec": {
   "display_name": "Python 3",
   "language": "python",
   "name": "python3"
  },
  "language_info": {
   "codemirror_mode": {
    "name": "ipython",
    "version": 3
   },
   "file_extension": ".py",
   "mimetype": "text/x-python",
   "name": "python",
   "nbconvert_exporter": "python",
   "pygments_lexer": "ipython3",
   "version": "3.7.12"
  },
  "papermill": {
   "default_parameters": {},
   "duration": 66.353517,
   "end_time": "2022-03-23T21:26:19.892078",
   "environment_variables": {},
   "exception": null,
   "input_path": "__notebook__.ipynb",
   "output_path": "__notebook__.ipynb",
   "parameters": {},
   "start_time": "2022-03-23T21:25:13.538561",
   "version": "2.3.3"
  }
 },
 "nbformat": 4,
 "nbformat_minor": 5
}
