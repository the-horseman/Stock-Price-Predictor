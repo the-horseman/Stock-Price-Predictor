{
 "cells": [
  {
   "cell_type": "code",
   "execution_count": 1,
   "id": "f43ad72b",
   "metadata": {
    "_cell_guid": "b1076dfc-b9ad-4769-8c92-a6c4dae69d19",
    "_uuid": "8f2839f25d086af736a60e9eeb907d3b93b6e0e5",
    "execution": {
     "iopub.execute_input": "2022-03-23T20:24:07.087502Z",
     "iopub.status.busy": "2022-03-23T20:24:07.086870Z",
     "iopub.status.idle": "2022-03-23T20:24:08.533283Z",
     "shell.execute_reply": "2022-03-23T20:24:08.534000Z",
     "shell.execute_reply.started": "2022-03-23T20:22:37.049709Z"
    },
    "papermill": {
     "duration": 1.469832,
     "end_time": "2022-03-23T20:24:08.534369",
     "exception": false,
     "start_time": "2022-03-23T20:24:07.064537",
     "status": "completed"
    },
    "tags": []
   },
   "outputs": [],
   "source": [
    "import pandas as pd\n",
    "import numpy as np\n",
    "import matplotlib.pyplot as plt\n",
    "import statsmodels.api as sm\n",
    "import joblib"
   ]
  },
  {
   "cell_type": "code",
   "execution_count": 2,
   "id": "3aca510b",
   "metadata": {
    "execution": {
     "iopub.execute_input": "2022-03-23T20:24:08.580708Z",
     "iopub.status.busy": "2022-03-23T20:24:08.580091Z",
     "iopub.status.idle": "2022-03-23T20:24:08.953040Z",
     "shell.execute_reply": "2022-03-23T20:24:08.951980Z",
     "shell.execute_reply.started": "2022-03-23T20:22:38.604571Z"
    },
    "papermill": {
     "duration": 0.397276,
     "end_time": "2022-03-23T20:24:08.953308",
     "exception": false,
     "start_time": "2022-03-23T20:24:08.556032",
     "status": "completed"
    },
    "tags": []
   },
   "outputs": [
    {
     "name": "stderr",
     "output_type": "stream",
     "text": [
      "/opt/conda/lib/python3.7/site-packages/statsmodels/graphics/tsaplots.py:353: FutureWarning: The default method 'yw' can produce PACF values outside of the [-1,1] interval. After 0.13, the default will change tounadjusted Yule-Walker ('ywm'). You can use this method now by setting method='ywm'.\n",
      "  FutureWarning,\n"
     ]
    },
    {
     "data": {
      "image/png": "[encoded data removed]",
      "text/plain": [
       "<Figure size 432x288 with 1 Axes>"
      ]
     },
     "metadata": {
      "needs_background": "light"
     },
     "output_type": "display_data"
    }
   ],
   "source": [
    "df = pd.read_csv(\"../input/stockpricepredictons/CANBK.NS.csv\", usecols=[\"Date\", \"Open\", \"Adj Close\", \"High\", \"Low\"], index_col='Date',parse_dates=True)\n",
    "df = df.iloc[-800::]\n",
    "sm.graphics.tsa.plot_pacf(df[\"Open\"], lags=10)\n",
    "plt.show()"
   ]
  },
  {
   "cell_type": "code",
   "execution_count": 3,
   "id": "0ed49508",
   "metadata": {
    "execution": {
     "iopub.execute_input": "2022-03-23T20:24:09.000797Z",
     "iopub.status.busy": "2022-03-23T20:24:08.999424Z",
     "iopub.status.idle": "2022-03-23T20:24:09.002272Z",
     "shell.execute_reply": "2022-03-23T20:24:09.001487Z",
     "shell.execute_reply.started": "2022-03-23T20:22:38.846952Z"
    },
    "papermill": {
     "duration": 0.028388,
     "end_time": "2022-03-23T20:24:09.002449",
     "exception": false,
     "start_time": "2022-03-23T20:24:08.974061",
     "status": "completed"
    },
    "tags": []
   },
   "outputs": [],
   "source": [
    "train = df"
   ]
  },
  {
   "cell_type": "code",
   "execution_count": 4,
   "id": "25b3f5c8",
   "metadata": {
    "execution": {
     "iopub.execute_input": "2022-03-23T20:24:09.048618Z",
     "iopub.status.busy": "2022-03-23T20:24:09.047294Z",
     "iopub.status.idle": "2022-03-23T20:24:09.126346Z",
     "shell.execute_reply": "2022-03-23T20:24:09.126785Z",
     "shell.execute_reply.started": "2022-03-23T20:22:38.852912Z"
    },
    "papermill": {
     "duration": 0.104958,
     "end_time": "2022-03-23T20:24:09.126929",
     "exception": false,
     "start_time": "2022-03-23T20:24:09.021971",
     "status": "completed"
    },
    "tags": []
   },
   "outputs": [
    {
     "data": {
      "text/plain": [
       "['CANBK_scaler.pkl']"
      ]
     },
     "execution_count": 4,
     "metadata": {},
     "output_type": "execute_result"
    }
   ],
   "source": [
    "from sklearn.preprocessing import MinMaxScaler\n",
    "scaler = MinMaxScaler()\n",
    "\n",
    "scaler.fit(train)\n",
    "scaled_train = scaler.transform(train)\n",
    "joblib.dump(scaler, 'CANBK_scaler.pkl') "
   ]
  },
  {
   "cell_type": "code",
   "execution_count": 5,
   "id": "7f38e225",
   "metadata": {
    "execution": {
     "iopub.execute_input": "2022-03-23T20:24:09.155025Z",
     "iopub.status.busy": "2022-03-23T20:24:09.154411Z",
     "iopub.status.idle": "2022-03-23T20:24:14.044234Z",
     "shell.execute_reply": "2022-03-23T20:24:14.043609Z",
     "shell.execute_reply.started": "2022-03-23T20:22:38.931704Z"
    },
    "papermill": {
     "duration": 4.905342,
     "end_time": "2022-03-23T20:24:14.044361",
     "exception": false,
     "start_time": "2022-03-23T20:24:09.139019",
     "status": "completed"
    },
    "tags": []
   },
   "outputs": [],
   "source": [
    "from keras.preprocessing.sequence import TimeseriesGenerator"
   ]
  },
  {
   "cell_type": "code",
   "execution_count": 6,
   "id": "e5c69695",
   "metadata": {
    "execution": {
     "iopub.execute_input": "2022-03-23T20:24:14.073537Z",
     "iopub.status.busy": "2022-03-23T20:24:14.073035Z",
     "iopub.status.idle": "2022-03-23T20:24:14.076441Z",
     "shell.execute_reply": "2022-03-23T20:24:14.076000Z",
     "shell.execute_reply.started": "2022-03-23T20:22:43.723572Z"
    },
    "papermill": {
     "duration": 0.019564,
     "end_time": "2022-03-23T20:24:14.076547",
     "exception": false,
     "start_time": "2022-03-23T20:24:14.056983",
     "status": "completed"
    },
    "tags": []
   },
   "outputs": [],
   "source": [
    "# define generator\n",
    "n_input = 1\n",
    "n_features = 4\n",
    "generator = TimeseriesGenerator(scaled_train, scaled_train, length=n_input, batch_size=1)"
   ]
  },
  {
   "cell_type": "code",
   "execution_count": 7,
   "id": "4b2b1c3c",
   "metadata": {
    "execution": {
     "iopub.execute_input": "2022-03-23T20:24:14.103444Z",
     "iopub.status.busy": "2022-03-23T20:24:14.102663Z",
     "iopub.status.idle": "2022-03-23T20:24:14.108810Z",
     "shell.execute_reply": "2022-03-23T20:24:14.108380Z",
     "shell.execute_reply.started": "2022-03-23T20:22:43.730327Z"
    },
    "papermill": {
     "duration": 0.020367,
     "end_time": "2022-03-23T20:24:14.108919",
     "exception": false,
     "start_time": "2022-03-23T20:24:14.088552",
     "status": "completed"
    },
    "tags": []
   },
   "outputs": [
    {
     "name": "stdout",
     "output_type": "stream",
     "text": [
      "Given the Array: \n",
      "[0.88939259 0.87756929 0.89970234 0.89017467]\n",
      "Predict this y: \n",
      " [[0.8975521  0.89678282 0.91069384 0.91377355]]\n"
     ]
    }
   ],
   "source": [
    "X,y = generator[0]\n",
    "print(f'Given the Array: \\n{X.flatten()}')\n",
    "print(f'Predict this y: \\n {y}')"
   ]
  },
  {
   "cell_type": "code",
   "execution_count": 8,
   "id": "d51e5995",
   "metadata": {
    "execution": {
     "iopub.execute_input": "2022-03-23T20:24:14.137326Z",
     "iopub.status.busy": "2022-03-23T20:24:14.136658Z",
     "iopub.status.idle": "2022-03-23T20:24:14.139112Z",
     "shell.execute_reply": "2022-03-23T20:24:14.138716Z",
     "shell.execute_reply.started": "2022-03-23T20:22:43.741674Z"
    },
    "papermill": {
     "duration": 0.018054,
     "end_time": "2022-03-23T20:24:14.139221",
     "exception": false,
     "start_time": "2022-03-23T20:24:14.121167",
     "status": "completed"
    },
    "tags": []
   },
   "outputs": [],
   "source": [
    "from keras.models import Sequential\n",
    "from keras.layers import Dense\n",
    "from keras.layers import LSTM"
   ]
  },
  {
   "cell_type": "code",
   "execution_count": 9,
   "id": "3c8a5c7a",
   "metadata": {
    "execution": {
     "iopub.execute_input": "2022-03-23T20:24:14.168290Z",
     "iopub.status.busy": "2022-03-23T20:24:14.167783Z",
     "iopub.status.idle": "2022-03-23T20:24:16.727472Z",
     "shell.execute_reply": "2022-03-23T20:24:16.726481Z",
     "shell.execute_reply.started": "2022-03-23T20:22:43.748812Z"
    },
    "papermill": {
     "duration": 2.576067,
     "end_time": "2022-03-23T20:24:16.727635",
     "exception": false,
     "start_time": "2022-03-23T20:24:14.151568",
     "status": "completed"
    },
    "tags": []
   },
   "outputs": [
    {
     "name": "stderr",
     "output_type": "stream",
     "text": [
      "2022-03-23 20:24:14.240358: I tensorflow/stream_executor/cuda/cuda_gpu_executor.cc:937] successful NUMA node read from SysFS had negative value (-1), but there must be at least one NUMA node, so returning NUMA node zero\n",
      "2022-03-23 20:24:14.329606: I tensorflow/stream_executor/cuda/cuda_gpu_executor.cc:937] successful NUMA node read from SysFS had negative value (-1), but there must be at least one NUMA node, so returning NUMA node zero\n",
      "2022-03-23 20:24:14.330302: I tensorflow/stream_executor/cuda/cuda_gpu_executor.cc:937] successful NUMA node read from SysFS had negative value (-1), but there must be at least one NUMA node, so returning NUMA node zero\n",
      "2022-03-23 20:24:14.331790: I tensorflow/core/platform/cpu_feature_guard.cc:142] This TensorFlow binary is optimized with oneAPI Deep Neural Network Library (oneDNN) to use the following CPU instructions in performance-critical operations:  AVX2 AVX512F FMA\n",
      "To enable them in other operations, rebuild TensorFlow with the appropriate compiler flags.\n",
      "2022-03-23 20:24:14.332501: I tensorflow/stream_executor/cuda/cuda_gpu_executor.cc:937] successful NUMA node read from SysFS had negative value (-1), but there must be at least one NUMA node, so returning NUMA node zero\n",
      "2022-03-23 20:24:14.333161: I tensorflow/stream_executor/cuda/cuda_gpu_executor.cc:937] successful NUMA node read from SysFS had negative value (-1), but there must be at least one NUMA node, so returning NUMA node zero\n",
      "2022-03-23 20:24:14.333780: I tensorflow/stream_executor/cuda/cuda_gpu_executor.cc:937] successful NUMA node read from SysFS had negative value (-1), but there must be at least one NUMA node, so returning NUMA node zero\n",
      "2022-03-23 20:24:16.247184: I tensorflow/stream_executor/cuda/cuda_gpu_executor.cc:937] successful NUMA node read from SysFS had negative value (-1), but there must be at least one NUMA node, so returning NUMA node zero\n",
      "2022-03-23 20:24:16.248089: I tensorflow/stream_executor/cuda/cuda_gpu_executor.cc:937] successful NUMA node read from SysFS had negative value (-1), but there must be at least one NUMA node, so returning NUMA node zero\n",
      "2022-03-23 20:24:16.248741: I tensorflow/stream_executor/cuda/cuda_gpu_executor.cc:937] successful NUMA node read from SysFS had negative value (-1), but there must be at least one NUMA node, so returning NUMA node zero\n",
      "2022-03-23 20:24:16.249302: I tensorflow/core/common_runtime/gpu/gpu_device.cc:1510] Created device /job:localhost/replica:0/task:0/device:GPU:0 with 15403 MB memory:  -> device: 0, name: Tesla P100-PCIE-16GB, pci bus id: 0000:00:04.0, compute capability: 6.0\n"
     ]
    }
   ],
   "source": [
    "# define model\n",
    "model = Sequential()\n",
    "model.add(LSTM(50, activation='relu', input_shape=(n_input, n_features),return_sequences=True))\n",
    "model.add(Dense(4))\n",
    "model.compile(optimizer='adam', loss='mse')"
   ]
  },
  {
   "cell_type": "code",
   "execution_count": 10,
   "id": "c3687126",
   "metadata": {
    "execution": {
     "iopub.execute_input": "2022-03-23T20:24:16.759764Z",
     "iopub.status.busy": "2022-03-23T20:24:16.756907Z",
     "iopub.status.idle": "2022-03-23T20:25:01.732103Z",
     "shell.execute_reply": "2022-03-23T20:25:01.731547Z",
     "shell.execute_reply.started": "2022-03-23T20:22:46.196265Z"
    },
    "papermill": {
     "duration": 44.991413,
     "end_time": "2022-03-23T20:25:01.732236",
     "exception": false,
     "start_time": "2022-03-23T20:24:16.740823",
     "status": "completed"
    },
    "tags": []
   },
   "outputs": [
    {
     "name": "stderr",
     "output_type": "stream",
     "text": [
      "2022-03-23 20:24:16.809850: I tensorflow/compiler/mlir/mlir_graph_optimization_pass.cc:185] None of the MLIR Optimization Passes are enabled (registered 2)\n"
     ]
    },
    {
     "name": "stdout",
     "output_type": "stream",
     "text": [
      "Epoch 1/10\n",
      "799/799 [==============================] - 6s 5ms/step - loss: 0.0226\n",
      "Epoch 2/10\n",
      "799/799 [==============================] - 4s 5ms/step - loss: 5.1619e-04\n",
      "Epoch 3/10\n",
      "799/799 [==============================] - 4s 5ms/step - loss: 5.1398e-04\n",
      "Epoch 4/10\n",
      "799/799 [==============================] - 4s 5ms/step - loss: 4.9345e-04\n",
      "Epoch 5/10\n",
      "799/799 [==============================] - 4s 5ms/step - loss: 5.0045e-04\n",
      "Epoch 6/10\n",
      "799/799 [==============================] - 5s 6ms/step - loss: 5.0590e-04\n",
      "Epoch 7/10\n",
      "799/799 [==============================] - 4s 5ms/step - loss: 5.1195e-04\n",
      "Epoch 8/10\n",
      "799/799 [==============================] - 4s 5ms/step - loss: 5.1235e-04\n",
      "Epoch 9/10\n",
      "799/799 [==============================] - 4s 5ms/step - loss: 4.8785e-04\n",
      "Epoch 10/10\n",
      "799/799 [==============================] - 4s 5ms/step - loss: 4.8947e-04\n"
     ]
    },
    {
     "data": {
      "text/plain": [
       "<keras.callbacks.History at 0x7f9a85018e10>"
      ]
     },
     "execution_count": 10,
     "metadata": {},
     "output_type": "execute_result"
    }
   ],
   "source": [
    "# fit model\n",
    "model.fit(generator,epochs=10)"
   ]
  },
  {
   "cell_type": "code",
   "execution_count": 11,
   "id": "5f1e042f",
   "metadata": {
    "execution": {
     "iopub.execute_input": "2022-03-23T20:25:02.300845Z",
     "iopub.status.busy": "2022-03-23T20:25:02.299990Z",
     "iopub.status.idle": "2022-03-23T20:25:02.681059Z",
     "shell.execute_reply": "2022-03-23T20:25:02.681469Z",
     "shell.execute_reply.started": "2022-03-23T20:23:29.810245Z"
    },
    "papermill": {
     "duration": 0.668557,
     "end_time": "2022-03-23T20:25:02.681633",
     "exception": false,
     "start_time": "2022-03-23T20:25:02.013076",
     "status": "completed"
    },
    "tags": []
   },
   "outputs": [
    {
     "name": "stdout",
     "output_type": "stream",
     "text": [
      "[[0.69164133 0.67620915 0.6884204  0.6795052 ]]\n",
      "[[228.97609 229.63562 223.96661 225.829  ]]\n",
      "{'clip': False, 'copy': True, 'feature_range': (0, 1)}\n"
     ]
    }
   ],
   "source": [
    "first_eval_batch = scaled_train[-n_input:]\n",
    "current_batch = first_eval_batch.reshape((1, n_input, n_features))\n",
    "current_pred = model.predict(current_batch)[0]\n",
    "print(current_pred)\n",
    "fin_pred = scaler.inverse_transform(current_pred)\n",
    "print(fin_pred)\n",
    "print(scaler.get_params(deep=True))"
   ]
  },
  {
   "cell_type": "code",
   "execution_count": 12,
   "id": "3caac988",
   "metadata": {
    "execution": {
     "iopub.execute_input": "2022-03-23T20:25:03.233912Z",
     "iopub.status.busy": "2022-03-23T20:25:03.233005Z",
     "iopub.status.idle": "2022-03-23T20:25:03.253126Z",
     "shell.execute_reply": "2022-03-23T20:25:03.252572Z",
     "shell.execute_reply.started": "2022-03-23T20:23:30.187323Z"
    },
    "papermill": {
     "duration": 0.316808,
     "end_time": "2022-03-23T20:25:03.253254",
     "exception": false,
     "start_time": "2022-03-23T20:25:02.936446",
     "status": "completed"
    },
    "tags": []
   },
   "outputs": [],
   "source": [
    "model.save(\"CANBK_model.h5\")"
   ]
  }
 ],
 "metadata": {
  "kernelspec": {
   "display_name": "Python 3",
   "language": "python",
   "name": "python3"
  },
  "language_info": {
   "codemirror_mode": {
    "name": "ipython",
    "version": 3
   },
   "file_extension": ".py",
   "mimetype": "text/x-python",
   "name": "python",
   "nbconvert_exporter": "python",
   "pygments_lexer": "ipython3",
   "version": "3.7.12"
  },
  "papermill": {
   "default_parameters": {},
   "duration": 68.41591,
   "end_time": "2022-03-23T20:25:07.272691",
   "environment_variables": {},
   "exception": null,
   "input_path": "__notebook__.ipynb",
   "output_path": "__notebook__.ipynb",
   "parameters": {},
   "start_time": "2022-03-23T20:23:58.856781",
   "version": "2.3.3"
  }
 },
 "nbformat": 4,
 "nbformat_minor": 5
}
