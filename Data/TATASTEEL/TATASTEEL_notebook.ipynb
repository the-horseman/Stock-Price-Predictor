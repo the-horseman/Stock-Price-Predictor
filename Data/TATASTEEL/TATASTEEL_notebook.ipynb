{
 "cells": [
  {
   "cell_type": "code",
   "execution_count": 1,
   "id": "350fd7eb",
   "metadata": {
    "_cell_guid": "b1076dfc-b9ad-4769-8c92-a6c4dae69d19",
    "_uuid": "8f2839f25d086af736a60e9eeb907d3b93b6e0e5",
    "execution": {
     "iopub.execute_input": "2022-03-23T21:27:44.225835Z",
     "iopub.status.busy": "2022-03-23T21:27:44.223688Z",
     "iopub.status.idle": "2022-03-23T21:27:45.889863Z",
     "shell.execute_reply": "2022-03-23T21:27:45.890553Z",
     "shell.execute_reply.started": "2022-03-23T21:26:06.213638Z"
    },
    "papermill": {
     "duration": 1.688176,
     "end_time": "2022-03-23T21:27:45.890947",
     "exception": false,
     "start_time": "2022-03-23T21:27:44.202771",
     "status": "completed"
    },
    "tags": []
   },
   "outputs": [],
   "source": [
    "import pandas as pd\n",
    "import numpy as np\n",
    "import matplotlib.pyplot as plt\n",
    "import statsmodels.api as sm\n",
    "import joblib"
   ]
  },
  {
   "cell_type": "code",
   "execution_count": 2,
   "id": "3bab64b5",
   "metadata": {
    "execution": {
     "iopub.execute_input": "2022-03-23T21:27:45.931057Z",
     "iopub.status.busy": "2022-03-23T21:27:45.930310Z",
     "iopub.status.idle": "2022-03-23T21:27:46.238138Z",
     "shell.execute_reply": "2022-03-23T21:27:46.237549Z",
     "shell.execute_reply.started": "2022-03-23T21:26:07.770192Z"
    },
    "papermill": {
     "duration": 0.328992,
     "end_time": "2022-03-23T21:27:46.238316",
     "exception": false,
     "start_time": "2022-03-23T21:27:45.909324",
     "status": "completed"
    },
    "tags": []
   },
   "outputs": [
    {
     "name": "stderr",
     "output_type": "stream",
     "text": [
      "/opt/conda/lib/python3.7/site-packages/statsmodels/graphics/tsaplots.py:353: FutureWarning: The default method 'yw' can produce PACF values outside of the [-1,1] interval. After 0.13, the default will change tounadjusted Yule-Walker ('ywm'). You can use this method now by setting method='ywm'.\n",
      "  FutureWarning,\n"
     ]
    },
    {
     "data": {
      "image/png": "[encoded data removed]",
      "text/plain": [
       "<Figure size 432x288 with 1 Axes>"
      ]
     },
     "metadata": {
      "needs_background": "light"
     },
     "output_type": "display_data"
    }
   ],
   "source": [
    "df = pd.read_csv(\"../input/stockpricepredictons/TATASTEEL.NS.csv\", usecols=[\"Date\", \"Open\", \"Adj Close\", \"High\", \"Low\"], index_col='Date',parse_dates=True)\n",
    "df = df.iloc[-800::]\n",
    "sm.graphics.tsa.plot_pacf(df[\"Open\"], lags=10)\n",
    "plt.show()"
   ]
  },
  {
   "cell_type": "code",
   "execution_count": 3,
   "id": "96411984",
   "metadata": {
    "execution": {
     "iopub.execute_input": "2022-03-23T21:27:46.275922Z",
     "iopub.status.busy": "2022-03-23T21:27:46.274732Z",
     "iopub.status.idle": "2022-03-23T21:27:46.277071Z",
     "shell.execute_reply": "2022-03-23T21:27:46.277627Z",
     "shell.execute_reply.started": "2022-03-23T21:26:08.028916Z"
    },
    "papermill": {
     "duration": 0.023549,
     "end_time": "2022-03-23T21:27:46.277775",
     "exception": false,
     "start_time": "2022-03-23T21:27:46.254226",
     "status": "completed"
    },
    "tags": []
   },
   "outputs": [],
   "source": [
    "train = df"
   ]
  },
  {
   "cell_type": "code",
   "execution_count": 4,
   "id": "ef572e0e",
   "metadata": {
    "execution": {
     "iopub.execute_input": "2022-03-23T21:27:46.314110Z",
     "iopub.status.busy": "2022-03-23T21:27:46.313262Z",
     "iopub.status.idle": "2022-03-23T21:27:46.391160Z",
     "shell.execute_reply": "2022-03-23T21:27:46.392203Z",
     "shell.execute_reply.started": "2022-03-23T21:26:08.036559Z"
    },
    "papermill": {
     "duration": 0.099261,
     "end_time": "2022-03-23T21:27:46.392553",
     "exception": false,
     "start_time": "2022-03-23T21:27:46.293292",
     "status": "completed"
    },
    "tags": []
   },
   "outputs": [
    {
     "data": {
      "text/plain": [
       "['TATASTEEL_scaler.pkl']"
      ]
     },
     "execution_count": 4,
     "metadata": {},
     "output_type": "execute_result"
    }
   ],
   "source": [
    "from sklearn.preprocessing import MinMaxScaler\n",
    "scaler = MinMaxScaler()\n",
    "\n",
    "scaler.fit(train)\n",
    "scaled_train = scaler.transform(train)\n",
    "joblib.dump(scaler, 'TATASTEEL_scaler.pkl') "
   ]
  },
  {
   "cell_type": "code",
   "execution_count": 5,
   "id": "df843067",
   "metadata": {
    "execution": {
     "iopub.execute_input": "2022-03-23T21:27:46.429093Z",
     "iopub.status.busy": "2022-03-23T21:27:46.428474Z",
     "iopub.status.idle": "2022-03-23T21:27:51.898307Z",
     "shell.execute_reply": "2022-03-23T21:27:51.897148Z",
     "shell.execute_reply.started": "2022-03-23T21:26:08.119804Z"
    },
    "papermill": {
     "duration": 5.489858,
     "end_time": "2022-03-23T21:27:51.898529",
     "exception": false,
     "start_time": "2022-03-23T21:27:46.408671",
     "status": "completed"
    },
    "tags": []
   },
   "outputs": [],
   "source": [
    "from keras.preprocessing.sequence import TimeseriesGenerator"
   ]
  },
  {
   "cell_type": "code",
   "execution_count": 6,
   "id": "f4303fe6",
   "metadata": {
    "execution": {
     "iopub.execute_input": "2022-03-23T21:27:51.938043Z",
     "iopub.status.busy": "2022-03-23T21:27:51.936955Z",
     "iopub.status.idle": "2022-03-23T21:27:51.940075Z",
     "shell.execute_reply": "2022-03-23T21:27:51.939533Z",
     "shell.execute_reply.started": "2022-03-23T21:26:12.828830Z"
    },
    "papermill": {
     "duration": 0.024653,
     "end_time": "2022-03-23T21:27:51.940207",
     "exception": false,
     "start_time": "2022-03-23T21:27:51.915554",
     "status": "completed"
    },
    "tags": []
   },
   "outputs": [],
   "source": [
    "# define generator\n",
    "n_input = 1\n",
    "n_features = 4\n",
    "generator = TimeseriesGenerator(scaled_train, scaled_train, length=n_input, batch_size=1)"
   ]
  },
  {
   "cell_type": "code",
   "execution_count": 7,
   "id": "c993c2a2",
   "metadata": {
    "execution": {
     "iopub.execute_input": "2022-03-23T21:27:51.979431Z",
     "iopub.status.busy": "2022-03-23T21:27:51.978615Z",
     "iopub.status.idle": "2022-03-23T21:27:51.984479Z",
     "shell.execute_reply": "2022-03-23T21:27:51.985318Z",
     "shell.execute_reply.started": "2022-03-23T21:26:12.834790Z"
    },
    "papermill": {
     "duration": 0.029093,
     "end_time": "2022-03-23T21:27:51.985579",
     "exception": false,
     "start_time": "2022-03-23T21:27:51.956486",
     "status": "completed"
    },
    "tags": []
   },
   "outputs": [
    {
     "name": "stdout",
     "output_type": "stream",
     "text": [
      "Given the Array: \n",
      "[0.20343634 0.19884725 0.20477074 0.17900135]\n",
      "Predict this y: \n",
      " [[0.19564094 0.19620228 0.2072689  0.18361971]]\n"
     ]
    }
   ],
   "source": [
    "X,y = generator[0]\n",
    "print(f'Given the Array: \\n{X.flatten()}')\n",
    "print(f'Predict this y: \\n {y}')"
   ]
  },
  {
   "cell_type": "code",
   "execution_count": 8,
   "id": "0379cbaa",
   "metadata": {
    "execution": {
     "iopub.execute_input": "2022-03-23T21:27:52.024181Z",
     "iopub.status.busy": "2022-03-23T21:27:52.022282Z",
     "iopub.status.idle": "2022-03-23T21:27:52.027300Z",
     "shell.execute_reply": "2022-03-23T21:27:52.026753Z",
     "shell.execute_reply.started": "2022-03-23T21:26:12.849472Z"
    },
    "papermill": {
     "duration": 0.024746,
     "end_time": "2022-03-23T21:27:52.027443",
     "exception": false,
     "start_time": "2022-03-23T21:27:52.002697",
     "status": "completed"
    },
    "tags": []
   },
   "outputs": [],
   "source": [
    "from keras.models import Sequential\n",
    "from keras.layers import Dense\n",
    "from keras.layers import LSTM"
   ]
  },
  {
   "cell_type": "code",
   "execution_count": 9,
   "id": "b7006603",
   "metadata": {
    "execution": {
     "iopub.execute_input": "2022-03-23T21:27:52.065976Z",
     "iopub.status.busy": "2022-03-23T21:27:52.065197Z",
     "iopub.status.idle": "2022-03-23T21:27:55.360659Z",
     "shell.execute_reply": "2022-03-23T21:27:55.361203Z",
     "shell.execute_reply.started": "2022-03-23T21:26:12.855399Z"
    },
    "papermill": {
     "duration": 3.317703,
     "end_time": "2022-03-23T21:27:55.361419",
     "exception": false,
     "start_time": "2022-03-23T21:27:52.043716",
     "status": "completed"
    },
    "tags": []
   },
   "outputs": [
    {
     "name": "stderr",
     "output_type": "stream",
     "text": [
      "2022-03-23 21:27:52.148590: I tensorflow/stream_executor/cuda/cuda_gpu_executor.cc:937] successful NUMA node read from SysFS had negative value (-1), but there must be at least one NUMA node, so returning NUMA node zero\n",
      "2022-03-23 21:27:52.277477: I tensorflow/stream_executor/cuda/cuda_gpu_executor.cc:937] successful NUMA node read from SysFS had negative value (-1), but there must be at least one NUMA node, so returning NUMA node zero\n",
      "2022-03-23 21:27:52.278639: I tensorflow/stream_executor/cuda/cuda_gpu_executor.cc:937] successful NUMA node read from SysFS had negative value (-1), but there must be at least one NUMA node, so returning NUMA node zero\n",
      "2022-03-23 21:27:52.280988: I tensorflow/core/platform/cpu_feature_guard.cc:142] This TensorFlow binary is optimized with oneAPI Deep Neural Network Library (oneDNN) to use the following CPU instructions in performance-critical operations:  AVX2 FMA\n",
      "To enable them in other operations, rebuild TensorFlow with the appropriate compiler flags.\n",
      "2022-03-23 21:27:52.282112: I tensorflow/stream_executor/cuda/cuda_gpu_executor.cc:937] successful NUMA node read from SysFS had negative value (-1), but there must be at least one NUMA node, so returning NUMA node zero\n",
      "2022-03-23 21:27:52.283122: I tensorflow/stream_executor/cuda/cuda_gpu_executor.cc:937] successful NUMA node read from SysFS had negative value (-1), but there must be at least one NUMA node, so returning NUMA node zero\n",
      "2022-03-23 21:27:52.284140: I tensorflow/stream_executor/cuda/cuda_gpu_executor.cc:937] successful NUMA node read from SysFS had negative value (-1), but there must be at least one NUMA node, so returning NUMA node zero\n",
      "2022-03-23 21:27:54.746160: I tensorflow/stream_executor/cuda/cuda_gpu_executor.cc:937] successful NUMA node read from SysFS had negative value (-1), but there must be at least one NUMA node, so returning NUMA node zero\n",
      "2022-03-23 21:27:54.747524: I tensorflow/stream_executor/cuda/cuda_gpu_executor.cc:937] successful NUMA node read from SysFS had negative value (-1), but there must be at least one NUMA node, so returning NUMA node zero\n",
      "2022-03-23 21:27:54.748833: I tensorflow/stream_executor/cuda/cuda_gpu_executor.cc:937] successful NUMA node read from SysFS had negative value (-1), but there must be at least one NUMA node, so returning NUMA node zero\n",
      "2022-03-23 21:27:54.749934: I tensorflow/core/common_runtime/gpu/gpu_device.cc:1510] Created device /job:localhost/replica:0/task:0/device:GPU:0 with 15403 MB memory:  -> device: 0, name: Tesla P100-PCIE-16GB, pci bus id: 0000:00:04.0, compute capability: 6.0\n"
     ]
    }
   ],
   "source": [
    "# define model\n",
    "model = Sequential()\n",
    "model.add(LSTM(80, activation='relu', input_shape=(n_input, n_features),return_sequences=True))\n",
    "model.add(Dense(4))\n",
    "model.compile(optimizer='adam', loss='mse')"
   ]
  },
  {
   "cell_type": "code",
   "execution_count": 10,
   "id": "ae78ec23",
   "metadata": {
    "execution": {
     "iopub.execute_input": "2022-03-23T21:27:55.402346Z",
     "iopub.status.busy": "2022-03-23T21:27:55.401297Z",
     "iopub.status.idle": "2022-03-23T21:29:00.350068Z",
     "shell.execute_reply": "2022-03-23T21:29:00.349264Z",
     "shell.execute_reply.started": "2022-03-23T21:26:15.342942Z"
    },
    "papermill": {
     "duration": 64.969255,
     "end_time": "2022-03-23T21:29:00.350268",
     "exception": false,
     "start_time": "2022-03-23T21:27:55.381013",
     "status": "completed"
    },
    "tags": []
   },
   "outputs": [
    {
     "name": "stderr",
     "output_type": "stream",
     "text": [
      "2022-03-23 21:27:55.468214: I tensorflow/compiler/mlir/mlir_graph_optimization_pass.cc:185] None of the MLIR Optimization Passes are enabled (registered 2)\n"
     ]
    },
    {
     "name": "stdout",
     "output_type": "stream",
     "text": [
      "Epoch 1/10\n",
      "799/799 [==============================] - 8s 7ms/step - loss: 0.0220\n",
      "Epoch 2/10\n",
      "799/799 [==============================] - 7s 9ms/step - loss: 2.8879e-04\n",
      "Epoch 3/10\n",
      "799/799 [==============================] - 6s 7ms/step - loss: 2.6541e-04\n",
      "Epoch 4/10\n",
      "799/799 [==============================] - 6s 7ms/step - loss: 2.8347e-04\n",
      "Epoch 5/10\n",
      "799/799 [==============================] - 7s 8ms/step - loss: 2.9108e-04\n",
      "Epoch 6/10\n",
      "799/799 [==============================] - 6s 7ms/step - loss: 2.8523e-04\n",
      "Epoch 7/10\n",
      "799/799 [==============================] - 6s 8ms/step - loss: 2.9054e-04\n",
      "Epoch 8/10\n",
      "799/799 [==============================] - 6s 8ms/step - loss: 2.8328e-04\n",
      "Epoch 9/10\n",
      "799/799 [==============================] - 6s 8ms/step - loss: 2.7747e-04\n",
      "Epoch 10/10\n",
      "799/799 [==============================] - 6s 8ms/step - loss: 2.6837e-04\n"
     ]
    },
    {
     "data": {
      "text/plain": [
       "<keras.callbacks.History at 0x7fab57532850>"
      ]
     },
     "execution_count": 10,
     "metadata": {},
     "output_type": "execute_result"
    }
   ],
   "source": [
    "# fit model\n",
    "model.fit(generator,epochs=10)"
   ]
  },
  {
   "cell_type": "code",
   "execution_count": 11,
   "id": "001a512d",
   "metadata": {
    "execution": {
     "iopub.execute_input": "2022-03-23T21:29:01.704835Z",
     "iopub.status.busy": "2022-03-23T21:29:01.703903Z",
     "iopub.status.idle": "2022-03-23T21:29:02.172323Z",
     "shell.execute_reply": "2022-03-23T21:29:02.173379Z",
     "shell.execute_reply.started": "2022-03-23T21:26:58.032044Z"
    },
    "papermill": {
     "duration": 1.01367,
     "end_time": "2022-03-23T21:29:02.173659",
     "exception": false,
     "start_time": "2022-03-23T21:29:01.159989",
     "status": "completed"
    },
    "tags": []
   },
   "outputs": [
    {
     "name": "stdout",
     "output_type": "stream",
     "text": [
      "[[0.8616729  0.8632195  0.86837333 0.85918885]]\n",
      "[[1345.5021 1361.2606 1328.4146 1339.5172]]\n",
      "{'clip': False, 'copy': True, 'feature_range': (0, 1)}\n"
     ]
    }
   ],
   "source": [
    "first_eval_batch = scaled_train[-n_input:]\n",
    "current_batch = first_eval_batch.reshape((1, n_input, n_features))\n",
    "current_pred = model.predict(current_batch)[0]\n",
    "print(current_pred)\n",
    "fin_pred = scaler.inverse_transform(current_pred)\n",
    "print(fin_pred)\n",
    "print(scaler.get_params(deep=True))"
   ]
  },
  {
   "cell_type": "code",
   "execution_count": 12,
   "id": "17cef9de",
   "metadata": {
    "execution": {
     "iopub.execute_input": "2022-03-23T21:29:03.149115Z",
     "iopub.status.busy": "2022-03-23T21:29:03.148022Z",
     "iopub.status.idle": "2022-03-23T21:29:03.173837Z",
     "shell.execute_reply": "2022-03-23T21:29:03.172704Z",
     "shell.execute_reply.started": "2022-03-23T21:26:58.414507Z"
    },
    "papermill": {
     "duration": 0.519538,
     "end_time": "2022-03-23T21:29:03.173989",
     "exception": false,
     "start_time": "2022-03-23T21:29:02.654451",
     "status": "completed"
    },
    "tags": []
   },
   "outputs": [],
   "source": [
    "model.save(\"TATASTEEL_model.h5\")"
   ]
  }
 ],
 "metadata": {
  "kernelspec": {
   "display_name": "Python 3",
   "language": "python",
   "name": "python3"
  },
  "language_info": {
   "codemirror_mode": {
    "name": "ipython",
    "version": 3
   },
   "file_extension": ".py",
   "mimetype": "text/x-python",
   "name": "python",
   "nbconvert_exporter": "python",
   "pygments_lexer": "ipython3",
   "version": "3.7.12"
  },
  "papermill": {
   "default_parameters": {},
   "duration": 92.72458,
   "end_time": "2022-03-23T21:29:06.426084",
   "environment_variables": {},
   "exception": null,
   "input_path": "__notebook__.ipynb",
   "output_path": "__notebook__.ipynb",
   "parameters": {},
   "start_time": "2022-03-23T21:27:33.701504",
   "version": "2.3.3"
  }
 },
 "nbformat": 4,
 "nbformat_minor": 5
}
