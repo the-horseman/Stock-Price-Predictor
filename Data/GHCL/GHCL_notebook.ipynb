{
 "cells": [
  {
   "cell_type": "code",
   "execution_count": 1,
   "id": "98df131f",
   "metadata": {
    "_cell_guid": "b1076dfc-b9ad-4769-8c92-a6c4dae69d19",
    "_uuid": "8f2839f25d086af736a60e9eeb907d3b93b6e0e5",
    "execution": {
     "iopub.execute_input": "2022-03-23T20:31:55.288683Z",
     "iopub.status.busy": "2022-03-23T20:31:55.287961Z",
     "iopub.status.idle": "2022-03-23T20:31:56.608595Z",
     "shell.execute_reply": "2022-03-23T20:31:56.609778Z",
     "shell.execute_reply.started": "2022-03-23T20:28:02.189204Z"
    },
    "papermill": {
     "duration": 1.343815,
     "end_time": "2022-03-23T20:31:56.610158",
     "exception": false,
     "start_time": "2022-03-23T20:31:55.266343",
     "status": "completed"
    },
    "tags": []
   },
   "outputs": [],
   "source": [
    "import pandas as pd\n",
    "import numpy as np\n",
    "import matplotlib.pyplot as plt\n",
    "import statsmodels.api as sm\n",
    "import joblib"
   ]
  },
  {
   "cell_type": "code",
   "execution_count": 2,
   "id": "b4023f34",
   "metadata": {
    "execution": {
     "iopub.execute_input": "2022-03-23T20:31:56.644854Z",
     "iopub.status.busy": "2022-03-23T20:31:56.644242Z",
     "iopub.status.idle": "2022-03-23T20:31:56.889609Z",
     "shell.execute_reply": "2022-03-23T20:31:56.890094Z",
     "shell.execute_reply.started": "2022-03-23T20:28:03.600514Z"
    },
    "papermill": {
     "duration": 0.262406,
     "end_time": "2022-03-23T20:31:56.890262",
     "exception": false,
     "start_time": "2022-03-23T20:31:56.627856",
     "status": "completed"
    },
    "tags": []
   },
   "outputs": [
    {
     "name": "stderr",
     "output_type": "stream",
     "text": [
      "/opt/conda/lib/python3.7/site-packages/statsmodels/graphics/tsaplots.py:353: FutureWarning: The default method 'yw' can produce PACF values outside of the [-1,1] interval. After 0.13, the default will change tounadjusted Yule-Walker ('ywm'). You can use this method now by setting method='ywm'.\n",
      "  FutureWarning,\n"
     ]
    },
    {
     "data": {
      "image/png": "[encoded data removed]",
      "text/plain": [
       "<Figure size 432x288 with 1 Axes>"
      ]
     },
     "metadata": {
      "needs_background": "light"
     },
     "output_type": "display_data"
    }
   ],
   "source": [
    "df = pd.read_csv(\"../input/stockpricepredictons/GHCL.NS.csv\", usecols=[\"Date\", \"Open\", \"Adj Close\", \"High\", \"Low\"], index_col='Date',parse_dates=True)\n",
    "df = df.iloc[-800::]\n",
    "sm.graphics.tsa.plot_pacf(df[\"Open\"], lags=10)\n",
    "plt.show()"
   ]
  },
  {
   "cell_type": "code",
   "execution_count": 3,
   "id": "c5c85817",
   "metadata": {
    "execution": {
     "iopub.execute_input": "2022-03-23T20:31:56.921959Z",
     "iopub.status.busy": "2022-03-23T20:31:56.921219Z",
     "iopub.status.idle": "2022-03-23T20:31:56.923262Z",
     "shell.execute_reply": "2022-03-23T20:31:56.923683Z",
     "shell.execute_reply.started": "2022-03-23T20:28:03.862037Z"
    },
    "papermill": {
     "duration": 0.018439,
     "end_time": "2022-03-23T20:31:56.923818",
     "exception": false,
     "start_time": "2022-03-23T20:31:56.905379",
     "status": "completed"
    },
    "tags": []
   },
   "outputs": [],
   "source": [
    "train = df"
   ]
  },
  {
   "cell_type": "code",
   "execution_count": 4,
   "id": "4376fb62",
   "metadata": {
    "execution": {
     "iopub.execute_input": "2022-03-23T20:31:56.952476Z",
     "iopub.status.busy": "2022-03-23T20:31:56.951834Z",
     "iopub.status.idle": "2022-03-23T20:31:57.010646Z",
     "shell.execute_reply": "2022-03-23T20:31:57.010136Z",
     "shell.execute_reply.started": "2022-03-23T20:28:03.869509Z"
    },
    "papermill": {
     "duration": 0.074751,
     "end_time": "2022-03-23T20:31:57.010757",
     "exception": false,
     "start_time": "2022-03-23T20:31:56.936006",
     "status": "completed"
    },
    "tags": []
   },
   "outputs": [
    {
     "data": {
      "text/plain": [
       "['GHCL_scaler.pkl']"
      ]
     },
     "execution_count": 4,
     "metadata": {},
     "output_type": "execute_result"
    }
   ],
   "source": [
    "from sklearn.preprocessing import MinMaxScaler\n",
    "scaler = MinMaxScaler()\n",
    "\n",
    "scaler.fit(train)\n",
    "scaled_train = scaler.transform(train)\n",
    "joblib.dump(scaler, 'GHCL_scaler.pkl') "
   ]
  },
  {
   "cell_type": "code",
   "execution_count": 5,
   "id": "e3074d60",
   "metadata": {
    "execution": {
     "iopub.execute_input": "2022-03-23T20:31:57.039884Z",
     "iopub.status.busy": "2022-03-23T20:31:57.039146Z",
     "iopub.status.idle": "2022-03-23T20:32:01.254267Z",
     "shell.execute_reply": "2022-03-23T20:32:01.253801Z",
     "shell.execute_reply.started": "2022-03-23T20:28:03.944237Z"
    },
    "papermill": {
     "duration": 4.231122,
     "end_time": "2022-03-23T20:32:01.254434",
     "exception": false,
     "start_time": "2022-03-23T20:31:57.023312",
     "status": "completed"
    },
    "tags": []
   },
   "outputs": [],
   "source": [
    "from keras.preprocessing.sequence import TimeseriesGenerator"
   ]
  },
  {
   "cell_type": "code",
   "execution_count": 6,
   "id": "8a52f8ae",
   "metadata": {
    "execution": {
     "iopub.execute_input": "2022-03-23T20:32:01.284809Z",
     "iopub.status.busy": "2022-03-23T20:32:01.283291Z",
     "iopub.status.idle": "2022-03-23T20:32:01.285424Z",
     "shell.execute_reply": "2022-03-23T20:32:01.285824Z",
     "shell.execute_reply.started": "2022-03-23T20:28:08.516780Z"
    },
    "papermill": {
     "duration": 0.01894,
     "end_time": "2022-03-23T20:32:01.285950",
     "exception": false,
     "start_time": "2022-03-23T20:32:01.267010",
     "status": "completed"
    },
    "tags": []
   },
   "outputs": [],
   "source": [
    "# define generator\n",
    "n_input = 1\n",
    "n_features = 4\n",
    "generator = TimeseriesGenerator(scaled_train, scaled_train, length=n_input, batch_size=1)"
   ]
  },
  {
   "cell_type": "code",
   "execution_count": 7,
   "id": "e1e3e4ca",
   "metadata": {
    "execution": {
     "iopub.execute_input": "2022-03-23T20:32:01.315536Z",
     "iopub.status.busy": "2022-03-23T20:32:01.315008Z",
     "iopub.status.idle": "2022-03-23T20:32:01.319269Z",
     "shell.execute_reply": "2022-03-23T20:32:01.319704Z",
     "shell.execute_reply.started": "2022-03-23T20:28:08.523885Z"
    },
    "papermill": {
     "duration": 0.021565,
     "end_time": "2022-03-23T20:32:01.319830",
     "exception": false,
     "start_time": "2022-03-23T20:32:01.298265",
     "status": "completed"
    },
    "tags": []
   },
   "outputs": [
    {
     "name": "stdout",
     "output_type": "stream",
     "text": [
      "Given the Array: \n",
      "[0.33448103 0.33084948 0.34796732 0.30181794]\n",
      "Predict this y: \n",
      " [[0.33093673 0.33343269 0.35194886 0.30999964]]\n"
     ]
    }
   ],
   "source": [
    "X,y = generator[0]\n",
    "print(f'Given the Array: \\n{X.flatten()}')\n",
    "print(f'Predict this y: \\n {y}')"
   ]
  },
  {
   "cell_type": "code",
   "execution_count": 8,
   "id": "14b36424",
   "metadata": {
    "execution": {
     "iopub.execute_input": "2022-03-23T20:32:01.349024Z",
     "iopub.status.busy": "2022-03-23T20:32:01.348440Z",
     "iopub.status.idle": "2022-03-23T20:32:01.350720Z",
     "shell.execute_reply": "2022-03-23T20:32:01.351158Z",
     "shell.execute_reply.started": "2022-03-23T20:28:08.536242Z"
    },
    "papermill": {
     "duration": 0.018588,
     "end_time": "2022-03-23T20:32:01.351269",
     "exception": false,
     "start_time": "2022-03-23T20:32:01.332681",
     "status": "completed"
    },
    "tags": []
   },
   "outputs": [],
   "source": [
    "from keras.models import Sequential\n",
    "from keras.layers import Dense\n",
    "from keras.layers import LSTM"
   ]
  },
  {
   "cell_type": "code",
   "execution_count": 9,
   "id": "6ad93d8a",
   "metadata": {
    "execution": {
     "iopub.execute_input": "2022-03-23T20:32:01.380699Z",
     "iopub.status.busy": "2022-03-23T20:32:01.379993Z",
     "iopub.status.idle": "2022-03-23T20:32:03.608674Z",
     "shell.execute_reply": "2022-03-23T20:32:03.608040Z",
     "shell.execute_reply.started": "2022-03-23T20:28:08.542781Z"
    },
    "papermill": {
     "duration": 2.245066,
     "end_time": "2022-03-23T20:32:03.608834",
     "exception": false,
     "start_time": "2022-03-23T20:32:01.363768",
     "status": "completed"
    },
    "tags": []
   },
   "outputs": [
    {
     "name": "stderr",
     "output_type": "stream",
     "text": [
      "2022-03-23 20:32:01.442657: I tensorflow/stream_executor/cuda/cuda_gpu_executor.cc:937] successful NUMA node read from SysFS had negative value (-1), but there must be at least one NUMA node, so returning NUMA node zero\n",
      "2022-03-23 20:32:01.527312: I tensorflow/stream_executor/cuda/cuda_gpu_executor.cc:937] successful NUMA node read from SysFS had negative value (-1), but there must be at least one NUMA node, so returning NUMA node zero\n",
      "2022-03-23 20:32:01.528016: I tensorflow/stream_executor/cuda/cuda_gpu_executor.cc:937] successful NUMA node read from SysFS had negative value (-1), but there must be at least one NUMA node, so returning NUMA node zero\n",
      "2022-03-23 20:32:01.529723: I tensorflow/core/platform/cpu_feature_guard.cc:142] This TensorFlow binary is optimized with oneAPI Deep Neural Network Library (oneDNN) to use the following CPU instructions in performance-critical operations:  AVX2 AVX512F FMA\n",
      "To enable them in other operations, rebuild TensorFlow with the appropriate compiler flags.\n",
      "2022-03-23 20:32:01.530552: I tensorflow/stream_executor/cuda/cuda_gpu_executor.cc:937] successful NUMA node read from SysFS had negative value (-1), but there must be at least one NUMA node, so returning NUMA node zero\n",
      "2022-03-23 20:32:01.531522: I tensorflow/stream_executor/cuda/cuda_gpu_executor.cc:937] successful NUMA node read from SysFS had negative value (-1), but there must be at least one NUMA node, so returning NUMA node zero\n",
      "2022-03-23 20:32:01.532418: I tensorflow/stream_executor/cuda/cuda_gpu_executor.cc:937] successful NUMA node read from SysFS had negative value (-1), but there must be at least one NUMA node, so returning NUMA node zero\n",
      "2022-03-23 20:32:03.151229: I tensorflow/stream_executor/cuda/cuda_gpu_executor.cc:937] successful NUMA node read from SysFS had negative value (-1), but there must be at least one NUMA node, so returning NUMA node zero\n",
      "2022-03-23 20:32:03.152077: I tensorflow/stream_executor/cuda/cuda_gpu_executor.cc:937] successful NUMA node read from SysFS had negative value (-1), but there must be at least one NUMA node, so returning NUMA node zero\n",
      "2022-03-23 20:32:03.152772: I tensorflow/stream_executor/cuda/cuda_gpu_executor.cc:937] successful NUMA node read from SysFS had negative value (-1), but there must be at least one NUMA node, so returning NUMA node zero\n",
      "2022-03-23 20:32:03.153360: I tensorflow/core/common_runtime/gpu/gpu_device.cc:1510] Created device /job:localhost/replica:0/task:0/device:GPU:0 with 15403 MB memory:  -> device: 0, name: Tesla P100-PCIE-16GB, pci bus id: 0000:00:04.0, compute capability: 6.0\n"
     ]
    }
   ],
   "source": [
    "# define model\n",
    "model = Sequential()\n",
    "model.add(LSTM(50, activation='relu', input_shape=(n_input, n_features),return_sequences=True))\n",
    "model.add(Dense(4))\n",
    "model.compile(optimizer='adam', loss='mse')"
   ]
  },
  {
   "cell_type": "code",
   "execution_count": 10,
   "id": "9490745e",
   "metadata": {
    "execution": {
     "iopub.execute_input": "2022-03-23T20:32:03.641930Z",
     "iopub.status.busy": "2022-03-23T20:32:03.641157Z",
     "iopub.status.idle": "2022-03-23T20:32:47.326692Z",
     "shell.execute_reply": "2022-03-23T20:32:47.326243Z",
     "shell.execute_reply.started": "2022-03-23T20:28:11.137541Z"
    },
    "papermill": {
     "duration": 43.70333,
     "end_time": "2022-03-23T20:32:47.326837",
     "exception": false,
     "start_time": "2022-03-23T20:32:03.623507",
     "status": "completed"
    },
    "tags": []
   },
   "outputs": [
    {
     "name": "stderr",
     "output_type": "stream",
     "text": [
      "2022-03-23 20:32:03.691054: I tensorflow/compiler/mlir/mlir_graph_optimization_pass.cc:185] None of the MLIR Optimization Passes are enabled (registered 2)\n"
     ]
    },
    {
     "name": "stdout",
     "output_type": "stream",
     "text": [
      "Epoch 1/10\n",
      "799/799 [==============================] - 6s 6ms/step - loss: 0.0129\n",
      "Epoch 2/10\n",
      "799/799 [==============================] - 4s 5ms/step - loss: 2.6549e-04\n",
      "Epoch 3/10\n",
      "799/799 [==============================] - 4s 5ms/step - loss: 2.5939e-04\n",
      "Epoch 4/10\n",
      "799/799 [==============================] - 4s 5ms/step - loss: 2.5380e-04\n",
      "Epoch 5/10\n",
      "799/799 [==============================] - 4s 5ms/step - loss: 2.5465e-04\n",
      "Epoch 6/10\n",
      "799/799 [==============================] - 4s 5ms/step - loss: 2.6774e-04\n",
      "Epoch 7/10\n",
      "799/799 [==============================] - 4s 5ms/step - loss: 2.7382e-04\n",
      "Epoch 8/10\n",
      "799/799 [==============================] - 4s 5ms/step - loss: 2.6773e-04\n",
      "Epoch 9/10\n",
      "799/799 [==============================] - 5s 6ms/step - loss: 2.5579e-04\n",
      "Epoch 10/10\n",
      "799/799 [==============================] - 4s 5ms/step - loss: 2.4718e-04\n"
     ]
    },
    {
     "data": {
      "text/plain": [
       "<keras.callbacks.History at 0x7f79535b7b10>"
      ]
     },
     "execution_count": 10,
     "metadata": {},
     "output_type": "execute_result"
    }
   ],
   "source": [
    "# fit model\n",
    "model.fit(generator,epochs=10)"
   ]
  },
  {
   "cell_type": "code",
   "execution_count": 11,
   "id": "b3c3a683",
   "metadata": {
    "execution": {
     "iopub.execute_input": "2022-03-23T20:32:47.857907Z",
     "iopub.status.busy": "2022-03-23T20:32:47.857035Z",
     "iopub.status.idle": "2022-03-23T20:32:48.235126Z",
     "shell.execute_reply": "2022-03-23T20:32:48.235602Z",
     "shell.execute_reply.started": "2022-03-23T20:28:53.130350Z"
    },
    "papermill": {
     "duration": 0.648335,
     "end_time": "2022-03-23T20:32:48.235753",
     "exception": false,
     "start_time": "2022-03-23T20:32:47.587418",
     "status": "completed"
    },
    "tags": []
   },
   "outputs": [
    {
     "name": "stdout",
     "output_type": "stream",
     "text": [
      "[[1.0180906 1.0139455 1.0213649 1.0477716]]\n",
      "[[576.2822  585.26807 556.4454  580.51996]]\n",
      "{'clip': False, 'copy': True, 'feature_range': (0, 1)}\n"
     ]
    }
   ],
   "source": [
    "first_eval_batch = scaled_train[-n_input:]\n",
    "current_batch = first_eval_batch.reshape((1, n_input, n_features))\n",
    "current_pred = model.predict(current_batch)[0]\n",
    "print(current_pred)\n",
    "fin_pred = scaler.inverse_transform(current_pred)\n",
    "print(fin_pred)\n",
    "print(scaler.get_params(deep=True))"
   ]
  },
  {
   "cell_type": "code",
   "execution_count": 12,
   "id": "a789ded9",
   "metadata": {
    "execution": {
     "iopub.execute_input": "2022-03-23T20:32:48.768733Z",
     "iopub.status.busy": "2022-03-23T20:32:48.766863Z",
     "iopub.status.idle": "2022-03-23T20:32:48.787259Z",
     "shell.execute_reply": "2022-03-23T20:32:48.786852Z",
     "shell.execute_reply.started": "2022-03-23T20:28:53.506100Z"
    },
    "papermill": {
     "duration": 0.289353,
     "end_time": "2022-03-23T20:32:48.787400",
     "exception": false,
     "start_time": "2022-03-23T20:32:48.498047",
     "status": "completed"
    },
    "tags": []
   },
   "outputs": [],
   "source": [
    "model.save(\"GHCL_model.h5\")"
   ]
  }
 ],
 "metadata": {
  "kernelspec": {
   "display_name": "Python 3",
   "language": "python",
   "name": "python3"
  },
  "language_info": {
   "codemirror_mode": {
    "name": "ipython",
    "version": 3
   },
   "file_extension": ".py",
   "mimetype": "text/x-python",
   "name": "python",
   "nbconvert_exporter": "python",
   "pygments_lexer": "ipython3",
   "version": "3.7.12"
  },
  "papermill": {
   "default_parameters": {},
   "duration": 65.434334,
   "end_time": "2022-03-23T20:32:52.714080",
   "environment_variables": {},
   "exception": null,
   "input_path": "__notebook__.ipynb",
   "output_path": "__notebook__.ipynb",
   "parameters": {},
   "start_time": "2022-03-23T20:31:47.279746",
   "version": "2.3.3"
  }
 },
 "nbformat": 4,
 "nbformat_minor": 5
}
