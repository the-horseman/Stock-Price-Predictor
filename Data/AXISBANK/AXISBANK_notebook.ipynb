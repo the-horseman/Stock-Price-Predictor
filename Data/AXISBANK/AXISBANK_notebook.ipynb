{
 "cells": [
  {
   "cell_type": "code",
   "execution_count": 1,
   "id": "27761835",
   "metadata": {
    "_cell_guid": "b1076dfc-b9ad-4769-8c92-a6c4dae69d19",
    "_uuid": "8f2839f25d086af736a60e9eeb907d3b93b6e0e5",
    "execution": {
     "iopub.execute_input": "2022-03-23T16:52:46.265054Z",
     "iopub.status.busy": "2022-03-23T16:52:46.264400Z",
     "iopub.status.idle": "2022-03-23T16:52:47.757798Z",
     "shell.execute_reply": "2022-03-23T16:52:47.757171Z",
     "shell.execute_reply.started": "2022-03-23T15:11:25.071593Z"
    },
    "papermill": {
     "duration": 1.517807,
     "end_time": "2022-03-23T16:52:47.757970",
     "exception": false,
     "start_time": "2022-03-23T16:52:46.240163",
     "status": "completed"
    },
    "tags": []
   },
   "outputs": [],
   "source": [
    "import pandas as pd\n",
    "import numpy as np\n",
    "import matplotlib.pyplot as plt\n",
    "import statsmodels.api as sm\n",
    "import joblib"
   ]
  },
  {
   "cell_type": "code",
   "execution_count": 2,
   "id": "ef3a342a",
   "metadata": {
    "execution": {
     "iopub.execute_input": "2022-03-23T16:52:47.791372Z",
     "iopub.status.busy": "2022-03-23T16:52:47.790636Z",
     "iopub.status.idle": "2022-03-23T16:52:48.126790Z",
     "shell.execute_reply": "2022-03-23T16:52:48.127309Z",
     "shell.execute_reply.started": "2022-03-23T15:11:26.372857Z"
    },
    "papermill": {
     "duration": 0.35554,
     "end_time": "2022-03-23T16:52:48.127466",
     "exception": false,
     "start_time": "2022-03-23T16:52:47.771926",
     "status": "completed"
    },
    "tags": []
   },
   "outputs": [
    {
     "name": "stderr",
     "output_type": "stream",
     "text": [
      "/opt/conda/lib/python3.7/site-packages/statsmodels/graphics/tsaplots.py:353: FutureWarning: The default method 'yw' can produce PACF values outside of the [-1,1] interval. After 0.13, the default will change tounadjusted Yule-Walker ('ywm'). You can use this method now by setting method='ywm'.\n",
      "  FutureWarning,\n"
     ]
    },
    {
     "data": {
      "image/png": "[encoded data removed]",
      "text/plain": [
       "<Figure size 432x288 with 1 Axes>"
      ]
     },
     "metadata": {
      "needs_background": "light"
     },
     "output_type": "display_data"
    }
   ],
   "source": [
    "df = pd.read_csv(\"../input/stockpricepredictons/AXISBANK.NS.csv\", usecols=[\"Date\", \"Open\", \"Adj Close\", \"High\", \"Low\"], index_col='Date',parse_dates=True)\n",
    "df = df.iloc[-800::]\n",
    "sm.graphics.tsa.plot_pacf(df[\"Open\"], lags=10)\n",
    "plt.show()"
   ]
  },
  {
   "cell_type": "code",
   "execution_count": 3,
   "id": "cc2300f5",
   "metadata": {
    "execution": {
     "iopub.execute_input": "2022-03-23T16:52:48.176454Z",
     "iopub.status.busy": "2022-03-23T16:52:48.175598Z",
     "iopub.status.idle": "2022-03-23T16:52:48.178075Z",
     "shell.execute_reply": "2022-03-23T16:52:48.178780Z",
     "shell.execute_reply.started": "2022-03-23T15:11:26.679927Z"
    },
    "papermill": {
     "duration": 0.031093,
     "end_time": "2022-03-23T16:52:48.179076",
     "exception": false,
     "start_time": "2022-03-23T16:52:48.147983",
     "status": "completed"
    },
    "tags": []
   },
   "outputs": [],
   "source": [
    "train = df"
   ]
  },
  {
   "cell_type": "code",
   "execution_count": 4,
   "id": "7d455df8",
   "metadata": {
    "execution": {
     "iopub.execute_input": "2022-03-23T16:52:48.232811Z",
     "iopub.status.busy": "2022-03-23T16:52:48.232082Z",
     "iopub.status.idle": "2022-03-23T16:52:48.317776Z",
     "shell.execute_reply": "2022-03-23T16:52:48.318517Z",
     "shell.execute_reply.started": "2022-03-23T15:11:26.690209Z"
    },
    "papermill": {
     "duration": 0.114178,
     "end_time": "2022-03-23T16:52:48.318684",
     "exception": false,
     "start_time": "2022-03-23T16:52:48.204506",
     "status": "completed"
    },
    "tags": []
   },
   "outputs": [
    {
     "data": {
      "text/plain": [
       "['AXISBANK_scaler.pkl']"
      ]
     },
     "execution_count": 4,
     "metadata": {},
     "output_type": "execute_result"
    }
   ],
   "source": [
    "from sklearn.preprocessing import MinMaxScaler\n",
    "scaler = MinMaxScaler()\n",
    "\n",
    "scaler.fit(train)\n",
    "scaled_train = scaler.transform(train)\n",
    "joblib.dump(scaler, 'AXISBANK_scaler.pkl') "
   ]
  },
  {
   "cell_type": "code",
   "execution_count": 5,
   "id": "5abe5b5c",
   "metadata": {
    "execution": {
     "iopub.execute_input": "2022-03-23T16:52:48.364224Z",
     "iopub.status.busy": "2022-03-23T16:52:48.363569Z",
     "iopub.status.idle": "2022-03-23T16:52:52.814134Z",
     "shell.execute_reply": "2022-03-23T16:52:52.813552Z",
     "shell.execute_reply.started": "2022-03-23T15:11:26.776545Z"
    },
    "papermill": {
     "duration": 4.474927,
     "end_time": "2022-03-23T16:52:52.814284",
     "exception": false,
     "start_time": "2022-03-23T16:52:48.339357",
     "status": "completed"
    },
    "tags": []
   },
   "outputs": [],
   "source": [
    "from keras.preprocessing.sequence import TimeseriesGenerator"
   ]
  },
  {
   "cell_type": "code",
   "execution_count": 6,
   "id": "1d13e41f",
   "metadata": {
    "execution": {
     "iopub.execute_input": "2022-03-23T16:52:52.844735Z",
     "iopub.status.busy": "2022-03-23T16:52:52.844198Z",
     "iopub.status.idle": "2022-03-23T16:52:52.847659Z",
     "shell.execute_reply": "2022-03-23T16:52:52.847173Z",
     "shell.execute_reply.started": "2022-03-23T15:11:26.784753Z"
    },
    "papermill": {
     "duration": 0.020371,
     "end_time": "2022-03-23T16:52:52.847810",
     "exception": false,
     "start_time": "2022-03-23T16:52:52.827439",
     "status": "completed"
    },
    "tags": []
   },
   "outputs": [],
   "source": [
    "# define generator\n",
    "n_input = 1\n",
    "n_features = 4\n",
    "generator = TimeseriesGenerator(scaled_train, scaled_train, length=n_input, batch_size=1)"
   ]
  },
  {
   "cell_type": "code",
   "execution_count": 7,
   "id": "867d617e",
   "metadata": {
    "execution": {
     "iopub.execute_input": "2022-03-23T16:52:52.878568Z",
     "iopub.status.busy": "2022-03-23T16:52:52.878041Z",
     "iopub.status.idle": "2022-03-23T16:52:52.882626Z",
     "shell.execute_reply": "2022-03-23T16:52:52.883198Z",
     "shell.execute_reply.started": "2022-03-23T15:11:26.795251Z"
    },
    "papermill": {
     "duration": 0.022914,
     "end_time": "2022-03-23T16:52:52.883362",
     "exception": false,
     "start_time": "2022-03-23T16:52:52.860448",
     "status": "completed"
    },
    "tags": []
   },
   "outputs": [
    {
     "name": "stdout",
     "output_type": "stream",
     "text": [
      "Given the Array: \n",
      "[0.59479181 0.54495653 0.61099262 0.57871393]\n",
      "Predict this y: \n",
      " [[0.59542262 0.54873439 0.61914912 0.59253572]]\n"
     ]
    }
   ],
   "source": [
    "X,y = generator[0]\n",
    "print(f'Given the Array: \\n{X.flatten()}')\n",
    "print(f'Predict this y: \\n {y}')"
   ]
  },
  {
   "cell_type": "code",
   "execution_count": 8,
   "id": "cc7c7a9f",
   "metadata": {
    "execution": {
     "iopub.execute_input": "2022-03-23T16:52:52.914243Z",
     "iopub.status.busy": "2022-03-23T16:52:52.913536Z",
     "iopub.status.idle": "2022-03-23T16:52:52.915648Z",
     "shell.execute_reply": "2022-03-23T16:52:52.916057Z",
     "shell.execute_reply.started": "2022-03-23T15:11:26.81291Z"
    },
    "papermill": {
     "duration": 0.019036,
     "end_time": "2022-03-23T16:52:52.916184",
     "exception": false,
     "start_time": "2022-03-23T16:52:52.897148",
     "status": "completed"
    },
    "tags": []
   },
   "outputs": [],
   "source": [
    "from keras.models import Sequential\n",
    "from keras.layers import Dense\n",
    "from keras.layers import LSTM"
   ]
  },
  {
   "cell_type": "code",
   "execution_count": 9,
   "id": "b05b6f1a",
   "metadata": {
    "execution": {
     "iopub.execute_input": "2022-03-23T16:52:52.946669Z",
     "iopub.status.busy": "2022-03-23T16:52:52.946105Z",
     "iopub.status.idle": "2022-03-23T16:52:55.454654Z",
     "shell.execute_reply": "2022-03-23T16:52:55.455258Z",
     "shell.execute_reply.started": "2022-03-23T15:11:26.822642Z"
    },
    "papermill": {
     "duration": 2.526236,
     "end_time": "2022-03-23T16:52:55.455448",
     "exception": false,
     "start_time": "2022-03-23T16:52:52.929212",
     "status": "completed"
    },
    "tags": []
   },
   "outputs": [
    {
     "name": "stderr",
     "output_type": "stream",
     "text": [
      "2022-03-23 16:52:53.017923: I tensorflow/stream_executor/cuda/cuda_gpu_executor.cc:937] successful NUMA node read from SysFS had negative value (-1), but there must be at least one NUMA node, so returning NUMA node zero\n",
      "2022-03-23 16:52:53.103663: I tensorflow/stream_executor/cuda/cuda_gpu_executor.cc:937] successful NUMA node read from SysFS had negative value (-1), but there must be at least one NUMA node, so returning NUMA node zero\n",
      "2022-03-23 16:52:53.104390: I tensorflow/stream_executor/cuda/cuda_gpu_executor.cc:937] successful NUMA node read from SysFS had negative value (-1), but there must be at least one NUMA node, so returning NUMA node zero\n",
      "2022-03-23 16:52:53.105716: I tensorflow/core/platform/cpu_feature_guard.cc:142] This TensorFlow binary is optimized with oneAPI Deep Neural Network Library (oneDNN) to use the following CPU instructions in performance-critical operations:  AVX2 AVX512F FMA\n",
      "To enable them in other operations, rebuild TensorFlow with the appropriate compiler flags.\n",
      "2022-03-23 16:52:53.106971: I tensorflow/stream_executor/cuda/cuda_gpu_executor.cc:937] successful NUMA node read from SysFS had negative value (-1), but there must be at least one NUMA node, so returning NUMA node zero\n",
      "2022-03-23 16:52:53.107968: I tensorflow/stream_executor/cuda/cuda_gpu_executor.cc:937] successful NUMA node read from SysFS had negative value (-1), but there must be at least one NUMA node, so returning NUMA node zero\n",
      "2022-03-23 16:52:53.108966: I tensorflow/stream_executor/cuda/cuda_gpu_executor.cc:937] successful NUMA node read from SysFS had negative value (-1), but there must be at least one NUMA node, so returning NUMA node zero\n",
      "2022-03-23 16:52:54.981575: I tensorflow/stream_executor/cuda/cuda_gpu_executor.cc:937] successful NUMA node read from SysFS had negative value (-1), but there must be at least one NUMA node, so returning NUMA node zero\n",
      "2022-03-23 16:52:54.982421: I tensorflow/stream_executor/cuda/cuda_gpu_executor.cc:937] successful NUMA node read from SysFS had negative value (-1), but there must be at least one NUMA node, so returning NUMA node zero\n",
      "2022-03-23 16:52:54.983089: I tensorflow/stream_executor/cuda/cuda_gpu_executor.cc:937] successful NUMA node read from SysFS had negative value (-1), but there must be at least one NUMA node, so returning NUMA node zero\n",
      "2022-03-23 16:52:54.983658: I tensorflow/core/common_runtime/gpu/gpu_device.cc:1510] Created device /job:localhost/replica:0/task:0/device:GPU:0 with 15403 MB memory:  -> device: 0, name: Tesla P100-PCIE-16GB, pci bus id: 0000:00:04.0, compute capability: 6.0\n"
     ]
    }
   ],
   "source": [
    "# define model\n",
    "model = Sequential()\n",
    "model.add(LSTM(50, activation='relu', input_shape=(n_input, n_features),return_sequences=True))\n",
    "model.add(Dense(4))\n",
    "model.compile(optimizer='adam', loss='mse')"
   ]
  },
  {
   "cell_type": "code",
   "execution_count": 10,
   "id": "cdfe4b77",
   "metadata": {
    "execution": {
     "iopub.execute_input": "2022-03-23T16:52:55.487969Z",
     "iopub.status.busy": "2022-03-23T16:52:55.487269Z",
     "iopub.status.idle": "2022-03-23T16:53:37.304370Z",
     "shell.execute_reply": "2022-03-23T16:53:37.304843Z",
     "shell.execute_reply.started": "2022-03-23T15:11:30.209588Z"
    },
    "papermill": {
     "duration": 41.834743,
     "end_time": "2022-03-23T16:53:37.305045",
     "exception": false,
     "start_time": "2022-03-23T16:52:55.470302",
     "status": "completed"
    },
    "tags": []
   },
   "outputs": [
    {
     "name": "stderr",
     "output_type": "stream",
     "text": [
      "2022-03-23 16:52:55.536505: I tensorflow/compiler/mlir/mlir_graph_optimization_pass.cc:185] None of the MLIR Optimization Passes are enabled (registered 2)\n"
     ]
    },
    {
     "name": "stdout",
     "output_type": "stream",
     "text": [
      "Epoch 1/10\n",
      "799/799 [==============================] - 6s 5ms/step - loss: 0.0371\n",
      "Epoch 2/10\n",
      "799/799 [==============================] - 4s 5ms/step - loss: 7.6611e-04\n",
      "Epoch 3/10\n",
      "799/799 [==============================] - 4s 5ms/step - loss: 7.0496e-04\n",
      "Epoch 4/10\n",
      "799/799 [==============================] - 4s 5ms/step - loss: 7.2641e-04\n",
      "Epoch 5/10\n",
      "799/799 [==============================] - 4s 5ms/step - loss: 7.0432e-04\n",
      "Epoch 6/10\n",
      "799/799 [==============================] - 4s 5ms/step - loss: 6.9034e-04\n",
      "Epoch 7/10\n",
      "799/799 [==============================] - 4s 5ms/step - loss: 6.7712e-04\n",
      "Epoch 8/10\n",
      "799/799 [==============================] - 4s 5ms/step - loss: 6.9705e-04\n",
      "Epoch 9/10\n",
      "799/799 [==============================] - 4s 5ms/step - loss: 6.7058e-04\n",
      "Epoch 10/10\n",
      "799/799 [==============================] - 4s 5ms/step - loss: 6.4511e-04\n"
     ]
    },
    {
     "data": {
      "text/plain": [
       "<keras.callbacks.History at 0x7ffb25765990>"
      ]
     },
     "execution_count": 10,
     "metadata": {},
     "output_type": "execute_result"
    }
   ],
   "source": [
    "# fit model\n",
    "model.fit(generator,epochs=10)"
   ]
  },
  {
   "cell_type": "code",
   "execution_count": 11,
   "id": "5cd0bb4e",
   "metadata": {
    "execution": {
     "iopub.execute_input": "2022-03-23T16:53:37.811694Z",
     "iopub.status.busy": "2022-03-23T16:53:37.810903Z",
     "iopub.status.idle": "2022-03-23T16:53:38.185447Z",
     "shell.execute_reply": "2022-03-23T16:53:38.184622Z",
     "shell.execute_reply.started": "2022-03-23T15:12:32.892284Z"
    },
    "papermill": {
     "duration": 0.629078,
     "end_time": "2022-03-23T16:53:38.185585",
     "exception": false,
     "start_time": "2022-03-23T16:53:37.556507",
     "status": "completed"
    },
    "tags": []
   },
   "outputs": [
    {
     "name": "stdout",
     "output_type": "stream",
     "text": [
      "[[0.77566135 0.75336736 0.7898037  0.781565  ]]\n",
      "[[723.9145 736.3327 712.0596 726.7191]]\n"
     ]
    }
   ],
   "source": [
    "first_eval_batch = scaled_train[-n_input:]\n",
    "current_batch = first_eval_batch.reshape((1, n_input, n_features))\n",
    "current_pred = model.predict(current_batch)[0]\n",
    "print(current_pred)\n",
    "fin_pred = scaler.inverse_transform(current_pred)\n",
    "print(fin_pred)"
   ]
  },
  {
   "cell_type": "code",
   "execution_count": 12,
   "id": "d414902f",
   "metadata": {
    "execution": {
     "iopub.execute_input": "2022-03-23T16:53:38.720995Z",
     "iopub.status.busy": "2022-03-23T16:53:38.720377Z",
     "iopub.status.idle": "2022-03-23T16:53:38.758639Z",
     "shell.execute_reply": "2022-03-23T16:53:38.756100Z",
     "shell.execute_reply.started": "2022-03-23T15:12:33.351961Z"
    },
    "papermill": {
     "duration": 0.320535,
     "end_time": "2022-03-23T16:53:38.758839",
     "exception": false,
     "start_time": "2022-03-23T16:53:38.438304",
     "status": "completed"
    },
    "tags": []
   },
   "outputs": [],
   "source": [
    "model.save(\"AXISBANK_model.h5\")"
   ]
  },
  {
   "cell_type": "code",
   "execution_count": null,
   "id": "c4b7b60d",
   "metadata": {
    "papermill": {
     "duration": 0.428116,
     "end_time": "2022-03-23T16:53:39.580393",
     "exception": false,
     "start_time": "2022-03-23T16:53:39.152277",
     "status": "completed"
    },
    "tags": []
   },
   "outputs": [],
   "source": []
  }
 ],
 "metadata": {
  "kernelspec": {
   "display_name": "Python 3",
   "language": "python",
   "name": "python3"
  },
  "language_info": {
   "codemirror_mode": {
    "name": "ipython",
    "version": 3
   },
   "file_extension": ".py",
   "mimetype": "text/x-python",
   "name": "python",
   "nbconvert_exporter": "python",
   "pygments_lexer": "ipython3",
   "version": "3.7.12"
  },
  "papermill": {
   "default_parameters": {},
   "duration": 65.310291,
   "end_time": "2022-03-23T16:53:43.533063",
   "environment_variables": {},
   "exception": null,
   "input_path": "__notebook__.ipynb",
   "output_path": "__notebook__.ipynb",
   "parameters": {},
   "start_time": "2022-03-23T16:52:38.222772",
   "version": "2.3.3"
  }
 },
 "nbformat": 4,
 "nbformat_minor": 5
}
