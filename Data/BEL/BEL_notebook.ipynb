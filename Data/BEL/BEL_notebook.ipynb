{
 "cells": [
  {
   "cell_type": "code",
   "execution_count": 1,
   "id": "5338737d",
   "metadata": {
    "_cell_guid": "b1076dfc-b9ad-4769-8c92-a6c4dae69d19",
    "_uuid": "8f2839f25d086af736a60e9eeb907d3b93b6e0e5",
    "execution": {
     "iopub.execute_input": "2022-03-23T20:19:24.901079Z",
     "iopub.status.busy": "2022-03-23T20:19:24.900436Z",
     "iopub.status.idle": "2022-03-23T20:19:26.303653Z",
     "shell.execute_reply": "2022-03-23T20:19:26.302642Z",
     "shell.execute_reply.started": "2022-03-23T20:16:28.693223Z"
    },
    "papermill": {
     "duration": 1.427812,
     "end_time": "2022-03-23T20:19:26.303830",
     "exception": false,
     "start_time": "2022-03-23T20:19:24.876018",
     "status": "completed"
    },
    "tags": []
   },
   "outputs": [],
   "source": [
    "import pandas as pd\n",
    "import numpy as np\n",
    "import matplotlib.pyplot as plt\n",
    "import statsmodels.api as sm\n",
    "import joblib"
   ]
  },
  {
   "cell_type": "code",
   "execution_count": 2,
   "id": "0847e0b4",
   "metadata": {
    "execution": {
     "iopub.execute_input": "2022-03-23T20:19:26.333376Z",
     "iopub.status.busy": "2022-03-23T20:19:26.332656Z",
     "iopub.status.idle": "2022-03-23T20:19:26.580651Z",
     "shell.execute_reply": "2022-03-23T20:19:26.580222Z",
     "shell.execute_reply.started": "2022-03-23T20:16:30.274944Z"
    },
    "papermill": {
     "duration": 0.264978,
     "end_time": "2022-03-23T20:19:26.580828",
     "exception": false,
     "start_time": "2022-03-23T20:19:26.315850",
     "status": "completed"
    },
    "tags": []
   },
   "outputs": [
    {
     "name": "stderr",
     "output_type": "stream",
     "text": [
      "/opt/conda/lib/python3.7/site-packages/statsmodels/graphics/tsaplots.py:353: FutureWarning: The default method 'yw' can produce PACF values outside of the [-1,1] interval. After 0.13, the default will change tounadjusted Yule-Walker ('ywm'). You can use this method now by setting method='ywm'.\n",
      "  FutureWarning,\n"
     ]
    },
    {
     "data": {
      "image/png": "[encoded data removed]",
      "text/plain": [
       "<Figure size 432x288 with 1 Axes>"
      ]
     },
     "metadata": {
      "needs_background": "light"
     },
     "output_type": "display_data"
    }
   ],
   "source": [
    "df = pd.read_csv(\"../input/stockpricepredictons/BEL.NS.csv\", usecols=[\"Date\", \"Open\", \"Adj Close\", \"High\", \"Low\"], index_col='Date',parse_dates=True)\n",
    "df = df.iloc[-800::]\n",
    "sm.graphics.tsa.plot_pacf(df[\"Open\"], lags=10)\n",
    "plt.show()"
   ]
  },
  {
   "cell_type": "code",
   "execution_count": 3,
   "id": "fb761763",
   "metadata": {
    "execution": {
     "iopub.execute_input": "2022-03-23T20:19:26.610006Z",
     "iopub.status.busy": "2022-03-23T20:19:26.609205Z",
     "iopub.status.idle": "2022-03-23T20:19:26.611787Z",
     "shell.execute_reply": "2022-03-23T20:19:26.611344Z",
     "shell.execute_reply.started": "2022-03-23T20:16:30.519210Z"
    },
    "papermill": {
     "duration": 0.018411,
     "end_time": "2022-03-23T20:19:26.611946",
     "exception": false,
     "start_time": "2022-03-23T20:19:26.593535",
     "status": "completed"
    },
    "tags": []
   },
   "outputs": [],
   "source": [
    "train = df"
   ]
  },
  {
   "cell_type": "code",
   "execution_count": 4,
   "id": "3287c04b",
   "metadata": {
    "execution": {
     "iopub.execute_input": "2022-03-23T20:19:26.640846Z",
     "iopub.status.busy": "2022-03-23T20:19:26.640335Z",
     "iopub.status.idle": "2022-03-23T20:19:26.715639Z",
     "shell.execute_reply": "2022-03-23T20:19:26.716637Z",
     "shell.execute_reply.started": "2022-03-23T20:16:30.525764Z"
    },
    "papermill": {
     "duration": 0.092789,
     "end_time": "2022-03-23T20:19:26.716845",
     "exception": false,
     "start_time": "2022-03-23T20:19:26.624056",
     "status": "completed"
    },
    "tags": []
   },
   "outputs": [
    {
     "data": {
      "text/plain": [
       "['BEL_scaler.pkl']"
      ]
     },
     "execution_count": 4,
     "metadata": {},
     "output_type": "execute_result"
    }
   ],
   "source": [
    "from sklearn.preprocessing import MinMaxScaler\n",
    "scaler = MinMaxScaler()\n",
    "\n",
    "scaler.fit(train)\n",
    "scaled_train = scaler.transform(train)\n",
    "joblib.dump(scaler, 'BEL_scaler.pkl') "
   ]
  },
  {
   "cell_type": "code",
   "execution_count": 5,
   "id": "6df75bbe",
   "metadata": {
    "execution": {
     "iopub.execute_input": "2022-03-23T20:19:26.770217Z",
     "iopub.status.busy": "2022-03-23T20:19:26.769351Z",
     "iopub.status.idle": "2022-03-23T20:19:31.261681Z",
     "shell.execute_reply": "2022-03-23T20:19:31.261119Z",
     "shell.execute_reply.started": "2022-03-23T20:16:30.601373Z"
    },
    "papermill": {
     "duration": 4.522675,
     "end_time": "2022-03-23T20:19:31.261845",
     "exception": false,
     "start_time": "2022-03-23T20:19:26.739170",
     "status": "completed"
    },
    "tags": []
   },
   "outputs": [],
   "source": [
    "from keras.preprocessing.sequence import TimeseriesGenerator"
   ]
  },
  {
   "cell_type": "code",
   "execution_count": 6,
   "id": "c2aec30a",
   "metadata": {
    "execution": {
     "iopub.execute_input": "2022-03-23T20:19:31.292518Z",
     "iopub.status.busy": "2022-03-23T20:19:31.290828Z",
     "iopub.status.idle": "2022-03-23T20:19:31.293173Z",
     "shell.execute_reply": "2022-03-23T20:19:31.293577Z",
     "shell.execute_reply.started": "2022-03-23T20:16:35.255917Z"
    },
    "papermill": {
     "duration": 0.019084,
     "end_time": "2022-03-23T20:19:31.293695",
     "exception": false,
     "start_time": "2022-03-23T20:19:31.274611",
     "status": "completed"
    },
    "tags": []
   },
   "outputs": [],
   "source": [
    "# define generator\n",
    "n_input = 1\n",
    "n_features = 4\n",
    "generator = TimeseriesGenerator(scaled_train, scaled_train, length=n_input, batch_size=1)"
   ]
  },
  {
   "cell_type": "code",
   "execution_count": 7,
   "id": "a6d828f9",
   "metadata": {
    "execution": {
     "iopub.execute_input": "2022-03-23T20:19:31.322504Z",
     "iopub.status.busy": "2022-03-23T20:19:31.321548Z",
     "iopub.status.idle": "2022-03-23T20:19:31.326392Z",
     "shell.execute_reply": "2022-03-23T20:19:31.327142Z",
     "shell.execute_reply.started": "2022-03-23T20:16:35.264775Z"
    },
    "papermill": {
     "duration": 0.021376,
     "end_time": "2022-03-23T20:19:31.327306",
     "exception": false,
     "start_time": "2022-03-23T20:19:31.305930",
     "status": "completed"
    },
    "tags": []
   },
   "outputs": [
    {
     "name": "stdout",
     "output_type": "stream",
     "text": [
      "Given the Array: \n",
      "[0.1935003  0.17565947 0.17850693 0.13314121]\n",
      "Predict this y: \n",
      " [[0.17412046 0.16217026 0.18422635 0.14263405]]\n"
     ]
    }
   ],
   "source": [
    "X,y = generator[0]\n",
    "print(f'Given the Array: \\n{X.flatten()}')\n",
    "print(f'Predict this y: \\n {y}')"
   ]
  },
  {
   "cell_type": "code",
   "execution_count": 8,
   "id": "b2539ed5",
   "metadata": {
    "execution": {
     "iopub.execute_input": "2022-03-23T20:19:31.357356Z",
     "iopub.status.busy": "2022-03-23T20:19:31.355713Z",
     "iopub.status.idle": "2022-03-23T20:19:31.359683Z",
     "shell.execute_reply": "2022-03-23T20:19:31.359298Z",
     "shell.execute_reply.started": "2022-03-23T20:16:35.278498Z"
    },
    "papermill": {
     "duration": 0.019351,
     "end_time": "2022-03-23T20:19:31.359780",
     "exception": false,
     "start_time": "2022-03-23T20:19:31.340429",
     "status": "completed"
    },
    "tags": []
   },
   "outputs": [],
   "source": [
    "from keras.models import Sequential\n",
    "from keras.layers import Dense\n",
    "from keras.layers import LSTM"
   ]
  },
  {
   "cell_type": "code",
   "execution_count": 9,
   "id": "a90d9bd1",
   "metadata": {
    "execution": {
     "iopub.execute_input": "2022-03-23T20:19:31.389134Z",
     "iopub.status.busy": "2022-03-23T20:19:31.387593Z",
     "iopub.status.idle": "2022-03-23T20:19:33.817735Z",
     "shell.execute_reply": "2022-03-23T20:19:33.818483Z",
     "shell.execute_reply.started": "2022-03-23T20:16:35.286287Z"
    },
    "papermill": {
     "duration": 2.446305,
     "end_time": "2022-03-23T20:19:33.818689",
     "exception": false,
     "start_time": "2022-03-23T20:19:31.372384",
     "status": "completed"
    },
    "tags": []
   },
   "outputs": [
    {
     "name": "stderr",
     "output_type": "stream",
     "text": [
      "2022-03-23 20:19:31.456379: I tensorflow/stream_executor/cuda/cuda_gpu_executor.cc:937] successful NUMA node read from SysFS had negative value (-1), but there must be at least one NUMA node, so returning NUMA node zero\n",
      "2022-03-23 20:19:31.544003: I tensorflow/stream_executor/cuda/cuda_gpu_executor.cc:937] successful NUMA node read from SysFS had negative value (-1), but there must be at least one NUMA node, so returning NUMA node zero\n",
      "2022-03-23 20:19:31.544711: I tensorflow/stream_executor/cuda/cuda_gpu_executor.cc:937] successful NUMA node read from SysFS had negative value (-1), but there must be at least one NUMA node, so returning NUMA node zero\n",
      "2022-03-23 20:19:31.545889: I tensorflow/core/platform/cpu_feature_guard.cc:142] This TensorFlow binary is optimized with oneAPI Deep Neural Network Library (oneDNN) to use the following CPU instructions in performance-critical operations:  AVX2 AVX512F FMA\n",
      "To enable them in other operations, rebuild TensorFlow with the appropriate compiler flags.\n",
      "2022-03-23 20:19:31.546585: I tensorflow/stream_executor/cuda/cuda_gpu_executor.cc:937] successful NUMA node read from SysFS had negative value (-1), but there must be at least one NUMA node, so returning NUMA node zero\n",
      "2022-03-23 20:19:31.547284: I tensorflow/stream_executor/cuda/cuda_gpu_executor.cc:937] successful NUMA node read from SysFS had negative value (-1), but there must be at least one NUMA node, so returning NUMA node zero\n",
      "2022-03-23 20:19:31.547994: I tensorflow/stream_executor/cuda/cuda_gpu_executor.cc:937] successful NUMA node read from SysFS had negative value (-1), but there must be at least one NUMA node, so returning NUMA node zero\n",
      "2022-03-23 20:19:33.358428: I tensorflow/stream_executor/cuda/cuda_gpu_executor.cc:937] successful NUMA node read from SysFS had negative value (-1), but there must be at least one NUMA node, so returning NUMA node zero\n",
      "2022-03-23 20:19:33.359274: I tensorflow/stream_executor/cuda/cuda_gpu_executor.cc:937] successful NUMA node read from SysFS had negative value (-1), but there must be at least one NUMA node, so returning NUMA node zero\n",
      "2022-03-23 20:19:33.359959: I tensorflow/stream_executor/cuda/cuda_gpu_executor.cc:937] successful NUMA node read from SysFS had negative value (-1), but there must be at least one NUMA node, so returning NUMA node zero\n",
      "2022-03-23 20:19:33.360549: I tensorflow/core/common_runtime/gpu/gpu_device.cc:1510] Created device /job:localhost/replica:0/task:0/device:GPU:0 with 15403 MB memory:  -> device: 0, name: Tesla P100-PCIE-16GB, pci bus id: 0000:00:04.0, compute capability: 6.0\n"
     ]
    }
   ],
   "source": [
    "# define model\n",
    "model = Sequential()\n",
    "model.add(LSTM(50, activation='relu', input_shape=(n_input, n_features),return_sequences=True))\n",
    "model.add(Dense(4))\n",
    "model.compile(optimizer='adam', loss='mse')"
   ]
  },
  {
   "cell_type": "code",
   "execution_count": 10,
   "id": "54ac148d",
   "metadata": {
    "execution": {
     "iopub.execute_input": "2022-03-23T20:19:33.849736Z",
     "iopub.status.busy": "2022-03-23T20:19:33.848194Z",
     "iopub.status.idle": "2022-03-23T20:20:17.258048Z",
     "shell.execute_reply": "2022-03-23T20:20:17.257564Z",
     "shell.execute_reply.started": "2022-03-23T20:16:37.783987Z"
    },
    "papermill": {
     "duration": 43.425065,
     "end_time": "2022-03-23T20:20:17.258174",
     "exception": false,
     "start_time": "2022-03-23T20:19:33.833109",
     "status": "completed"
    },
    "tags": []
   },
   "outputs": [
    {
     "name": "stderr",
     "output_type": "stream",
     "text": [
      "2022-03-23 20:19:33.899103: I tensorflow/compiler/mlir/mlir_graph_optimization_pass.cc:185] None of the MLIR Optimization Passes are enabled (registered 2)\n"
     ]
    },
    {
     "name": "stdout",
     "output_type": "stream",
     "text": [
      "Epoch 1/10\n",
      "799/799 [==============================] - 6s 5ms/step - loss: 0.0262\n",
      "Epoch 2/10\n",
      "799/799 [==============================] - 4s 5ms/step - loss: 3.8469e-04\n",
      "Epoch 3/10\n",
      "799/799 [==============================] - 4s 5ms/step - loss: 3.8507e-04\n",
      "Epoch 4/10\n",
      "799/799 [==============================] - 4s 5ms/step - loss: 3.7943e-04\n",
      "Epoch 5/10\n",
      "799/799 [==============================] - 5s 6ms/step - loss: 3.7034e-04\n",
      "Epoch 6/10\n",
      "799/799 [==============================] - 4s 5ms/step - loss: 3.7644e-04\n",
      "Epoch 7/10\n",
      "799/799 [==============================] - 4s 5ms/step - loss: 3.6083e-04\n",
      "Epoch 8/10\n",
      "799/799 [==============================] - 4s 5ms/step - loss: 3.5808e-04\n",
      "Epoch 9/10\n",
      "799/799 [==============================] - 4s 5ms/step - loss: 3.6322e-04\n",
      "Epoch 10/10\n",
      "799/799 [==============================] - 4s 5ms/step - loss: 3.5913e-04\n"
     ]
    },
    {
     "data": {
      "text/plain": [
       "<keras.callbacks.History at 0x7f1cbdb85850>"
      ]
     },
     "execution_count": 10,
     "metadata": {},
     "output_type": "execute_result"
    }
   ],
   "source": [
    "# fit model\n",
    "model.fit(generator,epochs=10)"
   ]
  },
  {
   "cell_type": "code",
   "execution_count": 11,
   "id": "18208011",
   "metadata": {
    "execution": {
     "iopub.execute_input": "2022-03-23T20:20:17.779347Z",
     "iopub.status.busy": "2022-03-23T20:20:17.778678Z",
     "iopub.status.idle": "2022-03-23T20:20:18.143417Z",
     "shell.execute_reply": "2022-03-23T20:20:18.144048Z",
     "shell.execute_reply.started": "2022-03-23T20:17:20.713205Z"
    },
    "papermill": {
     "duration": 0.627419,
     "end_time": "2022-03-23T20:20:18.144256",
     "exception": false,
     "start_time": "2022-03-23T20:20:17.516837",
     "status": "completed"
    },
    "tags": []
   },
   "outputs": [
    {
     "name": "stdout",
     "output_type": "stream",
     "text": [
      "[[0.8806684  0.88100415 0.8784991  0.8876528 ]]\n",
      "[[205.48808 208.15149 201.91872 203.7181 ]]\n",
      "{'clip': False, 'copy': True, 'feature_range': (0, 1)}\n"
     ]
    }
   ],
   "source": [
    "first_eval_batch = scaled_train[-n_input:]\n",
    "current_batch = first_eval_batch.reshape((1, n_input, n_features))\n",
    "current_pred = model.predict(current_batch)[0]\n",
    "print(current_pred)\n",
    "fin_pred = scaler.inverse_transform(current_pred)\n",
    "print(fin_pred)\n",
    "print(scaler.get_params(deep=True))"
   ]
  },
  {
   "cell_type": "code",
   "execution_count": 12,
   "id": "367c5300",
   "metadata": {
    "execution": {
     "iopub.execute_input": "2022-03-23T20:20:18.676685Z",
     "iopub.status.busy": "2022-03-23T20:20:18.675721Z",
     "iopub.status.idle": "2022-03-23T20:20:18.695550Z",
     "shell.execute_reply": "2022-03-23T20:20:18.696038Z",
     "shell.execute_reply.started": "2022-03-23T20:17:21.102941Z"
    },
    "papermill": {
     "duration": 0.289768,
     "end_time": "2022-03-23T20:20:18.696198",
     "exception": false,
     "start_time": "2022-03-23T20:20:18.406430",
     "status": "completed"
    },
    "tags": []
   },
   "outputs": [],
   "source": [
    "model.save(\"BEL_model.h5\")"
   ]
  }
 ],
 "metadata": {
  "kernelspec": {
   "display_name": "Python 3",
   "language": "python",
   "name": "python3"
  },
  "language_info": {
   "codemirror_mode": {
    "name": "ipython",
    "version": 3
   },
   "file_extension": ".py",
   "mimetype": "text/x-python",
   "name": "python",
   "nbconvert_exporter": "python",
   "pygments_lexer": "ipython3",
   "version": "3.7.12"
  },
  "papermill": {
   "default_parameters": {},
   "duration": 66.292957,
   "end_time": "2022-03-23T20:20:22.508105",
   "environment_variables": {},
   "exception": null,
   "input_path": "__notebook__.ipynb",
   "output_path": "__notebook__.ipynb",
   "parameters": {},
   "start_time": "2022-03-23T20:19:16.215148",
   "version": "2.3.3"
  }
 },
 "nbformat": 4,
 "nbformat_minor": 5
}
