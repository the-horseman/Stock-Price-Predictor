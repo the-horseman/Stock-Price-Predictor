{
 "cells": [
  {
   "cell_type": "code",
   "execution_count": 1,
   "id": "370ab62e",
   "metadata": {
    "_cell_guid": "b1076dfc-b9ad-4769-8c92-a6c4dae69d19",
    "_uuid": "8f2839f25d086af736a60e9eeb907d3b93b6e0e5",
    "execution": {
     "iopub.execute_input": "2022-03-23T21:43:23.742531Z",
     "iopub.status.busy": "2022-03-23T21:43:23.741035Z",
     "iopub.status.idle": "2022-03-23T21:43:25.136421Z",
     "shell.execute_reply": "2022-03-23T21:43:25.135684Z",
     "shell.execute_reply.started": "2022-03-23T21:40:48.033841Z"
    },
    "papermill": {
     "duration": 1.411391,
     "end_time": "2022-03-23T21:43:25.136594",
     "exception": false,
     "start_time": "2022-03-23T21:43:23.725203",
     "status": "completed"
    },
    "tags": []
   },
   "outputs": [],
   "source": [
    "import pandas as pd\n",
    "import numpy as np\n",
    "import matplotlib.pyplot as plt\n",
    "import statsmodels.api as sm\n",
    "import joblib"
   ]
  },
  {
   "cell_type": "code",
   "execution_count": 2,
   "id": "b34b8683",
   "metadata": {
    "execution": {
     "iopub.execute_input": "2022-03-23T21:43:25.168603Z",
     "iopub.status.busy": "2022-03-23T21:43:25.167980Z",
     "iopub.status.idle": "2022-03-23T21:43:25.419998Z",
     "shell.execute_reply": "2022-03-23T21:43:25.419279Z",
     "shell.execute_reply.started": "2022-03-23T21:40:49.571851Z"
    },
    "papermill": {
     "duration": 0.270608,
     "end_time": "2022-03-23T21:43:25.420136",
     "exception": false,
     "start_time": "2022-03-23T21:43:25.149528",
     "status": "completed"
    },
    "tags": []
   },
   "outputs": [
    {
     "name": "stderr",
     "output_type": "stream",
     "text": [
      "/opt/conda/lib/python3.7/site-packages/statsmodels/graphics/tsaplots.py:353: FutureWarning: The default method 'yw' can produce PACF values outside of the [-1,1] interval. After 0.13, the default will change tounadjusted Yule-Walker ('ywm'). You can use this method now by setting method='ywm'.\n",
      "  FutureWarning,\n"
     ]
    },
    {
     "data": {
      "image/png": "[encoded data removed]",
      "text/plain": [
       "<Figure size 432x288 with 1 Axes>"
      ]
     },
     "metadata": {
      "needs_background": "light"
     },
     "output_type": "display_data"
    }
   ],
   "source": [
    "df = pd.read_csv(\"../input/stockpricepredictons/UPL.NS.csv\", usecols=[\"Date\", \"Open\", \"Adj Close\", \"High\", \"Low\"], index_col='Date',parse_dates=True)\n",
    "df = df.iloc[-800::]\n",
    "sm.graphics.tsa.plot_pacf(df[\"Open\"], lags=10)\n",
    "plt.show()"
   ]
  },
  {
   "cell_type": "code",
   "execution_count": 3,
   "id": "f4b595a2",
   "metadata": {
    "execution": {
     "iopub.execute_input": "2022-03-23T21:43:25.448728Z",
     "iopub.status.busy": "2022-03-23T21:43:25.448016Z",
     "iopub.status.idle": "2022-03-23T21:43:25.450575Z",
     "shell.execute_reply": "2022-03-23T21:43:25.450153Z",
     "shell.execute_reply.started": "2022-03-23T21:40:49.821734Z"
    },
    "papermill": {
     "duration": 0.018074,
     "end_time": "2022-03-23T21:43:25.450685",
     "exception": false,
     "start_time": "2022-03-23T21:43:25.432611",
     "status": "completed"
    },
    "tags": []
   },
   "outputs": [],
   "source": [
    "train = df"
   ]
  },
  {
   "cell_type": "code",
   "execution_count": 4,
   "id": "2df0d52f",
   "metadata": {
    "execution": {
     "iopub.execute_input": "2022-03-23T21:43:25.479455Z",
     "iopub.status.busy": "2022-03-23T21:43:25.478796Z",
     "iopub.status.idle": "2022-03-23T21:43:25.538872Z",
     "shell.execute_reply": "2022-03-23T21:43:25.538305Z",
     "shell.execute_reply.started": "2022-03-23T21:40:49.828365Z"
    },
    "papermill": {
     "duration": 0.07643,
     "end_time": "2022-03-23T21:43:25.539034",
     "exception": false,
     "start_time": "2022-03-23T21:43:25.462604",
     "status": "completed"
    },
    "tags": []
   },
   "outputs": [
    {
     "data": {
      "text/plain": [
       "['UPL_scaler.pkl']"
      ]
     },
     "execution_count": 4,
     "metadata": {},
     "output_type": "execute_result"
    }
   ],
   "source": [
    "from sklearn.preprocessing import MinMaxScaler\n",
    "scaler = MinMaxScaler()\n",
    "\n",
    "scaler.fit(train)\n",
    "scaled_train = scaler.transform(train)\n",
    "joblib.dump(scaler, 'UPL_scaler.pkl') "
   ]
  },
  {
   "cell_type": "code",
   "execution_count": 5,
   "id": "c90b9a74",
   "metadata": {
    "execution": {
     "iopub.execute_input": "2022-03-23T21:43:25.569402Z",
     "iopub.status.busy": "2022-03-23T21:43:25.568699Z",
     "iopub.status.idle": "2022-03-23T21:43:30.382824Z",
     "shell.execute_reply": "2022-03-23T21:43:30.383886Z",
     "shell.execute_reply.started": "2022-03-23T21:40:49.910636Z"
    },
    "papermill": {
     "duration": 4.831988,
     "end_time": "2022-03-23T21:43:30.384097",
     "exception": false,
     "start_time": "2022-03-23T21:43:25.552109",
     "status": "completed"
    },
    "tags": []
   },
   "outputs": [],
   "source": [
    "from keras.preprocessing.sequence import TimeseriesGenerator"
   ]
  },
  {
   "cell_type": "code",
   "execution_count": 6,
   "id": "c8446dec",
   "metadata": {
    "execution": {
     "iopub.execute_input": "2022-03-23T21:43:30.433434Z",
     "iopub.status.busy": "2022-03-23T21:43:30.432521Z",
     "iopub.status.idle": "2022-03-23T21:43:30.434794Z",
     "shell.execute_reply": "2022-03-23T21:43:30.434143Z",
     "shell.execute_reply.started": "2022-03-23T21:40:55.031361Z"
    },
    "papermill": {
     "duration": 0.030048,
     "end_time": "2022-03-23T21:43:30.434952",
     "exception": false,
     "start_time": "2022-03-23T21:43:30.404904",
     "status": "completed"
    },
    "tags": []
   },
   "outputs": [],
   "source": [
    "# define generator\n",
    "n_input = 1\n",
    "n_features = 4\n",
    "generator = TimeseriesGenerator(scaled_train, scaled_train, length=n_input, batch_size=1)"
   ]
  },
  {
   "cell_type": "code",
   "execution_count": 7,
   "id": "1d2b5af6",
   "metadata": {
    "execution": {
     "iopub.execute_input": "2022-03-23T21:43:30.482375Z",
     "iopub.status.busy": "2022-03-23T21:43:30.481571Z",
     "iopub.status.idle": "2022-03-23T21:43:30.487242Z",
     "shell.execute_reply": "2022-03-23T21:43:30.487826Z",
     "shell.execute_reply.started": "2022-03-23T21:40:55.040002Z"
    },
    "papermill": {
     "duration": 0.033135,
     "end_time": "2022-03-23T21:43:30.488022",
     "exception": false,
     "start_time": "2022-03-23T21:43:30.454887",
     "status": "completed"
    },
    "tags": []
   },
   "outputs": [
    {
     "name": "stdout",
     "output_type": "stream",
     "text": [
      "Given the Array: \n",
      "[0.41304348 0.38965458 0.42776992 0.39596011]\n",
      "Predict this y: \n",
      " [[0.40914157 0.40326696 0.43582477 0.40545898]]\n"
     ]
    }
   ],
   "source": [
    "X,y = generator[0]\n",
    "print(f'Given the Array: \\n{X.flatten()}')\n",
    "print(f'Predict this y: \\n {y}')"
   ]
  },
  {
   "cell_type": "code",
   "execution_count": 8,
   "id": "4e3ad81e",
   "metadata": {
    "execution": {
     "iopub.execute_input": "2022-03-23T21:43:30.524626Z",
     "iopub.status.busy": "2022-03-23T21:43:30.523055Z",
     "iopub.status.idle": "2022-03-23T21:43:30.525243Z",
     "shell.execute_reply": "2022-03-23T21:43:30.525649Z",
     "shell.execute_reply.started": "2022-03-23T21:40:55.051084Z"
    },
    "papermill": {
     "duration": 0.019785,
     "end_time": "2022-03-23T21:43:30.525805",
     "exception": false,
     "start_time": "2022-03-23T21:43:30.506020",
     "status": "completed"
    },
    "tags": []
   },
   "outputs": [],
   "source": [
    "from keras.models import Sequential\n",
    "from keras.layers import Dense\n",
    "from keras.layers import LSTM"
   ]
  },
  {
   "cell_type": "code",
   "execution_count": 9,
   "id": "17990974",
   "metadata": {
    "execution": {
     "iopub.execute_input": "2022-03-23T21:43:30.556871Z",
     "iopub.status.busy": "2022-03-23T21:43:30.556235Z",
     "iopub.status.idle": "2022-03-23T21:43:32.798110Z",
     "shell.execute_reply": "2022-03-23T21:43:32.798714Z",
     "shell.execute_reply.started": "2022-03-23T21:40:55.060834Z"
    },
    "papermill": {
     "duration": 2.259919,
     "end_time": "2022-03-23T21:43:32.798934",
     "exception": false,
     "start_time": "2022-03-23T21:43:30.539015",
     "status": "completed"
    },
    "tags": []
   },
   "outputs": [
    {
     "name": "stderr",
     "output_type": "stream",
     "text": [
      "2022-03-23 21:43:30.618125: I tensorflow/stream_executor/cuda/cuda_gpu_executor.cc:937] successful NUMA node read from SysFS had negative value (-1), but there must be at least one NUMA node, so returning NUMA node zero\n",
      "2022-03-23 21:43:30.705392: I tensorflow/stream_executor/cuda/cuda_gpu_executor.cc:937] successful NUMA node read from SysFS had negative value (-1), but there must be at least one NUMA node, so returning NUMA node zero\n",
      "2022-03-23 21:43:30.706188: I tensorflow/stream_executor/cuda/cuda_gpu_executor.cc:937] successful NUMA node read from SysFS had negative value (-1), but there must be at least one NUMA node, so returning NUMA node zero\n",
      "2022-03-23 21:43:30.708023: I tensorflow/core/platform/cpu_feature_guard.cc:142] This TensorFlow binary is optimized with oneAPI Deep Neural Network Library (oneDNN) to use the following CPU instructions in performance-critical operations:  AVX2 AVX512F FMA\n",
      "To enable them in other operations, rebuild TensorFlow with the appropriate compiler flags.\n",
      "2022-03-23 21:43:30.708773: I tensorflow/stream_executor/cuda/cuda_gpu_executor.cc:937] successful NUMA node read from SysFS had negative value (-1), but there must be at least one NUMA node, so returning NUMA node zero\n",
      "2022-03-23 21:43:30.709448: I tensorflow/stream_executor/cuda/cuda_gpu_executor.cc:937] successful NUMA node read from SysFS had negative value (-1), but there must be at least one NUMA node, so returning NUMA node zero\n",
      "2022-03-23 21:43:30.710139: I tensorflow/stream_executor/cuda/cuda_gpu_executor.cc:937] successful NUMA node read from SysFS had negative value (-1), but there must be at least one NUMA node, so returning NUMA node zero\n",
      "2022-03-23 21:43:32.314812: I tensorflow/stream_executor/cuda/cuda_gpu_executor.cc:937] successful NUMA node read from SysFS had negative value (-1), but there must be at least one NUMA node, so returning NUMA node zero\n",
      "2022-03-23 21:43:32.315606: I tensorflow/stream_executor/cuda/cuda_gpu_executor.cc:937] successful NUMA node read from SysFS had negative value (-1), but there must be at least one NUMA node, so returning NUMA node zero\n",
      "2022-03-23 21:43:32.316407: I tensorflow/stream_executor/cuda/cuda_gpu_executor.cc:937] successful NUMA node read from SysFS had negative value (-1), but there must be at least one NUMA node, so returning NUMA node zero\n",
      "2022-03-23 21:43:32.317103: I tensorflow/core/common_runtime/gpu/gpu_device.cc:1510] Created device /job:localhost/replica:0/task:0/device:GPU:0 with 15403 MB memory:  -> device: 0, name: Tesla P100-PCIE-16GB, pci bus id: 0000:00:04.0, compute capability: 6.0\n"
     ]
    }
   ],
   "source": [
    "# define model\n",
    "model = Sequential()\n",
    "model.add(LSTM(250, activation='relu', input_shape=(n_input, n_features),return_sequences=True))\n",
    "# model.add(LSTM(50, activation='relu', input_shape=(n_input, n_features),return_sequences=True))\n",
    "model.add(Dense(4))\n",
    "model.compile(optimizer='adam', loss='mse')"
   ]
  },
  {
   "cell_type": "code",
   "execution_count": 10,
   "id": "96171b5b",
   "metadata": {
    "execution": {
     "iopub.execute_input": "2022-03-23T21:43:32.832104Z",
     "iopub.status.busy": "2022-03-23T21:43:32.831159Z",
     "iopub.status.idle": "2022-03-23T21:44:16.266621Z",
     "shell.execute_reply": "2022-03-23T21:44:16.267087Z",
     "shell.execute_reply.started": "2022-03-23T21:40:57.676371Z"
    },
    "papermill": {
     "duration": 43.45374,
     "end_time": "2022-03-23T21:44:16.267253",
     "exception": false,
     "start_time": "2022-03-23T21:43:32.813513",
     "status": "completed"
    },
    "tags": []
   },
   "outputs": [
    {
     "name": "stderr",
     "output_type": "stream",
     "text": [
      "2022-03-23 21:43:32.880781: I tensorflow/compiler/mlir/mlir_graph_optimization_pass.cc:185] None of the MLIR Optimization Passes are enabled (registered 2)\n"
     ]
    },
    {
     "name": "stdout",
     "output_type": "stream",
     "text": [
      "Epoch 1/10\n",
      "799/799 [==============================] - 6s 5ms/step - loss: 0.0161\n",
      "Epoch 2/10\n",
      "799/799 [==============================] - 4s 5ms/step - loss: 5.1002e-04\n",
      "Epoch 3/10\n",
      "799/799 [==============================] - 4s 5ms/step - loss: 5.2885e-04\n",
      "Epoch 4/10\n",
      "799/799 [==============================] - 4s 5ms/step - loss: 5.3416e-04\n",
      "Epoch 5/10\n",
      "799/799 [==============================] - 4s 5ms/step - loss: 4.9189e-04\n",
      "Epoch 6/10\n",
      "799/799 [==============================] - 4s 5ms/step - loss: 5.4566e-04\n",
      "Epoch 7/10\n",
      "799/799 [==============================] - 5s 6ms/step - loss: 5.1659e-04\n",
      "Epoch 8/10\n",
      "799/799 [==============================] - 4s 5ms/step - loss: 4.9272e-04\n",
      "Epoch 9/10\n",
      "799/799 [==============================] - 4s 5ms/step - loss: 5.5857e-04\n",
      "Epoch 10/10\n",
      "799/799 [==============================] - 4s 5ms/step - loss: 4.7409e-04\n"
     ]
    },
    {
     "data": {
      "text/plain": [
       "<keras.callbacks.History at 0x7f7f3094dbd0>"
      ]
     },
     "execution_count": 10,
     "metadata": {},
     "output_type": "execute_result"
    }
   ],
   "source": [
    "# fit model\n",
    "model.fit(generator,epochs=10)"
   ]
  },
  {
   "cell_type": "code",
   "execution_count": 11,
   "id": "941391c3",
   "metadata": {
    "execution": {
     "iopub.execute_input": "2022-03-23T21:44:16.799273Z",
     "iopub.status.busy": "2022-03-23T21:44:16.798581Z",
     "iopub.status.idle": "2022-03-23T21:44:17.194358Z",
     "shell.execute_reply": "2022-03-23T21:44:17.193882Z",
     "shell.execute_reply.started": "2022-03-23T21:41:41.416288Z"
    },
    "papermill": {
     "duration": 0.66447,
     "end_time": "2022-03-23T21:44:17.194490",
     "exception": false,
     "start_time": "2022-03-23T21:44:16.530020",
     "status": "completed"
    },
    "tags": []
   },
   "outputs": [
    {
     "name": "stdout",
     "output_type": "stream",
     "text": [
      "[[0.8514295  0.85159206 0.8515794  0.8473027 ]]\n",
      "[[766.15485 777.48065 751.1402  752.4708 ]]\n",
      "{'clip': False, 'copy': True, 'feature_range': (0, 1)}\n"
     ]
    }
   ],
   "source": [
    "first_eval_batch = scaled_train[-n_input:]\n",
    "current_batch = first_eval_batch.reshape((1, n_input, n_features))\n",
    "current_pred = model.predict(current_batch)[0]\n",
    "print(current_pred)\n",
    "fin_pred = scaler.inverse_transform(current_pred)\n",
    "print(fin_pred)\n",
    "print(scaler.get_params(deep=True))"
   ]
  },
  {
   "cell_type": "code",
   "execution_count": 12,
   "id": "f5b1582b",
   "metadata": {
    "execution": {
     "iopub.execute_input": "2022-03-23T21:44:17.731844Z",
     "iopub.status.busy": "2022-03-23T21:44:17.730975Z",
     "iopub.status.idle": "2022-03-23T21:44:17.755561Z",
     "shell.execute_reply": "2022-03-23T21:44:17.755036Z",
     "shell.execute_reply.started": "2022-03-23T21:41:41.805095Z"
    },
    "papermill": {
     "duration": 0.294567,
     "end_time": "2022-03-23T21:44:17.755688",
     "exception": false,
     "start_time": "2022-03-23T21:44:17.461121",
     "status": "completed"
    },
    "tags": []
   },
   "outputs": [],
   "source": [
    "model.save(\"UPL_model.h5\")"
   ]
  }
 ],
 "metadata": {
  "kernelspec": {
   "display_name": "Python 3",
   "language": "python",
   "name": "python3"
  },
  "language_info": {
   "codemirror_mode": {
    "name": "ipython",
    "version": 3
   },
   "file_extension": ".py",
   "mimetype": "text/x-python",
   "name": "python",
   "nbconvert_exporter": "python",
   "pygments_lexer": "ipython3",
   "version": "3.7.12"
  },
  "papermill": {
   "default_parameters": {},
   "duration": 65.410263,
   "end_time": "2022-03-23T21:44:20.974774",
   "environment_variables": {},
   "exception": null,
   "input_path": "__notebook__.ipynb",
   "output_path": "__notebook__.ipynb",
   "parameters": {},
   "start_time": "2022-03-23T21:43:15.564511",
   "version": "2.3.3"
  }
 },
 "nbformat": 4,
 "nbformat_minor": 5
}
