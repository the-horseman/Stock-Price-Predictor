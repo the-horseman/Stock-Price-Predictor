{
 "cells": [
  {
   "cell_type": "code",
   "execution_count": 1,
   "id": "90bcb9b9",
   "metadata": {
    "_cell_guid": "b1076dfc-b9ad-4769-8c92-a6c4dae69d19",
    "_uuid": "8f2839f25d086af736a60e9eeb907d3b93b6e0e5",
    "execution": {
     "iopub.execute_input": "2022-03-23T21:37:13.354663Z",
     "iopub.status.busy": "2022-03-23T21:37:13.352923Z",
     "iopub.status.idle": "2022-03-23T21:37:14.724750Z",
     "shell.execute_reply": "2022-03-23T21:37:14.725369Z",
     "shell.execute_reply.started": "2022-03-23T21:31:09.960119Z"
    },
    "papermill": {
     "duration": 1.388809,
     "end_time": "2022-03-23T21:37:14.725657",
     "exception": false,
     "start_time": "2022-03-23T21:37:13.336848",
     "status": "completed"
    },
    "tags": []
   },
   "outputs": [],
   "source": [
    "import pandas as pd\n",
    "import numpy as np\n",
    "import matplotlib.pyplot as plt\n",
    "import statsmodels.api as sm\n",
    "import joblib"
   ]
  },
  {
   "cell_type": "code",
   "execution_count": 2,
   "id": "316d24df",
   "metadata": {
    "execution": {
     "iopub.execute_input": "2022-03-23T21:37:14.755474Z",
     "iopub.status.busy": "2022-03-23T21:37:14.754900Z",
     "iopub.status.idle": "2022-03-23T21:37:14.992155Z",
     "shell.execute_reply": "2022-03-23T21:37:14.992562Z",
     "shell.execute_reply.started": "2022-03-23T21:31:11.690772Z"
    },
    "papermill": {
     "duration": 0.254189,
     "end_time": "2022-03-23T21:37:14.992703",
     "exception": false,
     "start_time": "2022-03-23T21:37:14.738514",
     "status": "completed"
    },
    "tags": []
   },
   "outputs": [
    {
     "name": "stderr",
     "output_type": "stream",
     "text": [
      "/opt/conda/lib/python3.7/site-packages/statsmodels/graphics/tsaplots.py:353: FutureWarning: The default method 'yw' can produce PACF values outside of the [-1,1] interval. After 0.13, the default will change tounadjusted Yule-Walker ('ywm'). You can use this method now by setting method='ywm'.\n",
      "  FutureWarning,\n"
     ]
    },
    {
     "data": {
      "image/png": "[encoded data removed]",
      "text/plain": [
       "<Figure size 432x288 with 1 Axes>"
      ]
     },
     "metadata": {
      "needs_background": "light"
     },
     "output_type": "display_data"
    }
   ],
   "source": [
    "df = pd.read_csv(\"../input/stockpricepredictons/TVSMOTOR.NS.csv\", usecols=[\"Date\", \"Open\", \"Adj Close\", \"High\", \"Low\"], index_col='Date',parse_dates=True)\n",
    "df = df.iloc[-800::]\n",
    "sm.graphics.tsa.plot_pacf(df[\"Open\"], lags=10)\n",
    "plt.show()"
   ]
  },
  {
   "cell_type": "code",
   "execution_count": 3,
   "id": "38498d2b",
   "metadata": {
    "execution": {
     "iopub.execute_input": "2022-03-23T21:37:15.020435Z",
     "iopub.status.busy": "2022-03-23T21:37:15.019894Z",
     "iopub.status.idle": "2022-03-23T21:37:15.023549Z",
     "shell.execute_reply": "2022-03-23T21:37:15.022668Z",
     "shell.execute_reply.started": "2022-03-23T21:31:12.010798Z"
    },
    "papermill": {
     "duration": 0.019036,
     "end_time": "2022-03-23T21:37:15.023690",
     "exception": false,
     "start_time": "2022-03-23T21:37:15.004654",
     "status": "completed"
    },
    "tags": []
   },
   "outputs": [],
   "source": [
    "train = df"
   ]
  },
  {
   "cell_type": "code",
   "execution_count": 4,
   "id": "0ce3a02c",
   "metadata": {
    "execution": {
     "iopub.execute_input": "2022-03-23T21:37:15.078378Z",
     "iopub.status.busy": "2022-03-23T21:37:15.077710Z",
     "iopub.status.idle": "2022-03-23T21:37:15.146305Z",
     "shell.execute_reply": "2022-03-23T21:37:15.145854Z",
     "shell.execute_reply.started": "2022-03-23T21:31:12.020622Z"
    },
    "papermill": {
     "duration": 0.102167,
     "end_time": "2022-03-23T21:37:15.146424",
     "exception": false,
     "start_time": "2022-03-23T21:37:15.044257",
     "status": "completed"
    },
    "tags": []
   },
   "outputs": [
    {
     "data": {
      "text/plain": [
       "['TVSMOTOR_scaler.pkl']"
      ]
     },
     "execution_count": 4,
     "metadata": {},
     "output_type": "execute_result"
    }
   ],
   "source": [
    "from sklearn.preprocessing import MinMaxScaler\n",
    "scaler = MinMaxScaler()\n",
    "\n",
    "scaler.fit(train)\n",
    "scaled_train = scaler.transform(train)\n",
    "joblib.dump(scaler, 'TVSMOTOR_scaler.pkl') "
   ]
  },
  {
   "cell_type": "code",
   "execution_count": 5,
   "id": "914df4b0",
   "metadata": {
    "execution": {
     "iopub.execute_input": "2022-03-23T21:37:15.175229Z",
     "iopub.status.busy": "2022-03-23T21:37:15.174558Z",
     "iopub.status.idle": "2022-03-23T21:37:19.635400Z",
     "shell.execute_reply": "2022-03-23T21:37:19.635806Z",
     "shell.execute_reply.started": "2022-03-23T21:31:12.110559Z"
    },
    "papermill": {
     "duration": 4.476832,
     "end_time": "2022-03-23T21:37:19.636010",
     "exception": false,
     "start_time": "2022-03-23T21:37:15.159178",
     "status": "completed"
    },
    "tags": []
   },
   "outputs": [],
   "source": [
    "from keras.preprocessing.sequence import TimeseriesGenerator"
   ]
  },
  {
   "cell_type": "code",
   "execution_count": 6,
   "id": "85cd350b",
   "metadata": {
    "execution": {
     "iopub.execute_input": "2022-03-23T21:37:19.666462Z",
     "iopub.status.busy": "2022-03-23T21:37:19.665734Z",
     "iopub.status.idle": "2022-03-23T21:37:19.668284Z",
     "shell.execute_reply": "2022-03-23T21:37:19.667799Z",
     "shell.execute_reply.started": "2022-03-23T21:31:17.750871Z"
    },
    "papermill": {
     "duration": 0.019834,
     "end_time": "2022-03-23T21:37:19.668406",
     "exception": false,
     "start_time": "2022-03-23T21:37:19.648572",
     "status": "completed"
    },
    "tags": []
   },
   "outputs": [],
   "source": [
    "# define generator\n",
    "n_input = 1\n",
    "n_features = 4\n",
    "generator = TimeseriesGenerator(scaled_train, scaled_train, length=n_input, batch_size=1)"
   ]
  },
  {
   "cell_type": "code",
   "execution_count": 7,
   "id": "e5aba0f2",
   "metadata": {
    "execution": {
     "iopub.execute_input": "2022-03-23T21:37:19.698181Z",
     "iopub.status.busy": "2022-03-23T21:37:19.697558Z",
     "iopub.status.idle": "2022-03-23T21:37:19.700571Z",
     "shell.execute_reply": "2022-03-23T21:37:19.701143Z",
     "shell.execute_reply.started": "2022-03-23T21:31:17.759210Z"
    },
    "papermill": {
     "duration": 0.020824,
     "end_time": "2022-03-23T21:37:19.701306",
     "exception": false,
     "start_time": "2022-03-23T21:37:19.680482",
     "status": "completed"
    },
    "tags": []
   },
   "outputs": [
    {
     "name": "stdout",
     "output_type": "stream",
     "text": [
      "Given the Array: \n",
      "[0.6125749  0.54001868 0.60960337 0.57620075]\n",
      "Predict this y: \n",
      " [[0.59800394 0.54384328 0.61417637 0.60411309]]\n"
     ]
    }
   ],
   "source": [
    "X,y = generator[0]\n",
    "print(f'Given the Array: \\n{X.flatten()}')\n",
    "print(f'Predict this y: \\n {y}')"
   ]
  },
  {
   "cell_type": "code",
   "execution_count": 8,
   "id": "76d2fc85",
   "metadata": {
    "execution": {
     "iopub.execute_input": "2022-03-23T21:37:19.730236Z",
     "iopub.status.busy": "2022-03-23T21:37:19.729430Z",
     "iopub.status.idle": "2022-03-23T21:37:19.733293Z",
     "shell.execute_reply": "2022-03-23T21:37:19.733657Z",
     "shell.execute_reply.started": "2022-03-23T21:31:17.775645Z"
    },
    "papermill": {
     "duration": 0.018937,
     "end_time": "2022-03-23T21:37:19.733773",
     "exception": false,
     "start_time": "2022-03-23T21:37:19.714836",
     "status": "completed"
    },
    "tags": []
   },
   "outputs": [],
   "source": [
    "from keras.models import Sequential\n",
    "from keras.layers import Dense\n",
    "from keras.layers import LSTM"
   ]
  },
  {
   "cell_type": "code",
   "execution_count": 9,
   "id": "6f022cf5",
   "metadata": {
    "execution": {
     "iopub.execute_input": "2022-03-23T21:37:19.762817Z",
     "iopub.status.busy": "2022-03-23T21:37:19.762249Z",
     "iopub.status.idle": "2022-03-23T21:37:22.247108Z",
     "shell.execute_reply": "2022-03-23T21:37:22.247693Z",
     "shell.execute_reply.started": "2022-03-23T21:31:17.786704Z"
    },
    "papermill": {
     "duration": 2.501987,
     "end_time": "2022-03-23T21:37:22.247883",
     "exception": false,
     "start_time": "2022-03-23T21:37:19.745896",
     "status": "completed"
    },
    "tags": []
   },
   "outputs": [
    {
     "name": "stderr",
     "output_type": "stream",
     "text": [
      "2022-03-23 21:37:19.831012: I tensorflow/stream_executor/cuda/cuda_gpu_executor.cc:937] successful NUMA node read from SysFS had negative value (-1), but there must be at least one NUMA node, so returning NUMA node zero\n",
      "2022-03-23 21:37:19.923304: I tensorflow/stream_executor/cuda/cuda_gpu_executor.cc:937] successful NUMA node read from SysFS had negative value (-1), but there must be at least one NUMA node, so returning NUMA node zero\n",
      "2022-03-23 21:37:19.924164: I tensorflow/stream_executor/cuda/cuda_gpu_executor.cc:937] successful NUMA node read from SysFS had negative value (-1), but there must be at least one NUMA node, so returning NUMA node zero\n",
      "2022-03-23 21:37:19.925956: I tensorflow/core/platform/cpu_feature_guard.cc:142] This TensorFlow binary is optimized with oneAPI Deep Neural Network Library (oneDNN) to use the following CPU instructions in performance-critical operations:  AVX2 AVX512F FMA\n",
      "To enable them in other operations, rebuild TensorFlow with the appropriate compiler flags.\n",
      "2022-03-23 21:37:19.926885: I tensorflow/stream_executor/cuda/cuda_gpu_executor.cc:937] successful NUMA node read from SysFS had negative value (-1), but there must be at least one NUMA node, so returning NUMA node zero\n",
      "2022-03-23 21:37:19.927798: I tensorflow/stream_executor/cuda/cuda_gpu_executor.cc:937] successful NUMA node read from SysFS had negative value (-1), but there must be at least one NUMA node, so returning NUMA node zero\n",
      "2022-03-23 21:37:19.928771: I tensorflow/stream_executor/cuda/cuda_gpu_executor.cc:937] successful NUMA node read from SysFS had negative value (-1), but there must be at least one NUMA node, so returning NUMA node zero\n",
      "2022-03-23 21:37:21.784277: I tensorflow/stream_executor/cuda/cuda_gpu_executor.cc:937] successful NUMA node read from SysFS had negative value (-1), but there must be at least one NUMA node, so returning NUMA node zero\n",
      "2022-03-23 21:37:21.785062: I tensorflow/stream_executor/cuda/cuda_gpu_executor.cc:937] successful NUMA node read from SysFS had negative value (-1), but there must be at least one NUMA node, so returning NUMA node zero\n",
      "2022-03-23 21:37:21.785737: I tensorflow/stream_executor/cuda/cuda_gpu_executor.cc:937] successful NUMA node read from SysFS had negative value (-1), but there must be at least one NUMA node, so returning NUMA node zero\n",
      "2022-03-23 21:37:21.786354: I tensorflow/core/common_runtime/gpu/gpu_device.cc:1510] Created device /job:localhost/replica:0/task:0/device:GPU:0 with 15403 MB memory:  -> device: 0, name: Tesla P100-PCIE-16GB, pci bus id: 0000:00:04.0, compute capability: 6.0\n"
     ]
    }
   ],
   "source": [
    "# define model\n",
    "model = Sequential()\n",
    "model.add(LSTM(150, activation='relu', input_shape=(n_input, n_features),return_sequences=True))\n",
    "model.add(Dense(4))\n",
    "model.compile(optimizer='adam', loss='mse')"
   ]
  },
  {
   "cell_type": "code",
   "execution_count": 10,
   "id": "0e489479",
   "metadata": {
    "execution": {
     "iopub.execute_input": "2022-03-23T21:37:22.278878Z",
     "iopub.status.busy": "2022-03-23T21:37:22.278189Z",
     "iopub.status.idle": "2022-03-23T21:38:03.919868Z",
     "shell.execute_reply": "2022-03-23T21:38:03.919437Z",
     "shell.execute_reply.started": "2022-03-23T21:31:21.150728Z"
    },
    "papermill": {
     "duration": 41.658088,
     "end_time": "2022-03-23T21:38:03.920010",
     "exception": false,
     "start_time": "2022-03-23T21:37:22.261922",
     "status": "completed"
    },
    "tags": []
   },
   "outputs": [
    {
     "name": "stderr",
     "output_type": "stream",
     "text": [
      "2022-03-23 21:37:22.327169: I tensorflow/compiler/mlir/mlir_graph_optimization_pass.cc:185] None of the MLIR Optimization Passes are enabled (registered 2)\n"
     ]
    },
    {
     "name": "stdout",
     "output_type": "stream",
     "text": [
      "Epoch 1/10\n",
      "799/799 [==============================] - 6s 5ms/step - loss: 0.0136\n",
      "Epoch 2/10\n",
      "799/799 [==============================] - 4s 5ms/step - loss: 5.6431e-04\n",
      "Epoch 3/10\n",
      "799/799 [==============================] - 4s 5ms/step - loss: 5.0873e-04\n",
      "Epoch 4/10\n",
      "799/799 [==============================] - 4s 5ms/step - loss: 5.3312e-04\n",
      "Epoch 5/10\n",
      "799/799 [==============================] - 4s 6ms/step - loss: 5.0495e-04\n",
      "Epoch 6/10\n",
      "799/799 [==============================] - 4s 5ms/step - loss: 5.1478e-04\n",
      "Epoch 7/10\n",
      "799/799 [==============================] - 4s 5ms/step - loss: 4.9951e-04\n",
      "Epoch 8/10\n",
      "799/799 [==============================] - 4s 5ms/step - loss: 4.8871e-04\n",
      "Epoch 9/10\n",
      "799/799 [==============================] - 4s 5ms/step - loss: 4.9861e-04\n",
      "Epoch 10/10\n",
      "799/799 [==============================] - 4s 5ms/step - loss: 5.0551e-04\n"
     ]
    },
    {
     "data": {
      "text/plain": [
       "<keras.callbacks.History at 0x7f7fd5bd9810>"
      ]
     },
     "execution_count": 10,
     "metadata": {},
     "output_type": "execute_result"
    }
   ],
   "source": [
    "# fit model\n",
    "model.fit(generator,epochs=10)"
   ]
  },
  {
   "cell_type": "code",
   "execution_count": 11,
   "id": "1836c397",
   "metadata": {
    "execution": {
     "iopub.execute_input": "2022-03-23T21:38:04.450198Z",
     "iopub.status.busy": "2022-03-23T21:38:04.449394Z",
     "iopub.status.idle": "2022-03-23T21:38:04.817717Z",
     "shell.execute_reply": "2022-03-23T21:38:04.817289Z",
     "shell.execute_reply.started": "2022-03-23T21:32:32.301540Z"
    },
    "papermill": {
     "duration": 0.629058,
     "end_time": "2022-03-23T21:38:04.817838",
     "exception": false,
     "start_time": "2022-03-23T21:38:04.188780",
     "status": "completed"
    },
    "tags": []
   },
   "outputs": [
    {
     "name": "stdout",
     "output_type": "stream",
     "text": [
      "[[0.7232338  0.6445888  0.72461766 0.716455  ]]\n",
      "[[616.34015 623.44965 604.54645 611.16254]]\n",
      "{'clip': False, 'copy': True, 'feature_range': (0, 1)}\n"
     ]
    }
   ],
   "source": [
    "first_eval_batch = scaled_train[-n_input:]\n",
    "current_batch = first_eval_batch.reshape((1, n_input, n_features))\n",
    "current_pred = model.predict(current_batch)[0]\n",
    "print(current_pred)\n",
    "fin_pred = scaler.inverse_transform(current_pred)\n",
    "print(fin_pred)\n",
    "print(scaler.get_params(deep=True))"
   ]
  },
  {
   "cell_type": "code",
   "execution_count": 12,
   "id": "985b93a5",
   "metadata": {
    "execution": {
     "iopub.execute_input": "2022-03-23T21:38:05.322171Z",
     "iopub.status.busy": "2022-03-23T21:38:05.321329Z",
     "iopub.status.idle": "2022-03-23T21:38:05.342133Z",
     "shell.execute_reply": "2022-03-23T21:38:05.341645Z",
     "shell.execute_reply.started": "2022-03-23T21:32:32.762919Z"
    },
    "papermill": {
     "duration": 0.27638,
     "end_time": "2022-03-23T21:38:05.342249",
     "exception": false,
     "start_time": "2022-03-23T21:38:05.065869",
     "status": "completed"
    },
    "tags": []
   },
   "outputs": [],
   "source": [
    "model.save(\"TVSMOTOR_model.h5\")"
   ]
  }
 ],
 "metadata": {
  "kernelspec": {
   "display_name": "Python 3",
   "language": "python",
   "name": "python3"
  },
  "language_info": {
   "codemirror_mode": {
    "name": "ipython",
    "version": 3
   },
   "file_extension": ".py",
   "mimetype": "text/x-python",
   "name": "python",
   "nbconvert_exporter": "python",
   "pygments_lexer": "ipython3",
   "version": "3.7.12"
  },
  "papermill": {
   "default_parameters": {},
   "duration": 64.502429,
   "end_time": "2022-03-23T21:38:09.242507",
   "environment_variables": {},
   "exception": null,
   "input_path": "__notebook__.ipynb",
   "output_path": "__notebook__.ipynb",
   "parameters": {},
   "start_time": "2022-03-23T21:37:04.740078",
   "version": "2.3.3"
  }
 },
 "nbformat": 4,
 "nbformat_minor": 5
}
